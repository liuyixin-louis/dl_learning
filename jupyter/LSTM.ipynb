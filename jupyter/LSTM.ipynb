{
  "nbformat": 4,
  "nbformat_minor": 0,
  "metadata": {
    "colab": {
      "name": "LSTM.ipynb",
      "provenance": [],
      "collapsed_sections": [
        "dsbwe3DjdzWN"
      ],
      "mount_file_id": "1JBh7lTGWfs7rZYZ6I6X3rlMjBv9CRj_w",
      "authorship_tag": "ABX9TyM1FTKzqYZAW+EKunlA91Cg",
      "include_colab_link": true
    },
    "kernelspec": {
      "name": "python3",
      "display_name": "Python 3"
    },
    "accelerator": "GPU"
  },
  "cells": [
    {
      "cell_type": "markdown",
      "metadata": {
        "id": "view-in-github",
        "colab_type": "text"
      },
      "source": [
        "<a href=\"https://colab.research.google.com/github/liuyixin-louis/dl_learning/blob/master/LSTM.ipynb\" target=\"_parent\"><img src=\"https://colab.research.google.com/assets/colab-badge.svg\" alt=\"Open In Colab\"/></a>"
      ]
    },
    {
      "cell_type": "markdown",
      "metadata": {
        "id": "fBLv4IkuGZL_",
        "colab_type": "text"
      },
      "source": [
        "# lstm\n",
        "## 疫情期间网民情绪识别 https://www.datafountain.cn/competitions/423/datasets"
      ]
    },
    {
      "cell_type": "code",
      "metadata": {
        "id": "cUGFgMF_Jlv4",
        "colab_type": "code",
        "colab": {
          "base_uri": "https://localhost:8080/",
          "height": 33
        },
        "outputId": "590e1520-6fa4-425c-ef42-b095b2764282"
      },
      "source": [
        "%tensorflow_version 1.x"
      ],
      "execution_count": 1,
      "outputs": [
        {
          "output_type": "stream",
          "text": [
            "TensorFlow 1.x selected.\n"
          ],
          "name": "stdout"
        }
      ]
    },
    {
      "cell_type": "code",
      "metadata": {
        "id": "5xUXE8u_GUn-",
        "colab_type": "code",
        "colab": {}
      },
      "source": [
        "# 数据导入及初步分析\n",
        "import pandas as pd\n",
        "\n",
        "import pandas as pd #导入Pandas\n",
        "import numpy as np #导入Numpy\n",
        "import jieba #导入结巴分词\n",
        "\n",
        "from tensorflow.keras import backend\n",
        "from keras.preprocessing import sequence\n",
        "from keras.optimizers import SGD, RMSprop, Adagrad\n",
        "from keras.utils import np_utils\n",
        "from keras.models import Sequential\n",
        "from keras.layers.core import Dense, Dropout, Activation\n",
        "from keras.layers.embeddings import Embedding\n",
        "from keras.layers.recurrent import LSTM, GRU\n",
        "\n",
        "from __future__ import absolute_import #导入3.x的特征函数\n",
        "from __future__ import print_function"
      ],
      "execution_count": 0,
      "outputs": []
    },
    {
      "cell_type": "code",
      "metadata": {
        "id": "YRRm60FRcR4M",
        "colab_type": "code",
        "colab": {}
      },
      "source": [
        "#　导入数据\n",
        "label_data = pd.read_csv('/content/drive/My Drive/nCoV_100k_train.labled.csv',encoding=\"utf-8\")\n",
        "exam_data = pd.read_csv('/content/drive/My Drive/exam.csv',encoding=\"utf-8\")"
      ],
      "execution_count": 0,
      "outputs": []
    },
    {
      "cell_type": "code",
      "metadata": {
        "id": "YkzDnIejHgLj",
        "colab_type": "code",
        "colab": {
          "base_uri": "https://localhost:8080/",
          "height": 623
        },
        "outputId": "2cb93df3-30f9-4aea-caf3-3ca6498363cc"
      },
      "source": [
        "\n",
        "label_data"
      ],
      "execution_count": 330,
      "outputs": [
        {
          "output_type": "execute_result",
          "data": {
            "text/html": [
              "<div>\n",
              "<style scoped>\n",
              "    .dataframe tbody tr th:only-of-type {\n",
              "        vertical-align: middle;\n",
              "    }\n",
              "\n",
              "    .dataframe tbody tr th {\n",
              "        vertical-align: top;\n",
              "    }\n",
              "\n",
              "    .dataframe thead th {\n",
              "        text-align: right;\n",
              "    }\n",
              "</style>\n",
              "<table border=\"1\" class=\"dataframe\">\n",
              "  <thead>\n",
              "    <tr style=\"text-align: right;\">\n",
              "      <th></th>\n",
              "      <th>微博id</th>\n",
              "      <th>微博发布时间</th>\n",
              "      <th>发布人账号</th>\n",
              "      <th>微博中文内容</th>\n",
              "      <th>微博图片</th>\n",
              "      <th>微博视频</th>\n",
              "      <th>情感倾向</th>\n",
              "    </tr>\n",
              "  </thead>\n",
              "  <tbody>\n",
              "    <tr>\n",
              "      <th>0</th>\n",
              "      <td>4456072029125500</td>\n",
              "      <td>01月01日 23:50</td>\n",
              "      <td>存曦1988</td>\n",
              "      <td>写在年末冬初孩子流感的第五天，我们仍然没有忘记热情拥抱这2020年的第一天。带着一丝迷信，早...</td>\n",
              "      <td>['https://ww2.sinaimg.cn/orj360/005VnA1zly1gah...</td>\n",
              "      <td>[]</td>\n",
              "      <td>0</td>\n",
              "    </tr>\n",
              "    <tr>\n",
              "      <th>1</th>\n",
              "      <td>4456074167480980</td>\n",
              "      <td>01月01日 23:58</td>\n",
              "      <td>LunaKrys</td>\n",
              "      <td>开年大模型…累到以为自己发烧了腰疼膝盖疼腿疼胳膊疼脖子疼#Luna的Krystallife#?</td>\n",
              "      <td>[]</td>\n",
              "      <td>[]</td>\n",
              "      <td>-1</td>\n",
              "    </tr>\n",
              "    <tr>\n",
              "      <th>2</th>\n",
              "      <td>4456054253264520</td>\n",
              "      <td>01月01日 22:39</td>\n",
              "      <td>小王爷学辩论o_O</td>\n",
              "      <td>邱晨这就是我爹，爹，发烧快好，毕竟美好的假期拿来养病不太好，假期还是要好好享受快乐，爹，新...</td>\n",
              "      <td>['https://ww2.sinaimg.cn/thumb150/006ymYXKgy1g...</td>\n",
              "      <td>[]</td>\n",
              "      <td>1</td>\n",
              "    </tr>\n",
              "    <tr>\n",
              "      <th>3</th>\n",
              "      <td>4456061509126470</td>\n",
              "      <td>01月01日 23:08</td>\n",
              "      <td>芩鎟</td>\n",
              "      <td>新年的第一天感冒又发烧的也太衰了但是我要想着明天一定会好的?</td>\n",
              "      <td>['https://ww2.sinaimg.cn/orj360/005FL9LZgy1gah...</td>\n",
              "      <td>[]</td>\n",
              "      <td>1</td>\n",
              "    </tr>\n",
              "    <tr>\n",
              "      <th>4</th>\n",
              "      <td>4455979322528190</td>\n",
              "      <td>01月01日 17:42</td>\n",
              "      <td>changlwj</td>\n",
              "      <td>问：我们意念里有坏的想法了，天神就会给记下来，那如果有好的想法也会被记下来吗？答：那当然了。...</td>\n",
              "      <td>[]</td>\n",
              "      <td>[]</td>\n",
              "      <td>1</td>\n",
              "    </tr>\n",
              "    <tr>\n",
              "      <th>...</th>\n",
              "      <td>...</td>\n",
              "      <td>...</td>\n",
              "      <td>...</td>\n",
              "      <td>...</td>\n",
              "      <td>...</td>\n",
              "      <td>...</td>\n",
              "      <td>...</td>\n",
              "    </tr>\n",
              "    <tr>\n",
              "      <th>99995</th>\n",
              "      <td>4473033438259880</td>\n",
              "      <td>02月17日 19:08</td>\n",
              "      <td>中国教育新闻网</td>\n",
              "      <td>#抗击新型肺炎第一线#【@中国计量大学研制新冠病毒蛋白标准样品】记者从中国计量大学获悉，新型...</td>\n",
              "      <td>['https://ww1.sinaimg.cn/orj360/682cebefly1gbz...</td>\n",
              "      <td>[]</td>\n",
              "      <td>0</td>\n",
              "    </tr>\n",
              "    <tr>\n",
              "      <th>99996</th>\n",
              "      <td>4472969222714290</td>\n",
              "      <td>02月17日 14:53</td>\n",
              "      <td>fuzhuoting</td>\n",
              "      <td>1、类RaTG13病毒（一种从云南蝙蝠身上分离出来的冠状病毒）可能是2019-nCoV的源头...</td>\n",
              "      <td>[]</td>\n",
              "      <td>[]</td>\n",
              "      <td>0</td>\n",
              "    </tr>\n",
              "    <tr>\n",
              "      <th>99997</th>\n",
              "      <td>4473035904435920</td>\n",
              "      <td>02月17日 19:18</td>\n",
              "      <td>蝌蚪五线谱</td>\n",
              "      <td>#微博辟谣#没有证据表明，吃大蒜、漱口水、涂抹芝麻油、生理盐水洗鼻子等手段可以防止感染新型冠...</td>\n",
              "      <td>['https://ww4.sinaimg.cn/orj360/6d2cc4e6ly1gbz...</td>\n",
              "      <td>[]</td>\n",
              "      <td>0</td>\n",
              "    </tr>\n",
              "    <tr>\n",
              "      <th>99998</th>\n",
              "      <td>4472950743017610</td>\n",
              "      <td>02月17日 13:40</td>\n",
              "      <td>医库</td>\n",
              "      <td>【新冠疫情最受关注的十一篇英文核心期刊论文全解析】本文整理了关于新型冠状病毒最受关注的十一篇...</td>\n",
              "      <td>[]</td>\n",
              "      <td>[]</td>\n",
              "      <td>1</td>\n",
              "    </tr>\n",
              "    <tr>\n",
              "      <th>99999</th>\n",
              "      <td>4472870103356260</td>\n",
              "      <td>02月17日 08:19</td>\n",
              "      <td>有度为王</td>\n",
              "      <td>从蝙蝠携带的冠状病毒变异成2019-nCoV冠状病毒,怎样才能发生变异呢？有两种可能1.自然...</td>\n",
              "      <td>[]</td>\n",
              "      <td>[]</td>\n",
              "      <td>0</td>\n",
              "    </tr>\n",
              "  </tbody>\n",
              "</table>\n",
              "<p>100000 rows × 7 columns</p>\n",
              "</div>"
            ],
            "text/plain": [
              "                   微博id        微博发布时间  ... 微博视频 情感倾向\n",
              "0      4456072029125500  01月01日 23:50  ...   []    0\n",
              "1      4456074167480980  01月01日 23:58  ...   []   -1\n",
              "2      4456054253264520  01月01日 22:39  ...   []    1\n",
              "3      4456061509126470  01月01日 23:08  ...   []    1\n",
              "4      4455979322528190  01月01日 17:42  ...   []    1\n",
              "...                 ...           ...  ...  ...  ...\n",
              "99995  4473033438259880  02月17日 19:08  ...   []    0\n",
              "99996  4472969222714290  02月17日 14:53  ...   []    0\n",
              "99997  4473035904435920  02月17日 19:18  ...   []    0\n",
              "99998  4472950743017610  02月17日 13:40  ...   []    1\n",
              "99999  4472870103356260  02月17日 08:19  ...   []    0\n",
              "\n",
              "[100000 rows x 7 columns]"
            ]
          },
          "metadata": {
            "tags": []
          },
          "execution_count": 330
        }
      ]
    },
    {
      "cell_type": "code",
      "metadata": {
        "id": "xph4CaSsq5Dt",
        "colab_type": "code",
        "colab": {
          "base_uri": "https://localhost:8080/",
          "height": 406
        },
        "outputId": "ea454386-7928-45ac-a2c5-bd88f993f620"
      },
      "source": [
        "exam_data"
      ],
      "execution_count": 331,
      "outputs": [
        {
          "output_type": "execute_result",
          "data": {
            "text/html": [
              "<div>\n",
              "<style scoped>\n",
              "    .dataframe tbody tr th:only-of-type {\n",
              "        vertical-align: middle;\n",
              "    }\n",
              "\n",
              "    .dataframe tbody tr th {\n",
              "        vertical-align: top;\n",
              "    }\n",
              "\n",
              "    .dataframe thead th {\n",
              "        text-align: right;\n",
              "    }\n",
              "</style>\n",
              "<table border=\"1\" class=\"dataframe\">\n",
              "  <thead>\n",
              "    <tr style=\"text-align: right;\">\n",
              "      <th></th>\n",
              "      <th>id</th>\n",
              "      <th>word</th>\n",
              "      <th>Unnamed: 2</th>\n",
              "    </tr>\n",
              "  </thead>\n",
              "  <tbody>\n",
              "    <tr>\n",
              "      <th>0</th>\n",
              "      <td>4.456070e+15</td>\n",
              "      <td>#你好2020#新年第一天元气满满的早起出门买早饭结果高估了自己抗冻能力回家成功冻发烧（大概...</td>\n",
              "      <td>NaN</td>\n",
              "    </tr>\n",
              "    <tr>\n",
              "      <th>1</th>\n",
              "      <td>4.456420e+15</td>\n",
              "      <td>大宝又感冒鼻塞咳嗽了，还有发烧。队友加班几天不回。感觉自己的情绪在家已然是随时引爆的状态。情...</td>\n",
              "      <td>NaN</td>\n",
              "    </tr>\n",
              "    <tr>\n",
              "      <th>2</th>\n",
              "      <td>4.456800e+15</td>\n",
              "      <td>还要去输两天液，这天也太容易感冒发烧了，一定要多喝热水啊?</td>\n",
              "      <td>NaN</td>\n",
              "    </tr>\n",
              "    <tr>\n",
              "      <th>3</th>\n",
              "      <td>4.456790e+15</td>\n",
              "      <td>我太难了别人怎么发烧都没事就我一检查甲型流感?</td>\n",
              "      <td>NaN</td>\n",
              "    </tr>\n",
              "    <tr>\n",
              "      <th>4</th>\n",
              "      <td>4.457090e+15</td>\n",
              "      <td>果然是要病一场的喽回来第三天开始感冒今儿还发烧了喉咙眼睛都难受的一匹怎么样能不经意让我的毕设...</td>\n",
              "      <td>NaN</td>\n",
              "    </tr>\n",
              "    <tr>\n",
              "      <th>...</th>\n",
              "      <td>...</td>\n",
              "      <td>...</td>\n",
              "      <td>...</td>\n",
              "    </tr>\n",
              "    <tr>\n",
              "      <th>9995</th>\n",
              "      <td>4.464180e+15</td>\n",
              "      <td>「2020的黑天鹅事件」&gt;2019-nCov?</td>\n",
              "      <td>NaN</td>\n",
              "    </tr>\n",
              "    <tr>\n",
              "      <th>9996</th>\n",
              "      <td>4.464270e+15</td>\n",
              "      <td>心灵鸡汤#武汉加油#我们所有人，和我们这个国家一起，正在经历着一场这个星球上史无前例的考验...</td>\n",
              "      <td>NaN</td>\n",
              "    </tr>\n",
              "    <tr>\n",
              "      <th>9997</th>\n",
              "      <td>4.464290e+15</td>\n",
              "      <td>武大人民医院：发热咳嗽并非新冠肺炎的唯一首发症状(来自@界面新闻)武汉大学人民医院研究组1月...</td>\n",
              "      <td>NaN</td>\n",
              "    </tr>\n",
              "    <tr>\n",
              "      <th>9998</th>\n",
              "      <td>4.465350e+15</td>\n",
              "      <td>闭关第二天发现一根白发2019-nCoV?</td>\n",
              "      <td>NaN</td>\n",
              "    </tr>\n",
              "    <tr>\n",
              "      <th>9999</th>\n",
              "      <td>4.465490e+15</td>\n",
              "      <td>//@高反台:昨天还在想如果有动画短片就好了，今天就有了，视频果然更直接有效吧。</td>\n",
              "      <td>NaN</td>\n",
              "    </tr>\n",
              "  </tbody>\n",
              "</table>\n",
              "<p>10000 rows × 3 columns</p>\n",
              "</div>"
            ],
            "text/plain": [
              "                id  ... Unnamed: 2\n",
              "0     4.456070e+15  ...        NaN\n",
              "1     4.456420e+15  ...        NaN\n",
              "2     4.456800e+15  ...        NaN\n",
              "3     4.456790e+15  ...        NaN\n",
              "4     4.457090e+15  ...        NaN\n",
              "...            ...  ...        ...\n",
              "9995  4.464180e+15  ...        NaN\n",
              "9996  4.464270e+15  ...        NaN\n",
              "9997  4.464290e+15  ...        NaN\n",
              "9998  4.465350e+15  ...        NaN\n",
              "9999  4.465490e+15  ...        NaN\n",
              "\n",
              "[10000 rows x 3 columns]"
            ]
          },
          "metadata": {
            "tags": []
          },
          "execution_count": 331
        }
      ]
    },
    {
      "cell_type": "code",
      "metadata": {
        "id": "j7vefmtEHTMe",
        "colab_type": "code",
        "colab": {}
      },
      "source": [
        "cw = lambda x: list(jieba.cut(x)) #定义分词函数"
      ],
      "execution_count": 0,
      "outputs": []
    },
    {
      "cell_type": "code",
      "metadata": {
        "id": "mnYa3yjHHbyE",
        "colab_type": "code",
        "colab": {}
      },
      "source": [
        "label_data = label_data[['微博中文内容','情感倾向']] \n",
        "exam_data = exam_data[['id','word']]\n",
        "label_data = label_data[label_data['微博中文内容'].notnull()] #仅读取非空评论\n",
        "# exam_data = exam_data[exam_data['word'].notnull()] #仅读取非空评论\n",
        "exam_data['word'] = exam_data['word'].fillna('的')\n",
        "label_data['微博中文内容'] = label_data['微博中文内容'].apply(cw) #评论分词 \n",
        "exam_data['word'] = exam_data['word'].apply(cw) #评论分词 "
      ],
      "execution_count": 0,
      "outputs": []
    },
    {
      "cell_type": "code",
      "metadata": {
        "id": "7mepFb4IIQNP",
        "colab_type": "code",
        "colab": {}
      },
      "source": [
        "d2v_train = pd.concat([label_data['微博中文内容'],exam_data['word']], ignore_index = True) \n",
        "w = [] #将所有词语整合在一起\n",
        "for i in d2v_train:\n",
        "    w.extend(i)\n",
        "dict = pd.DataFrame(pd.Series(w).value_counts()) #统计词的出现次数\n",
        "del w,d2v_train\n",
        "dict['id']=list(range(1,len(dict)+1))\n",
        "dict\n",
        "pn =label_data\n",
        "pn.columns=['words','mark']\n",
        "get_sent = lambda x: list(dict['id'][x])\n",
        "pn['sent'] = pn['words'].apply(get_sent) #速度太慢\n",
        "\n",
        "#　扩开\n",
        "maxlen = 1000\n",
        "print(\"Pad sequences (samples x time)\")\n",
        "pn['sent'] = list(sequence.pad_sequences(pn['sent'], maxlen=maxlen))\n"
      ],
      "execution_count": 0,
      "outputs": []
    },
    {
      "cell_type": "code",
      "metadata": {
        "id": "2RVjuNCKJO6X",
        "colab_type": "code",
        "colab": {}
      },
      "source": [
        "# 数据集划分\n",
        "x = np.array(list(pn['sent']))[::2] #训练集\n",
        "y = np.array(list(pn['mark']))[::2]\n",
        "xt = np.array(list(pn['sent']))[1::2] #测试集\n",
        "yt = np.array(list(pn['mark']))[1::2]\n",
        "xa = np.array(list(pn['sent'])) #全集\n",
        "ya = np.array(list(pn['mark']))"
      ],
      "execution_count": 0,
      "outputs": []
    },
    {
      "cell_type": "code",
      "metadata": {
        "id": "zpXhzAeHKeul",
        "colab_type": "code",
        "colab": {
          "base_uri": "https://localhost:8080/",
          "height": 103
        },
        "outputId": "33264c47-09ee-475d-f0c5-f9fb541b5070"
      },
      "source": [
        "def fix_softmax_3(y):\n",
        "  ｌ= []\n",
        "  for i in range(len(y)):\n",
        "    if y[i]=='-1':\n",
        "      l.append([1,0,0])\n",
        "    elif y[i]=='0':\n",
        "      l.append([0,1,0])\n",
        "    else:\n",
        "      l.append([0,0,1])\n",
        "  return np.array(l)\n",
        "y = fix_softmax_3(y)\n",
        "yt = fix_softmax_3(yt)\n",
        "ya = fix_softmax_3(ya)"
      ],
      "execution_count": 282,
      "outputs": [
        {
          "output_type": "stream",
          "text": [
            "/usr/local/lib/python3.6/dist-packages/ipykernel_launcher.py:4: FutureWarning: elementwise comparison failed; returning scalar instead, but in the future will perform elementwise comparison\n",
            "  after removing the cwd from sys.path.\n",
            "/usr/local/lib/python3.6/dist-packages/ipykernel_launcher.py:6: FutureWarning: elementwise comparison failed; returning scalar instead, but in the future will perform elementwise comparison\n",
            "  \n"
          ],
          "name": "stderr"
        }
      ]
    },
    {
      "cell_type": "code",
      "metadata": {
        "id": "1tlUHt4bTJkv",
        "colab_type": "code",
        "colab": {
          "base_uri": "https://localhost:8080/",
          "height": 133
        },
        "outputId": "74526fdc-9f18-440c-8e6d-88b2a49aaade"
      },
      "source": [
        "ya"
      ],
      "execution_count": 283,
      "outputs": [
        {
          "output_type": "execute_result",
          "data": {
            "text/plain": [
              "array([[0, 1, 0],\n",
              "       [1, 0, 0],\n",
              "       [0, 0, 1],\n",
              "       ...,\n",
              "       [0, 1, 0],\n",
              "       [0, 0, 1],\n",
              "       [0, 1, 0]])"
            ]
          },
          "metadata": {
            "tags": []
          },
          "execution_count": 283
        }
      ]
    },
    {
      "cell_type": "code",
      "metadata": {
        "id": "IphRbHx2Jioq",
        "colab_type": "code",
        "colab": {
          "base_uri": "https://localhost:8080/",
          "height": 33
        },
        "outputId": "9cf6d9ea-c1dd-4016-8c3b-6aae0ca29d3c"
      },
      "source": [
        "# import tensorflow as tf\n",
        "print('Build model...')\n",
        "model = Sequential()\n",
        "model.add(Embedding(len(dict)+1, 256))\n",
        "model.add(LSTM(128)) # try using a GRU instead, for fun\n",
        "model.add(Dropout(0.5))\n",
        "model.add(Dense(3, activation='softmax')) # Dense=>全连接层,输出维度=3\n",
        "model.add(Activation('softmax'))\n",
        "# model.add(Activation('sigmoid'))\n",
        "\n",
        "model.compile(loss='binary_crossentropy', optimizer='adam', metrics=['accuracy'])\n"
      ],
      "execution_count": 284,
      "outputs": [
        {
          "output_type": "stream",
          "text": [
            "Build model...\n"
          ],
          "name": "stdout"
        }
      ]
    },
    {
      "cell_type": "code",
      "metadata": {
        "id": "k_b6_aFlUP3o",
        "colab_type": "code",
        "colab": {
          "base_uri": "https://localhost:8080/",
          "height": 316
        },
        "outputId": "a683926f-ca0d-4d7c-c44e-b03a9cb872fc"
      },
      "source": [
        "model.summary()"
      ],
      "execution_count": 285,
      "outputs": [
        {
          "output_type": "stream",
          "text": [
            "Model: \"sequential_14\"\n",
            "_________________________________________________________________\n",
            "Layer (type)                 Output Shape              Param #   \n",
            "=================================================================\n",
            "embedding_14 (Embedding)     (None, None, 256)         40832768  \n",
            "_________________________________________________________________\n",
            "lstm_14 (LSTM)               (None, 128)               197120    \n",
            "_________________________________________________________________\n",
            "dropout_13 (Dropout)         (None, 128)               0         \n",
            "_________________________________________________________________\n",
            "dense_19 (Dense)             (None, 3)                 387       \n",
            "_________________________________________________________________\n",
            "activation_13 (Activation)   (None, 3)                 0         \n",
            "=================================================================\n",
            "Total params: 41,030,275\n",
            "Trainable params: 41,030,275\n",
            "Non-trainable params: 0\n",
            "_________________________________________________________________\n"
          ],
          "name": "stdout"
        }
      ]
    },
    {
      "cell_type": "code",
      "metadata": {
        "id": "P7E1BlruUPPO",
        "colab_type": "code",
        "colab": {
          "base_uri": "https://localhost:8080/",
          "height": 120
        },
        "outputId": "699247a7-fd8e-4267-e21a-1186f870f8cd"
      },
      "source": [
        "# all in train\n",
        "model.fit(xa, ya, batch_size=16, nb_epoch=1,verbose=1) #训练时间为若干个小时\n"
      ],
      "execution_count": 286,
      "outputs": [
        {
          "output_type": "stream",
          "text": [
            "/usr/local/lib/python3.6/dist-packages/ipykernel_launcher.py:1: UserWarning: The `nb_epoch` argument in `fit` has been renamed `epochs`.\n",
            "  \"\"\"Entry point for launching an IPython kernel.\n"
          ],
          "name": "stderr"
        },
        {
          "output_type": "stream",
          "text": [
            "Epoch 1/1\n",
            "99646/99646 [==============================] - 445s 4ms/step - loss: 0.5224 - acc: 0.7768\n"
          ],
          "name": "stdout"
        },
        {
          "output_type": "execute_result",
          "data": {
            "text/plain": [
              "<keras.callbacks.History at 0x7f123cc90128>"
            ]
          },
          "metadata": {
            "tags": []
          },
          "execution_count": 286
        }
      ]
    },
    {
      "cell_type": "code",
      "metadata": {
        "id": "D5It5SA8V72F",
        "colab_type": "code",
        "colab": {
          "base_uri": "https://localhost:8080/",
          "height": 33
        },
        "outputId": "b598e2f5-debc-4ebb-c762-00e1aa9e5580"
      },
      "source": [
        "# 损失和准确率\n",
        "loss, accuracy = model.evaluate(xt, yt)"
      ],
      "execution_count": 287,
      "outputs": [
        {
          "output_type": "stream",
          "text": [
            "49823/49823 [==============================] - 20s 404us/step\n"
          ],
          "name": "stdout"
        }
      ]
    },
    {
      "cell_type": "code",
      "metadata": {
        "id": "BZq3unYcXbsD",
        "colab_type": "code",
        "colab": {
          "base_uri": "https://localhost:8080/",
          "height": 50
        },
        "outputId": "a4445950-df84-416e-880e-f51a9d70324b"
      },
      "source": [
        "print('test loss: ', loss)\n",
        "print('test accuracy: ', accuracy)"
      ],
      "execution_count": 288,
      "outputs": [
        {
          "output_type": "stream",
          "text": [
            "test loss:  0.7619767839002788\n",
            "test accuracy:  0.5011474107681737\n"
          ],
          "name": "stdout"
        }
      ]
    },
    {
      "cell_type": "markdown",
      "metadata": {
        "id": "Kav_WnODYWer",
        "colab_type": "text"
      },
      "source": [
        "# exam"
      ]
    },
    {
      "cell_type": "code",
      "metadata": {
        "colab_type": "code",
        "id": "9g4qj80TsQxP",
        "colab": {
          "base_uri": "https://localhost:8080/",
          "height": 406
        },
        "outputId": "891b4f43-7ea0-4d13-e19f-949a8c429d74"
      },
      "source": [
        "exam_data"
      ],
      "execution_count": 289,
      "outputs": [
        {
          "output_type": "execute_result",
          "data": {
            "text/html": [
              "<div>\n",
              "<style scoped>\n",
              "    .dataframe tbody tr th:only-of-type {\n",
              "        vertical-align: middle;\n",
              "    }\n",
              "\n",
              "    .dataframe tbody tr th {\n",
              "        vertical-align: top;\n",
              "    }\n",
              "\n",
              "    .dataframe thead th {\n",
              "        text-align: right;\n",
              "    }\n",
              "</style>\n",
              "<table border=\"1\" class=\"dataframe\">\n",
              "  <thead>\n",
              "    <tr style=\"text-align: right;\">\n",
              "      <th></th>\n",
              "      <th>id</th>\n",
              "      <th>word</th>\n",
              "    </tr>\n",
              "  </thead>\n",
              "  <tbody>\n",
              "    <tr>\n",
              "      <th>0</th>\n",
              "      <td>4.456070e+15</td>\n",
              "      <td>[#, 你好, 2020, #, 新年, 第一天, 元气, 满满的, 早起, 出门, 买, ...</td>\n",
              "    </tr>\n",
              "    <tr>\n",
              "      <th>1</th>\n",
              "      <td>4.456420e+15</td>\n",
              "      <td>[大宝, 又, 感冒, 鼻塞, 咳嗽, 了, ，, 还有, 发烧, 。, 队友, 加班, 几...</td>\n",
              "    </tr>\n",
              "    <tr>\n",
              "      <th>2</th>\n",
              "      <td>4.456800e+15</td>\n",
              "      <td>[还要, 去, 输, 两天, 液, ，, 这天, 也, 太, 容易, 感冒, 发烧, 了, ...</td>\n",
              "    </tr>\n",
              "    <tr>\n",
              "      <th>3</th>\n",
              "      <td>4.456790e+15</td>\n",
              "      <td>[我太难, 了, 别人, 怎么, 发烧, 都, 没事, 就, 我, 一, 检查, 甲型, 流...</td>\n",
              "    </tr>\n",
              "    <tr>\n",
              "      <th>4</th>\n",
              "      <td>4.457090e+15</td>\n",
              "      <td>[果然, 是, 要, 病, 一场, 的, 喽, 回来, 第三天, 开始, 感冒, 今儿, 还...</td>\n",
              "    </tr>\n",
              "    <tr>\n",
              "      <th>...</th>\n",
              "      <td>...</td>\n",
              "      <td>...</td>\n",
              "    </tr>\n",
              "    <tr>\n",
              "      <th>9995</th>\n",
              "      <td>4.464180e+15</td>\n",
              "      <td>[「, 2020, 的, 黑天鹅, 事件, 」, &gt;, 2019, -, nCov, ?]</td>\n",
              "    </tr>\n",
              "    <tr>\n",
              "      <th>9996</th>\n",
              "      <td>4.464270e+15</td>\n",
              "      <td>[, 心灵鸡汤, #, 武汉, 加油, #, 我们, 所有人, ，, 和, 我们, 这个,...</td>\n",
              "    </tr>\n",
              "    <tr>\n",
              "      <th>9997</th>\n",
              "      <td>4.464290e+15</td>\n",
              "      <td>[武大, 人民, 医院, ：, 发热, 咳嗽, 并非, 新冠, 肺炎, 的, 唯一, 首发,...</td>\n",
              "    </tr>\n",
              "    <tr>\n",
              "      <th>9998</th>\n",
              "      <td>4.465350e+15</td>\n",
              "      <td>[闭关, 第二天, 发现, 一根, 白发, 2019, -, nCoV, ?]</td>\n",
              "    </tr>\n",
              "    <tr>\n",
              "      <th>9999</th>\n",
              "      <td>4.465490e+15</td>\n",
              "      <td>[/, /, @, 高反台, :, 昨天, 还, 在, 想, 如果, 有, 动画短片, 就,...</td>\n",
              "    </tr>\n",
              "  </tbody>\n",
              "</table>\n",
              "<p>10000 rows × 2 columns</p>\n",
              "</div>"
            ],
            "text/plain": [
              "                id                                               word\n",
              "0     4.456070e+15  [#, 你好, 2020, #, 新年, 第一天, 元气, 满满的, 早起, 出门, 买, ...\n",
              "1     4.456420e+15  [大宝, 又, 感冒, 鼻塞, 咳嗽, 了, ，, 还有, 发烧, 。, 队友, 加班, 几...\n",
              "2     4.456800e+15  [还要, 去, 输, 两天, 液, ，, 这天, 也, 太, 容易, 感冒, 发烧, 了, ...\n",
              "3     4.456790e+15  [我太难, 了, 别人, 怎么, 发烧, 都, 没事, 就, 我, 一, 检查, 甲型, 流...\n",
              "4     4.457090e+15  [果然, 是, 要, 病, 一场, 的, 喽, 回来, 第三天, 开始, 感冒, 今儿, 还...\n",
              "...            ...                                                ...\n",
              "9995  4.464180e+15      [「, 2020, 的, 黑天鹅, 事件, 」, >, 2019, -, nCov, ?]\n",
              "9996  4.464270e+15  [, 心灵鸡汤, #, 武汉, 加油, #, 我们, 所有人, ，, 和, 我们, 这个,...\n",
              "9997  4.464290e+15  [武大, 人民, 医院, ：, 发热, 咳嗽, 并非, 新冠, 肺炎, 的, 唯一, 首发,...\n",
              "9998  4.465350e+15            [闭关, 第二天, 发现, 一根, 白发, 2019, -, nCoV, ?]\n",
              "9999  4.465490e+15  [/, /, @, 高反台, :, 昨天, 还, 在, 想, 如果, 有, 动画短片, 就,...\n",
              "\n",
              "[10000 rows x 2 columns]"
            ]
          },
          "metadata": {
            "tags": []
          },
          "execution_count": 289
        }
      ]
    },
    {
      "cell_type": "code",
      "metadata": {
        "id": "8YXpOKr6eka6",
        "colab_type": "code",
        "colab": {
          "base_uri": "https://localhost:8080/",
          "height": 33
        },
        "outputId": "19631fe1-fd2c-48e2-9ca1-ea81e3d2d4b1"
      },
      "source": [
        "get_sent = lambda x: list(dict['id'][x])\n",
        "exam_data['sent'] = exam_data['word'].apply(get_sent) #转索引矩阵\n",
        "# 扩开：\n",
        "maxlen = 50\n",
        "print(\"Pad sequences (samples x time)\")\n",
        "exam_data['sent'] = list(sequence.pad_sequences(exam_data['sent'], maxlen=maxlen))"
      ],
      "execution_count": 290,
      "outputs": [
        {
          "output_type": "stream",
          "text": [
            "Pad sequences (samples x time)\n"
          ],
          "name": "stdout"
        }
      ]
    },
    {
      "cell_type": "code",
      "metadata": {
        "id": "3gsxuM8Hd1wc",
        "colab_type": "code",
        "colab": {}
      },
      "source": [
        "xe = np.array(list(exam_data['sent'])) #全集"
      ],
      "execution_count": 0,
      "outputs": []
    },
    {
      "cell_type": "code",
      "metadata": {
        "id": "nefbm-fKmGQP",
        "colab_type": "code",
        "colab": {
          "base_uri": "https://localhost:8080/",
          "height": 33
        },
        "outputId": "c400c2f1-60aa-4954-b85c-ead35775b14d"
      },
      "source": [
        "xe.shape"
      ],
      "execution_count": 295,
      "outputs": [
        {
          "output_type": "execute_result",
          "data": {
            "text/plain": [
              "(10000, 50)"
            ]
          },
          "metadata": {
            "tags": []
          },
          "execution_count": 295
        }
      ]
    },
    {
      "cell_type": "code",
      "metadata": {
        "id": "b7dVV9bDeWch",
        "colab_type": "code",
        "colab": {}
      },
      "source": [
        "result = model.predict_classes(xe)"
      ],
      "execution_count": 0,
      "outputs": []
    },
    {
      "cell_type": "code",
      "metadata": {
        "id": "lFuVqFAoxDum",
        "colab_type": "code",
        "colab": {
          "base_uri": "https://localhost:8080/",
          "height": 33
        },
        "outputId": "b11866fb-9aa2-41a7-cd86-c986157aee71"
      },
      "source": [
        "result"
      ],
      "execution_count": 297,
      "outputs": [
        {
          "output_type": "execute_result",
          "data": {
            "text/plain": [
              "array([0, 1, 0, ..., 1, 1, 1])"
            ]
          },
          "metadata": {
            "tags": []
          },
          "execution_count": 297
        }
      ]
    },
    {
      "cell_type": "code",
      "metadata": {
        "id": "ELkPRgXYqeBS",
        "colab_type": "code",
        "colab": {
          "base_uri": "https://localhost:8080/",
          "height": 33
        },
        "outputId": "eedbb139-4503-4cc3-e579-4087a7ab3c6e"
      },
      "source": [
        "np.sum(result==1)"
      ],
      "execution_count": 300,
      "outputs": [
        {
          "output_type": "execute_result",
          "data": {
            "text/plain": [
              "7095"
            ]
          },
          "metadata": {
            "tags": []
          },
          "execution_count": 300
        }
      ]
    },
    {
      "cell_type": "code",
      "metadata": {
        "id": "ERqi6Fvyfmwz",
        "colab_type": "code",
        "colab": {}
      },
      "source": [
        "result[result==2]=20\n",
        "result[result==1]=10\n",
        "result[result==0]=-10\n",
        "\n",
        "result[result==20]=1\n",
        "result[result==10]=0\n",
        "result[result==-10]=-1"
      ],
      "execution_count": 0,
      "outputs": []
    },
    {
      "cell_type": "code",
      "metadata": {
        "id": "HsgilpvDf5Kv",
        "colab_type": "code",
        "colab": {
          "base_uri": "https://localhost:8080/",
          "height": 33
        },
        "outputId": "2969520b-c588-416c-f991-8cfaf5808945"
      },
      "source": [
        "result"
      ],
      "execution_count": 302,
      "outputs": [
        {
          "output_type": "execute_result",
          "data": {
            "text/plain": [
              "array([-1,  0, -1, ...,  0,  0,  0])"
            ]
          },
          "metadata": {
            "tags": []
          },
          "execution_count": 302
        }
      ]
    },
    {
      "cell_type": "code",
      "metadata": {
        "id": "dLb8mHuhfBkJ",
        "colab_type": "code",
        "colab": {
          "base_uri": "https://localhost:8080/",
          "height": 33
        },
        "outputId": "8e7b626c-4ef6-460d-8d2c-8368d3825f2d"
      },
      "source": [
        "np.sum(result==0)"
      ],
      "execution_count": 305,
      "outputs": [
        {
          "output_type": "execute_result",
          "data": {
            "text/plain": [
              "7095"
            ]
          },
          "metadata": {
            "tags": []
          },
          "execution_count": 305
        }
      ]
    },
    {
      "cell_type": "code",
      "metadata": {
        "id": "xEgcc8K0gGIO",
        "colab_type": "code",
        "colab": {}
      },
      "source": [
        "# 打包\n",
        "exam_data['y'] = result"
      ],
      "execution_count": 0,
      "outputs": []
    },
    {
      "cell_type": "code",
      "metadata": {
        "id": "0I0iXGePg8TI",
        "colab_type": "code",
        "colab": {}
      },
      "source": [
        "result = exam_data[['id','y']]"
      ],
      "execution_count": 0,
      "outputs": []
    },
    {
      "cell_type": "code",
      "metadata": {
        "id": "eCGvSqnIhCJE",
        "colab_type": "code",
        "colab": {}
      },
      "source": [
        "result.to_csv('./result1.csv')"
      ],
      "execution_count": 0,
      "outputs": []
    },
    {
      "cell_type": "code",
      "metadata": {
        "id": "BYmIw6XYhhC-",
        "colab_type": "code",
        "colab": {
          "base_uri": "https://localhost:8080/",
          "height": 406
        },
        "outputId": "a81f1595-7d50-4892-ae41-912f65077979"
      },
      "source": [
        "result"
      ],
      "execution_count": 309,
      "outputs": [
        {
          "output_type": "execute_result",
          "data": {
            "text/html": [
              "<div>\n",
              "<style scoped>\n",
              "    .dataframe tbody tr th:only-of-type {\n",
              "        vertical-align: middle;\n",
              "    }\n",
              "\n",
              "    .dataframe tbody tr th {\n",
              "        vertical-align: top;\n",
              "    }\n",
              "\n",
              "    .dataframe thead th {\n",
              "        text-align: right;\n",
              "    }\n",
              "</style>\n",
              "<table border=\"1\" class=\"dataframe\">\n",
              "  <thead>\n",
              "    <tr style=\"text-align: right;\">\n",
              "      <th></th>\n",
              "      <th>id</th>\n",
              "      <th>y</th>\n",
              "    </tr>\n",
              "  </thead>\n",
              "  <tbody>\n",
              "    <tr>\n",
              "      <th>0</th>\n",
              "      <td>4.456070e+15</td>\n",
              "      <td>-1</td>\n",
              "    </tr>\n",
              "    <tr>\n",
              "      <th>1</th>\n",
              "      <td>4.456420e+15</td>\n",
              "      <td>0</td>\n",
              "    </tr>\n",
              "    <tr>\n",
              "      <th>2</th>\n",
              "      <td>4.456800e+15</td>\n",
              "      <td>-1</td>\n",
              "    </tr>\n",
              "    <tr>\n",
              "      <th>3</th>\n",
              "      <td>4.456790e+15</td>\n",
              "      <td>-1</td>\n",
              "    </tr>\n",
              "    <tr>\n",
              "      <th>4</th>\n",
              "      <td>4.457090e+15</td>\n",
              "      <td>-1</td>\n",
              "    </tr>\n",
              "    <tr>\n",
              "      <th>...</th>\n",
              "      <td>...</td>\n",
              "      <td>...</td>\n",
              "    </tr>\n",
              "    <tr>\n",
              "      <th>9995</th>\n",
              "      <td>4.464180e+15</td>\n",
              "      <td>0</td>\n",
              "    </tr>\n",
              "    <tr>\n",
              "      <th>9996</th>\n",
              "      <td>4.464270e+15</td>\n",
              "      <td>0</td>\n",
              "    </tr>\n",
              "    <tr>\n",
              "      <th>9997</th>\n",
              "      <td>4.464290e+15</td>\n",
              "      <td>0</td>\n",
              "    </tr>\n",
              "    <tr>\n",
              "      <th>9998</th>\n",
              "      <td>4.465350e+15</td>\n",
              "      <td>0</td>\n",
              "    </tr>\n",
              "    <tr>\n",
              "      <th>9999</th>\n",
              "      <td>4.465490e+15</td>\n",
              "      <td>0</td>\n",
              "    </tr>\n",
              "  </tbody>\n",
              "</table>\n",
              "<p>10000 rows × 2 columns</p>\n",
              "</div>"
            ],
            "text/plain": [
              "                id  y\n",
              "0     4.456070e+15 -1\n",
              "1     4.456420e+15  0\n",
              "2     4.456800e+15 -1\n",
              "3     4.456790e+15 -1\n",
              "4     4.457090e+15 -1\n",
              "...            ... ..\n",
              "9995  4.464180e+15  0\n",
              "9996  4.464270e+15  0\n",
              "9997  4.464290e+15  0\n",
              "9998  4.465350e+15  0\n",
              "9999  4.465490e+15  0\n",
              "\n",
              "[10000 rows x 2 columns]"
            ]
          },
          "metadata": {
            "tags": []
          },
          "execution_count": 309
        }
      ]
    },
    {
      "cell_type": "code",
      "metadata": {
        "id": "Wx2C-Pvb3I8O",
        "colab_type": "code",
        "colab": {
          "base_uri": "https://localhost:8080/",
          "height": 33
        },
        "outputId": "5ae0d6da-13ec-44b3-a33a-07b456850bde"
      },
      "source": [
        "print('asd')"
      ],
      "execution_count": 310,
      "outputs": [
        {
          "output_type": "stream",
          "text": [
            "asd\n"
          ],
          "name": "stdout"
        }
      ]
    },
    {
      "cell_type": "code",
      "metadata": {
        "id": "pKpgF_P63OqV",
        "colab_type": "code",
        "colab": {}
      },
      "source": [
        "sample = pd.read_csv('/content/drive/My Drive/sample.csv')"
      ],
      "execution_count": 0,
      "outputs": []
    },
    {
      "cell_type": "code",
      "metadata": {
        "id": "dccFeT8Y3Z15",
        "colab_type": "code",
        "colab": {
          "base_uri": "https://localhost:8080/",
          "height": 406
        },
        "outputId": "8af5cee1-133d-4a9c-e376-c49292ca6514"
      },
      "source": [
        "sample"
      ],
      "execution_count": 312,
      "outputs": [
        {
          "output_type": "execute_result",
          "data": {
            "text/html": [
              "<div>\n",
              "<style scoped>\n",
              "    .dataframe tbody tr th:only-of-type {\n",
              "        vertical-align: middle;\n",
              "    }\n",
              "\n",
              "    .dataframe tbody tr th {\n",
              "        vertical-align: top;\n",
              "    }\n",
              "\n",
              "    .dataframe thead th {\n",
              "        text-align: right;\n",
              "    }\n",
              "</style>\n",
              "<table border=\"1\" class=\"dataframe\">\n",
              "  <thead>\n",
              "    <tr style=\"text-align: right;\">\n",
              "      <th></th>\n",
              "      <th>id</th>\n",
              "      <th>y</th>\n",
              "    </tr>\n",
              "  </thead>\n",
              "  <tbody>\n",
              "    <tr>\n",
              "      <th>0</th>\n",
              "      <td>4456068992182160</td>\n",
              "      <td>-1</td>\n",
              "    </tr>\n",
              "    <tr>\n",
              "      <th>1</th>\n",
              "      <td>4456424178427250</td>\n",
              "      <td>0</td>\n",
              "    </tr>\n",
              "    <tr>\n",
              "      <th>2</th>\n",
              "      <td>4456797466940200</td>\n",
              "      <td>0</td>\n",
              "    </tr>\n",
              "    <tr>\n",
              "      <th>3</th>\n",
              "      <td>4456791021108920</td>\n",
              "      <td>0</td>\n",
              "    </tr>\n",
              "    <tr>\n",
              "      <th>4</th>\n",
              "      <td>4457086404997440</td>\n",
              "      <td>1</td>\n",
              "    </tr>\n",
              "    <tr>\n",
              "      <th>...</th>\n",
              "      <td>...</td>\n",
              "      <td>...</td>\n",
              "    </tr>\n",
              "    <tr>\n",
              "      <th>9995</th>\n",
              "      <td>4464179518243680</td>\n",
              "      <td>0</td>\n",
              "    </tr>\n",
              "    <tr>\n",
              "      <th>9996</th>\n",
              "      <td>4464274073923100</td>\n",
              "      <td>0</td>\n",
              "    </tr>\n",
              "    <tr>\n",
              "      <th>9997</th>\n",
              "      <td>4464289160945130</td>\n",
              "      <td>0</td>\n",
              "    </tr>\n",
              "    <tr>\n",
              "      <th>9998</th>\n",
              "      <td>4465347950314820</td>\n",
              "      <td>0</td>\n",
              "    </tr>\n",
              "    <tr>\n",
              "      <th>9999</th>\n",
              "      <td>4465492650005690</td>\n",
              "      <td>0</td>\n",
              "    </tr>\n",
              "  </tbody>\n",
              "</table>\n",
              "<p>10000 rows × 2 columns</p>\n",
              "</div>"
            ],
            "text/plain": [
              "                    id  y\n",
              "0     4456068992182160 -1\n",
              "1     4456424178427250  0\n",
              "2     4456797466940200  0\n",
              "3     4456791021108920  0\n",
              "4     4457086404997440  1\n",
              "...                ... ..\n",
              "9995  4464179518243680  0\n",
              "9996  4464274073923100  0\n",
              "9997  4464289160945130  0\n",
              "9998  4465347950314820  0\n",
              "9999  4465492650005690  0\n",
              "\n",
              "[10000 rows x 2 columns]"
            ]
          },
          "metadata": {
            "tags": []
          },
          "execution_count": 312
        }
      ]
    },
    {
      "cell_type": "code",
      "metadata": {
        "id": "L6bpT6T73bL4",
        "colab_type": "code",
        "colab": {}
      },
      "source": [
        "sample['y'] = result['y']"
      ],
      "execution_count": 0,
      "outputs": []
    },
    {
      "cell_type": "code",
      "metadata": {
        "id": "9kIYEwzB3iyR",
        "colab_type": "code",
        "colab": {}
      },
      "source": [
        "sample.to_csv('./result2.csv',index=False,float_format='%d')"
      ],
      "execution_count": 0,
      "outputs": []
    },
    {
      "cell_type": "markdown",
      "metadata": {
        "id": "AQm86pfa6Ima",
        "colab_type": "text"
      },
      "source": [
        "哈哈哈。。"
      ]
    },
    {
      "cell_type": "markdown",
      "metadata": {
        "id": "aU5FWUJO55Iz",
        "colab_type": "text"
      },
      "source": [
        "\n",
        "\n",
        "![image.png](data:image/png;base64,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)"
      ]
    },
    {
      "cell_type": "markdown",
      "metadata": {
        "id": "dsbwe3DjdzWN",
        "colab_type": "text"
      },
      "source": [
        "## test\n"
      ]
    },
    {
      "cell_type": "code",
      "metadata": {
        "id": "u19DTgp2YVyO",
        "colab_type": "code",
        "colab": {}
      },
      "source": [
        "exam_data = pd.read_csv('/content/drive/My Drive/exam.csv',encoding=\"utf-8\")"
      ],
      "execution_count": 0,
      "outputs": []
    },
    {
      "cell_type": "code",
      "metadata": {
        "id": "B7vXXM1OYd9A",
        "colab_type": "code",
        "colab": {}
      },
      "source": [
        "exam_data = exam_data[['id','word']]"
      ],
      "execution_count": 0,
      "outputs": []
    },
    {
      "cell_type": "code",
      "metadata": {
        "id": "wHrFm1tyYrzX",
        "colab_type": "code",
        "colab": {}
      },
      "source": [
        "cw = lambda x: list(jieba.cut(x)) #定义分词函数"
      ],
      "execution_count": 0,
      "outputs": []
    },
    {
      "cell_type": "code",
      "metadata": {
        "id": "8I65KbPUZAvw",
        "colab_type": "code",
        "colab": {
          "base_uri": "https://localhost:8080/",
          "height": 66
        },
        "outputId": "a1bd63e5-e240-4f82-e1b1-ee62034e0dde"
      },
      "source": [
        "exam_data.isnull().any()"
      ],
      "execution_count": 110,
      "outputs": [
        {
          "output_type": "execute_result",
          "data": {
            "text/plain": [
              "id      False\n",
              "word     True\n",
              "dtype: bool"
            ]
          },
          "metadata": {
            "tags": []
          },
          "execution_count": 110
        }
      ]
    },
    {
      "cell_type": "code",
      "metadata": {
        "id": "dyAHKQmKZDjR",
        "colab_type": "code",
        "colab": {}
      },
      "source": [
        "exam_data = exam_data[exam_data['word'].notnull()] #仅读取非空评论"
      ],
      "execution_count": 0,
      "outputs": []
    },
    {
      "cell_type": "code",
      "metadata": {
        "id": "jWG_muehYuFX",
        "colab_type": "code",
        "colab": {
          "base_uri": "https://localhost:8080/",
          "height": 136
        },
        "outputId": "ff5637f9-4efc-4750-95bd-328e05f2c330"
      },
      "source": [
        "exam_data['sent'] = exam_data['word'].apply(cw)"
      ],
      "execution_count": 112,
      "outputs": [
        {
          "output_type": "stream",
          "text": [
            "/usr/local/lib/python3.6/dist-packages/ipykernel_launcher.py:1: SettingWithCopyWarning: \n",
            "A value is trying to be set on a copy of a slice from a DataFrame.\n",
            "Try using .loc[row_indexer,col_indexer] = value instead\n",
            "\n",
            "See the caveats in the documentation: http://pandas.pydata.org/pandas-docs/stable/user_guide/indexing.html#returning-a-view-versus-a-copy\n",
            "  \"\"\"Entry point for launching an IPython kernel.\n"
          ],
          "name": "stderr"
        }
      ]
    },
    {
      "cell_type": "code",
      "metadata": {
        "id": "XRscaEhia8f1",
        "colab_type": "code",
        "colab": {}
      },
      "source": [
        "get_sent = lambda x: list(dict['id'][x])\n",
        "exam_data['sent'] = exam_data['sent'].apply(get_sent) #速度太慢\n",
        "maxlen = 50\n",
        "print(\"Pad sequences (samples x time)\")\n",
        "exam_data['sent'] = list(sequence.pad_sequences(exam_data['sent'], maxlen=maxlen))"
      ],
      "execution_count": 0,
      "outputs": []
    },
    {
      "cell_type": "code",
      "metadata": {
        "id": "KMeqhR-MZ5sw",
        "colab_type": "code",
        "colab": {}
      },
      "source": [
        "model.predict_classes(xe)"
      ],
      "execution_count": 0,
      "outputs": []
    }
  ]
}