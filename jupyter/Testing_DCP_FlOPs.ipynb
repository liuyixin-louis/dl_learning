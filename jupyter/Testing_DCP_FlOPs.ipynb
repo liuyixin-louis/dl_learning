{
  "nbformat": 4,
  "nbformat_minor": 0,
  "metadata": {
    "colab": {
      "name": "Testing_DCP_FlOPs.ipynb",
      "provenance": [],
      "collapsed_sections": [
        "8YpAcq4uqJPs",
        "X7hvl4JrqNnj",
        "UQiTryZWvQ-5",
        "WGrUOfKIxBjp",
        "NhrgrcupqTbF",
        "exVW0YGzq2gm",
        "liBT__37wZoN"
      ],
      "mount_file_id": "19JYMPuxRgTiztLk1x9q0itkzRuFitFkq",
      "authorship_tag": "ABX9TyP83pxsCQQE1ySydQfc3hXK",
      "include_colab_link": true
    },
    "kernelspec": {
      "name": "python2",
      "display_name": "Python 2"
    },
    "accelerator": "GPU"
  },
  "cells": [
    {
      "cell_type": "markdown",
      "metadata": {
        "id": "view-in-github",
        "colab_type": "text"
      },
      "source": [
        "<a href=\"https://colab.research.google.com/github/liuyixin-louis/dl_learning/blob/master/Testing_DCP_FlOPs.ipynb\" target=\"_parent\"><img src=\"https://colab.research.google.com/assets/colab-badge.svg\" alt=\"Open In Colab\"/></a>"
      ]
    },
    {
      "cell_type": "markdown",
      "metadata": {
        "id": "8YpAcq4uqJPs",
        "colab_type": "text"
      },
      "source": [
        "#安装相关包"
      ]
    },
    {
      "cell_type": "code",
      "metadata": {
        "id": "Cgvb41lNVWFK",
        "colab_type": "code",
        "colab": {}
      },
      "source": [
        "!git clone https://github.com/SCUT-AILab/DCP\n",
        "!wget https://www.cs.toronto.edu/~kriz/cifar-10-python.tar.gz\n",
        "!tar -xzvf /content/cifar-10-python.tar.gz\n",
        "!pip install pyhocon\n",
        "!pip install prettytable\n",
        "!pip install torch==0.4.1\n",
        "!pip install torchvision==0.2.0\n",
        "!wget https://developer.nvidia.com/compute/cuda/9.0/Prod/local_installers/cuda-repo-ubuntu1604-9-0-local_9.0.176-1_amd64-deb\n",
        "!dpkg -i cuda-repo-ubuntu1604-9-0-local_9.0.176-1_amd64-deb\n",
        "!apt-key add /var/cuda-repo-9-0-local/7fa2af80.pub\n",
        "!apt-get update\n",
        "!apt-get install cuda=9.0.176-1\n",
        "!wget https://github.com/SCUT-AILab/DCP/releases/download/0.1/resnet_56_pruned0.5.pth"
      ],
      "execution_count": 0,
      "outputs": []
    },
    {
      "cell_type": "markdown",
      "metadata": {
        "id": "X7hvl4JrqNnj",
        "colab_type": "text"
      },
      "source": [
        "#设置参数"
      ]
    },
    {
      "cell_type": "code",
      "metadata": {
        "id": "BefJ_Zzet_bV",
        "colab_type": "code",
        "colab": {
          "base_uri": "https://localhost:8080/",
          "height": 34
        },
        "outputId": "8dc7909d-1c2d-4e5c-e169-5e5e1eccfd6e"
      },
      "source": [
        "import torch\n",
        "torch.cuda.device_count()"
      ],
      "execution_count": 2,
      "outputs": [
        {
          "output_type": "execute_result",
          "data": {
            "text/plain": [
              "1L"
            ]
          },
          "metadata": {
            "tags": []
          },
          "execution_count": 2
        }
      ]
    },
    {
      "cell_type": "code",
      "metadata": {
        "id": "-JTEkTSwUPqX",
        "colab_type": "code",
        "colab": {}
      },
      "source": [
        "import sys\n",
        "sys.path.append('/content/DCP')\n",
        "sys.path.append('/content/DCP/')\n",
        "import os \n",
        "path = '/content/DCP/dcp/test'\n",
        "os.chdir(path)\n",
        "%tensorflow_version 1.x\n",
        "os.environ[\"CUDA_VISIBLE_DEVICES\"]='0'"
      ],
      "execution_count": 0,
      "outputs": []
    },
    {
      "cell_type": "markdown",
      "metadata": {
        "id": "UQiTryZWvQ-5",
        "colab_type": "text"
      },
      "source": [
        "## test.hocon配置："
      ]
    },
    {
      "cell_type": "markdown",
      "metadata": {
        "id": "nIiPgclmvdSz",
        "colab_type": "text"
      },
      "source": [
        "### **test.hocon**\n",
        "\n",
        "```\n",
        "# ------------- general options ----------------------------------------\n",
        "save_path = \"/content/DCP/dcp/test/\" # log path\n",
        "data_path = \"/content/cifar-10-batches-py/\" # path for dataset folder, containing cifar10 and imagenet\n",
        "dataset = \"cifar10\"  # options: imagenet | cifar10\n",
        "seed = 1 # manually set RNG seed\n",
        "gpu = \"0\"  # GPU id to use, e.g. \"0,1,2,3\"\n",
        "print_frequency = 10\n",
        "\n",
        "# ------------- data options -------------------------------------------\n",
        "n_threads = 4  # number of threads used for data loading\n",
        "n_classes = 10  # number of classes in the dataset\n",
        "\n",
        "# ------------- discrimination-aware options ---------------------------\n",
        "pruning_rate = 0.5  # pruning rate\n",
        "\n",
        "# ------------- common optimization options ----------------------------\n",
        "batch_size = 128  # mini-batch size\n",
        "momentum = 0.9  # momentum\n",
        "weight_decay = 1e-4  # weight decay\n",
        "lr = 0.1  # initial learning rate\n",
        "n_epochs = 1 # number of total epochs\n",
        "step = [160, 240]  # multi-step for linear learning rate\n",
        "\n",
        "# ------------- model options ------------------------------------------\n",
        "net_type = \"preresnet\"  # options: resnet | preresnet\n",
        "experiment_id = \"evaluation_20200522 \"  # experiment identifier\n",
        "depth = 56# resnet depth: (n-2)%6==0\n",
        "\n",
        "# ------------- resume or pretrained options ------------------------------\n",
        "pretrained = \"/content/resnet_56_pruned0.5.pth\"  # path of the pre-trained model\n",
        "resume = \"\" # resume checkpoint\n",
        "```\n",
        "\n"
      ]
    },
    {
      "cell_type": "markdown",
      "metadata": {
        "id": "WGrUOfKIxBjp",
        "colab_type": "text"
      },
      "source": [
        "#FLOPs概念与公式"
      ]
    },
    {
      "cell_type": "markdown",
      "metadata": {
        "id": "zOwd1wx6zER0",
        "colab_type": "text"
      },
      "source": [
        "- FLOPs定义：注意s小写，是floating point operations的缩写（s表复数），意指浮点运算数，理解为**计算量**。可以用来**衡量算法/模型的复杂度**。\n",
        "\n",
        "- 与FLOPS的区别：注意全大写，是floating point operations per second的缩写，意指每秒浮点运算次数，理解为**计算速度**。是一个**衡量硬件性能的指标**。"
      ]
    },
    {
      "cell_type": "markdown",
      "metadata": {
        "id": "uKzTxIUXxUeF",
        "colab_type": "text"
      },
      "source": [
        "- 参考：https://www.cnblogs.com/king-lps/p/10904552.html\n",
        "- 原则：推理时，全连接和卷积占大头，其他层（激活、BN等）计算量可以忽略\n",
        "- 公式：\n",
        "1. 卷积层：$(2\\times C_{i} \\times K^{2}-1)\\times H\\times W\\times C_{o}$\n",
        "> 先输出一个piex，加乘，然后输出所有piex\n",
        "2. 全联接层： $(2\\times I-1)\\times O$\n",
        "> 和上面的类似，控制变量地理解"
      ]
    },
    {
      "cell_type": "markdown",
      "metadata": {
        "id": "NhrgrcupqTbF",
        "colab_type": "text"
      },
      "source": [
        "#计算FLOPs"
      ]
    },
    {
      "cell_type": "code",
      "metadata": {
        "id": "XFKnsBhufHm1",
        "colab_type": "code",
        "colab": {}
      },
      "source": [
        "import argparse\n",
        "import torch.backends.cudnn as cudnn\n",
        "import torch.utils.data\n",
        "import torch.utils.data.distributed\n",
        "from option import Option\n",
        "from dcp.pruning import ResModelPrune\n",
        "from torch import nn\n",
        "\n",
        "from dcp.trainer import Trainer\n",
        "from dcp.aux_checkpoint import AuxCheckPoint\n",
        "from dcp.dataloader import *\n",
        "from dcp.mask_conv import MaskConv2d\n",
        "from dcp.model_builder import get_model\n",
        "from dcp.models.preresnet import PreBasicBlock\n",
        "from dcp.models.resnet import BasicBlock, Bottleneck\n",
        "from dcp.utils.logger import get_logger\n",
        "from dcp.utils.model_analyse import ModelAnalyse\n",
        "from dcp.utils.tensorboard_logger import TensorboardLogger\n",
        "from dcp.utils.write_log import write_log, write_settings\n",
        "from dcp.utils import cal_pivot\n",
        "from dcp.models.pruned_preresnet import PrunedPreResNet\n",
        "from dcp.models.pruned_resnet import PrunedResNet\n",
        "from dcp.models.pruned_vgg import PrunedVGGCIFAR\n",
        "\n",
        "\n",
        "class Experiment(object):\n",
        "    \"\"\"\n",
        "    Run experiments with pre-defined pipeline\n",
        "    \"\"\"\n",
        "\n",
        "    def __init__(self, options=None, conf_path=None):\n",
        "        self.settings = options or Option(conf_path)\n",
        "        self.checkpoint = None\n",
        "        self.train_loader = None\n",
        "        self.val_loader = None\n",
        "        self.pruned_model = None\n",
        "        self.network_wise_trainer = None\n",
        "        self.optimizer_state = None\n",
        "        self.aux_fc_state = None\n",
        "\n",
        "        os.environ['CUDA_VISIBLE_DEVICES'] = self.settings.gpu\n",
        "\n",
        "        self.settings.set_save_path()\n",
        "        write_settings(self.settings)\n",
        "        self.logger = get_logger(self.settings.save_path, \"finetune\")\n",
        "        self.tensorboard_logger = TensorboardLogger(self.settings.save_path)\n",
        "        self.logger.info(\"|===>Result will be saved at {}\".format(self.settings.save_path))\n",
        "        self.epoch = 0\n",
        "        self.test_input = None\n",
        "\n",
        "        self.prepare()\n",
        "        self.ma = ModelAnalyse(self.pruned_model,self.logger)\n",
        "\n",
        "    def write_settings(self):\n",
        "        \"\"\"\n",
        "        Save expriment settings to a file\n",
        "        \"\"\"\n",
        "\n",
        "        with open(os.path.join(self.settings.save_path, \"settings.log\"), \"w\") as f:\n",
        "            for k, v in self.settings.__dict__.items():\n",
        "                f.write(str(k) + \": \" + str(v) + \"\\n\")\n",
        "\n",
        "    def prepare(self):\n",
        "        \"\"\"\n",
        "        Preparing experiments\n",
        "        \"\"\"\n",
        "\n",
        "        self._set_gpu()\n",
        "        self._set_dataloader()\n",
        "        self._set_model()\n",
        "        self._set_checkpoint()\n",
        "        self._set_trainier()\n",
        "\n",
        "    def _set_gpu(self):\n",
        "        \"\"\"\n",
        "        Initialize the seed of random number generator\n",
        "        \"\"\"\n",
        "\n",
        "        # set torch seed\n",
        "        # init random seed\n",
        "        torch.manual_seed(self.settings.seed)\n",
        "        torch.cuda.manual_seed(self.settings.seed)\n",
        "        torch.cuda.set_device(0)\n",
        "        cudnn.benchmark = True\n",
        "\n",
        "    def _set_dataloader(self):\n",
        "        \"\"\"\n",
        "        Create train loader and validation loader for channel pruning\n",
        "        \"\"\"\n",
        "\n",
        "        if 'cifar' in self.settings.dataset:\n",
        "            self.train_loader, self.val_loader = get_cifar_dataloader(self.settings.dataset,\n",
        "                                                                      self.settings.batch_size,\n",
        "                                                                      self.settings.n_threads,\n",
        "                                                                      self.settings.data_path,\n",
        "                                                                      self.logger)\n",
        "        elif self.settings.dataset == 'imagenet':\n",
        "            self.train_loader, self.val_loader = get_imagenet_dataloader(self.settings.dataset,\n",
        "                                                                         self.settings.batch_size,\n",
        "                                                                         self.settings.n_threads,\n",
        "                                                                         self.settings.data_path,\n",
        "                                                                         self.logger)\n",
        "\n",
        "    def _set_model(self):\n",
        "        \"\"\"\n",
        "        Get model\n",
        "        \"\"\"\n",
        "\n",
        "        if self.settings.dataset in [\"cifar10\", \"cifar100\"]:\n",
        "            if self.settings.net_type == \"preresnet\":\n",
        "                self.pruned_model = PrunedPreResNet(depth=self.settings.depth,\n",
        "                                                    pruning_rate=self.settings.pruning_rate,\n",
        "                                                    num_classes=self.settings.n_classes)\n",
        "            elif self.settings.net_type == \"vgg\":\n",
        "                self.pruned_model = PrunedVGGCIFAR(pruning_rate=self.settings.pruning_rate,\n",
        "                                                   num_classes=self.settings.n_classes)\n",
        "            else:\n",
        "                assert False, \"use {} data while network is {}\".format(self.settings.dataset, self.settings.net_type)\n",
        "\n",
        "        elif self.settings.dataset in [\"imagenet\", \"imagenet_mio\"]:\n",
        "            if self.settings.net_type == \"resnet\":\n",
        "                self.pruned_model = PrunedResNet(\n",
        "                    depth=self.settings.depth,\n",
        "                    pruning_rate=self.settings.pruning_rate,\n",
        "                    num_classes=self.settings.n_classes)\n",
        "            else:\n",
        "                assert False, \"use {} data while network is {}\".format(self.settings.dataset, self.settings.net_type)\n",
        "\n",
        "        else:\n",
        "            assert False, \"unsupported data set: {}\".format(self.settings.dataset)\n",
        "\n",
        "    def _set_checkpoint(self):\n",
        "        \"\"\"\n",
        "        Load pre-trained model or resume checkpoint\n",
        "        \"\"\"\n",
        "\n",
        "        assert self.pruned_model is not None, \"please create model first\"\n",
        "\n",
        "        self.checkpoint = AuxCheckPoint(self.settings.save_path, self.logger)\n",
        "        self._load_pretrained()\n",
        "\n",
        "    def _load_pretrained(self):\n",
        "        \"\"\"\n",
        "        Load pre-trained model\n",
        "        \"\"\"\n",
        "\n",
        "        if self.settings.pretrained is not None:\n",
        "            check_point_params = torch.load(self.settings.pretrained)\n",
        "            model_state = check_point_params\n",
        "            # self.aux_fc_state = check_point_params[\"aux_fc\"]\n",
        "            self.pruned_model = self.checkpoint.load_state(self.pruned_model, model_state)\n",
        "            self.logger.info(\"|===>load restrain file: {}\".format(self.settings.pretrained))\n",
        "\n",
        "    def _set_trainier(self):\n",
        "        \"\"\"\n",
        "        Initialize network-wise trainer\n",
        "        \"\"\"\n",
        "\n",
        "        self.trainer = Trainer(model=self.pruned_model,\n",
        "                               train_loader=self.train_loader,\n",
        "                               val_loader=self.val_loader,\n",
        "                               settings=self.settings,\n",
        "                               logger=self.logger,\n",
        "                               tensorboard_logger=self.tensorboard_logger,\n",
        "                               run_count=self.epoch)\n",
        "\n",
        "    def evaluation(self):\n",
        "        \"\"\"\n",
        "        Conduct network-wise fine-tuning after channel selection\n",
        "        \"\"\"\n",
        "\n",
        "        self.trainer.val(1)\n",
        "    def compute_flops(self):\n",
        "      # s = self.trainer.flops_count(x)\n",
        "      # return s\n",
        "      # if test_tensor is None:\n",
        "      x=torch.randn([128,3,32,32])\n",
        "      if self.settings.n_gpus == 1:\n",
        "          x = x.cuda()\n",
        "      self.pruned_model.eval()\n",
        "      result = float()\n",
        "      with torch.no_grad():\n",
        "        result = self.ma.flops_compute(x)\n",
        "      return result"
      ],
      "execution_count": 0,
      "outputs": []
    },
    {
      "cell_type": "code",
      "metadata": {
        "id": "4sN9QSHukGp7",
        "colab_type": "code",
        "colab": {
          "base_uri": "https://localhost:8080/",
          "height": 321
        },
        "outputId": "81a85266-9561-40f5-85ef-bbda0f59b661"
      },
      "source": [
        "path = '/content/DCP/dcp/test/test.hocon'\n",
        "option = Option(path)\n",
        "experiment = Experiment(option)"
      ],
      "execution_count": 17,
      "outputs": [
        {
          "output_type": "stream",
          "text": [
            "/content/DCP/dcp/test/log_ft_preresnet56_cifar10_bs128_e1_lr0.100_step[160, 240]_evaluation_20200522 / file exist!\n",
            "Select Action: d (delete) / q (quit):d\n",
            "|===>Result will be saved at /content/DCP/dcp/test/log_ft_preresnet56_cifar10_bs128_e1_lr0.100_step[160, 240]_evaluation_20200522 /\n",
            "|===>Result will be saved at /content/DCP/dcp/test/log_ft_preresnet56_cifar10_bs128_e1_lr0.100_step[160, 240]_evaluation_20200522 /\n",
            "|===>Result will be saved at /content/DCP/dcp/test/log_ft_preresnet56_cifar10_bs128_e1_lr0.100_step[160, 240]_evaluation_20200522 /\n",
            "|===>Result will be saved at /content/DCP/dcp/test/log_ft_preresnet56_cifar10_bs128_e1_lr0.100_step[160, 240]_evaluation_20200522 /\n"
          ],
          "name": "stdout"
        },
        {
          "output_type": "stream",
          "text": [
            "I0523 08:56:42.236391 140589898045312 <ipython-input-16-b0c383c89702>:47] |===>Result will be saved at /content/DCP/dcp/test/log_ft_preresnet56_cifar10_bs128_e1_lr0.100_step[160, 240]_evaluation_20200522 /\n"
          ],
          "name": "stderr"
        },
        {
          "output_type": "stream",
          "text": [
            "|===>Get datalaoder for cifar10\n",
            "|===>Get datalaoder for cifar10\n",
            "|===>Get datalaoder for cifar10\n",
            "|===>Get datalaoder for cifar10\n"
          ],
          "name": "stdout"
        },
        {
          "output_type": "stream",
          "text": [
            "I0523 08:56:42.253545 140589898045312 dataloader.py:22] |===>Get datalaoder for cifar10\n"
          ],
          "name": "stderr"
        },
        {
          "output_type": "stream",
          "text": [
            "Files already downloaded and verified\n",
            "|===>load restrain file: /content/resnet_56_pruned0.5.pth\n",
            "|===>load restrain file: /content/resnet_56_pruned0.5.pth\n",
            "|===>load restrain file: /content/resnet_56_pruned0.5.pth\n",
            "|===>load restrain file: /content/resnet_56_pruned0.5.pth\n"
          ],
          "name": "stdout"
        },
        {
          "output_type": "stream",
          "text": [
            "I0523 08:56:43.806663 140589898045312 <ipython-input-16-b0c383c89702>:152] |===>load restrain file: /content/resnet_56_pruned0.5.pth\n"
          ],
          "name": "stderr"
        }
      ]
    },
    {
      "cell_type": "markdown",
      "metadata": {
        "id": "exVW0YGzq2gm",
        "colab_type": "text"
      },
      "source": [
        "# 实验测试结果 FLOPS：1.260372e+08"
      ]
    },
    {
      "cell_type": "code",
      "metadata": {
        "id": "Bi15wam7v9rW",
        "colab_type": "code",
        "colab": {
          "base_uri": "https://localhost:8080/",
          "height": 1000
        },
        "outputId": "7b5770ee-5876-4593-b986-a6779a6b5985"
      },
      "source": [
        "ans = experiment.compute_flops()"
      ],
      "execution_count": 19,
      "outputs": [
        {
          "output_type": "stream",
          "text": [
            "|===>FLOPs of layer [0]: 8.683520e+05, 0.006890\n",
            "|===>FLOPs of layer [0]: 8.683520e+05, 0.006890\n",
            "|===>FLOPs of layer [0]: 8.683520e+05, 0.006890\n",
            "|===>FLOPs of layer [0]: 8.683520e+05, 0.006890\n"
          ],
          "name": "stdout"
        },
        {
          "output_type": "stream",
          "text": [
            "I0523 08:56:59.214484 140589898045312 model_analyse.py:196] |===>FLOPs of layer [0]: 8.683520e+05, 0.006890\n"
          ],
          "name": "stderr"
        },
        {
          "output_type": "stream",
          "text": [
            "|===>FLOPs of layer [1]: 2.351104e+06, 0.018654\n",
            "|===>FLOPs of layer [1]: 2.351104e+06, 0.018654\n",
            "|===>FLOPs of layer [1]: 2.351104e+06, 0.018654\n",
            "|===>FLOPs of layer [1]: 2.351104e+06, 0.018654\n"
          ],
          "name": "stdout"
        },
        {
          "output_type": "stream",
          "text": [
            "I0523 08:56:59.223854 140589898045312 model_analyse.py:196] |===>FLOPs of layer [1]: 2.351104e+06, 0.018654\n"
          ],
          "name": "stderr"
        },
        {
          "output_type": "stream",
          "text": [
            "|===>FLOPs of layer [2]: 2.342912e+06, 0.018589\n",
            "|===>FLOPs of layer [2]: 2.342912e+06, 0.018589\n",
            "|===>FLOPs of layer [2]: 2.342912e+06, 0.018589\n",
            "|===>FLOPs of layer [2]: 2.342912e+06, 0.018589\n"
          ],
          "name": "stdout"
        },
        {
          "output_type": "stream",
          "text": [
            "I0523 08:56:59.235326 140589898045312 model_analyse.py:196] |===>FLOPs of layer [2]: 2.342912e+06, 0.018589\n"
          ],
          "name": "stderr"
        },
        {
          "output_type": "stream",
          "text": [
            "|===>FLOPs of layer [3]: 2.351104e+06, 0.018654\n",
            "|===>FLOPs of layer [3]: 2.351104e+06, 0.018654\n",
            "|===>FLOPs of layer [3]: 2.351104e+06, 0.018654\n",
            "|===>FLOPs of layer [3]: 2.351104e+06, 0.018654\n"
          ],
          "name": "stdout"
        },
        {
          "output_type": "stream",
          "text": [
            "I0523 08:56:59.244848 140589898045312 model_analyse.py:196] |===>FLOPs of layer [3]: 2.351104e+06, 0.018654\n"
          ],
          "name": "stderr"
        },
        {
          "output_type": "stream",
          "text": [
            "|===>FLOPs of layer [4]: 2.342912e+06, 0.018589\n",
            "|===>FLOPs of layer [4]: 2.342912e+06, 0.018589\n",
            "|===>FLOPs of layer [4]: 2.342912e+06, 0.018589\n",
            "|===>FLOPs of layer [4]: 2.342912e+06, 0.018589\n"
          ],
          "name": "stdout"
        },
        {
          "output_type": "stream",
          "text": [
            "I0523 08:56:59.256932 140589898045312 model_analyse.py:196] |===>FLOPs of layer [4]: 2.342912e+06, 0.018589\n"
          ],
          "name": "stderr"
        },
        {
          "output_type": "stream",
          "text": [
            "|===>FLOPs of layer [5]: 2.351104e+06, 0.018654\n",
            "|===>FLOPs of layer [5]: 2.351104e+06, 0.018654\n",
            "|===>FLOPs of layer [5]: 2.351104e+06, 0.018654\n",
            "|===>FLOPs of layer [5]: 2.351104e+06, 0.018654\n"
          ],
          "name": "stdout"
        },
        {
          "output_type": "stream",
          "text": [
            "I0523 08:56:59.265314 140589898045312 model_analyse.py:196] |===>FLOPs of layer [5]: 2.351104e+06, 0.018654\n"
          ],
          "name": "stderr"
        },
        {
          "output_type": "stream",
          "text": [
            "|===>FLOPs of layer [6]: 2.342912e+06, 0.018589\n",
            "|===>FLOPs of layer [6]: 2.342912e+06, 0.018589\n",
            "|===>FLOPs of layer [6]: 2.342912e+06, 0.018589\n",
            "|===>FLOPs of layer [6]: 2.342912e+06, 0.018589\n"
          ],
          "name": "stdout"
        },
        {
          "output_type": "stream",
          "text": [
            "I0523 08:56:59.272099 140589898045312 model_analyse.py:196] |===>FLOPs of layer [6]: 2.342912e+06, 0.018589\n"
          ],
          "name": "stderr"
        },
        {
          "output_type": "stream",
          "text": [
            "|===>FLOPs of layer [7]: 2.351104e+06, 0.018654\n",
            "|===>FLOPs of layer [7]: 2.351104e+06, 0.018654\n",
            "|===>FLOPs of layer [7]: 2.351104e+06, 0.018654\n",
            "|===>FLOPs of layer [7]: 2.351104e+06, 0.018654\n"
          ],
          "name": "stdout"
        },
        {
          "output_type": "stream",
          "text": [
            "I0523 08:56:59.282979 140589898045312 model_analyse.py:196] |===>FLOPs of layer [7]: 2.351104e+06, 0.018654\n"
          ],
          "name": "stderr"
        },
        {
          "output_type": "stream",
          "text": [
            "|===>FLOPs of layer [8]: 2.342912e+06, 0.018589\n",
            "|===>FLOPs of layer [8]: 2.342912e+06, 0.018589\n",
            "|===>FLOPs of layer [8]: 2.342912e+06, 0.018589\n",
            "|===>FLOPs of layer [8]: 2.342912e+06, 0.018589\n"
          ],
          "name": "stdout"
        },
        {
          "output_type": "stream",
          "text": [
            "I0523 08:56:59.289824 140589898045312 model_analyse.py:196] |===>FLOPs of layer [8]: 2.342912e+06, 0.018589\n"
          ],
          "name": "stderr"
        },
        {
          "output_type": "stream",
          "text": [
            "|===>FLOPs of layer [9]: 2.351104e+06, 0.018654\n",
            "|===>FLOPs of layer [9]: 2.351104e+06, 0.018654\n",
            "|===>FLOPs of layer [9]: 2.351104e+06, 0.018654\n",
            "|===>FLOPs of layer [9]: 2.351104e+06, 0.018654\n"
          ],
          "name": "stdout"
        },
        {
          "output_type": "stream",
          "text": [
            "I0523 08:56:59.298990 140589898045312 model_analyse.py:196] |===>FLOPs of layer [9]: 2.351104e+06, 0.018654\n"
          ],
          "name": "stderr"
        },
        {
          "output_type": "stream",
          "text": [
            "|===>FLOPs of layer [10]: 2.342912e+06, 0.018589\n",
            "|===>FLOPs of layer [10]: 2.342912e+06, 0.018589\n",
            "|===>FLOPs of layer [10]: 2.342912e+06, 0.018589\n",
            "|===>FLOPs of layer [10]: 2.342912e+06, 0.018589\n"
          ],
          "name": "stdout"
        },
        {
          "output_type": "stream",
          "text": [
            "I0523 08:56:59.305958 140589898045312 model_analyse.py:196] |===>FLOPs of layer [10]: 2.342912e+06, 0.018589\n"
          ],
          "name": "stderr"
        },
        {
          "output_type": "stream",
          "text": [
            "|===>FLOPs of layer [11]: 2.351104e+06, 0.018654\n",
            "|===>FLOPs of layer [11]: 2.351104e+06, 0.018654\n",
            "|===>FLOPs of layer [11]: 2.351104e+06, 0.018654\n",
            "|===>FLOPs of layer [11]: 2.351104e+06, 0.018654\n"
          ],
          "name": "stdout"
        },
        {
          "output_type": "stream",
          "text": [
            "I0523 08:56:59.313318 140589898045312 model_analyse.py:196] |===>FLOPs of layer [11]: 2.351104e+06, 0.018654\n"
          ],
          "name": "stderr"
        },
        {
          "output_type": "stream",
          "text": [
            "|===>FLOPs of layer [12]: 2.342912e+06, 0.018589\n",
            "|===>FLOPs of layer [12]: 2.342912e+06, 0.018589\n",
            "|===>FLOPs of layer [12]: 2.342912e+06, 0.018589\n",
            "|===>FLOPs of layer [12]: 2.342912e+06, 0.018589\n"
          ],
          "name": "stdout"
        },
        {
          "output_type": "stream",
          "text": [
            "I0523 08:56:59.320750 140589898045312 model_analyse.py:196] |===>FLOPs of layer [12]: 2.342912e+06, 0.018589\n"
          ],
          "name": "stderr"
        },
        {
          "output_type": "stream",
          "text": [
            "|===>FLOPs of layer [13]: 2.351104e+06, 0.018654\n",
            "|===>FLOPs of layer [13]: 2.351104e+06, 0.018654\n",
            "|===>FLOPs of layer [13]: 2.351104e+06, 0.018654\n",
            "|===>FLOPs of layer [13]: 2.351104e+06, 0.018654\n"
          ],
          "name": "stdout"
        },
        {
          "output_type": "stream",
          "text": [
            "I0523 08:56:59.332547 140589898045312 model_analyse.py:196] |===>FLOPs of layer [13]: 2.351104e+06, 0.018654\n"
          ],
          "name": "stderr"
        },
        {
          "output_type": "stream",
          "text": [
            "|===>FLOPs of layer [14]: 2.342912e+06, 0.018589\n",
            "|===>FLOPs of layer [14]: 2.342912e+06, 0.018589\n",
            "|===>FLOPs of layer [14]: 2.342912e+06, 0.018589\n",
            "|===>FLOPs of layer [14]: 2.342912e+06, 0.018589\n"
          ],
          "name": "stdout"
        },
        {
          "output_type": "stream",
          "text": [
            "I0523 08:56:59.341078 140589898045312 model_analyse.py:196] |===>FLOPs of layer [14]: 2.342912e+06, 0.018589\n"
          ],
          "name": "stderr"
        },
        {
          "output_type": "stream",
          "text": [
            "|===>FLOPs of layer [15]: 2.351104e+06, 0.018654\n",
            "|===>FLOPs of layer [15]: 2.351104e+06, 0.018654\n",
            "|===>FLOPs of layer [15]: 2.351104e+06, 0.018654\n",
            "|===>FLOPs of layer [15]: 2.351104e+06, 0.018654\n"
          ],
          "name": "stdout"
        },
        {
          "output_type": "stream",
          "text": [
            "I0523 08:56:59.347852 140589898045312 model_analyse.py:196] |===>FLOPs of layer [15]: 2.351104e+06, 0.018654\n"
          ],
          "name": "stderr"
        },
        {
          "output_type": "stream",
          "text": [
            "|===>FLOPs of layer [16]: 2.342912e+06, 0.018589\n",
            "|===>FLOPs of layer [16]: 2.342912e+06, 0.018589\n",
            "|===>FLOPs of layer [16]: 2.342912e+06, 0.018589\n",
            "|===>FLOPs of layer [16]: 2.342912e+06, 0.018589\n"
          ],
          "name": "stdout"
        },
        {
          "output_type": "stream",
          "text": [
            "I0523 08:56:59.359041 140589898045312 model_analyse.py:196] |===>FLOPs of layer [16]: 2.342912e+06, 0.018589\n"
          ],
          "name": "stderr"
        },
        {
          "output_type": "stream",
          "text": [
            "|===>FLOPs of layer [17]: 2.351104e+06, 0.018654\n",
            "|===>FLOPs of layer [17]: 2.351104e+06, 0.018654\n",
            "|===>FLOPs of layer [17]: 2.351104e+06, 0.018654\n",
            "|===>FLOPs of layer [17]: 2.351104e+06, 0.018654\n"
          ],
          "name": "stdout"
        },
        {
          "output_type": "stream",
          "text": [
            "I0523 08:56:59.369965 140589898045312 model_analyse.py:196] |===>FLOPs of layer [17]: 2.351104e+06, 0.018654\n"
          ],
          "name": "stderr"
        },
        {
          "output_type": "stream",
          "text": [
            "|===>FLOPs of layer [18]: 2.342912e+06, 0.018589\n",
            "|===>FLOPs of layer [18]: 2.342912e+06, 0.018589\n",
            "|===>FLOPs of layer [18]: 2.342912e+06, 0.018589\n",
            "|===>FLOPs of layer [18]: 2.342912e+06, 0.018589\n"
          ],
          "name": "stdout"
        },
        {
          "output_type": "stream",
          "text": [
            "I0523 08:56:59.380702 140589898045312 model_analyse.py:196] |===>FLOPs of layer [18]: 2.342912e+06, 0.018589\n"
          ],
          "name": "stderr"
        },
        {
          "output_type": "stream",
          "text": [
            "|===>FLOPs of layer [19]: 1.175552e+06, 0.009327\n",
            "|===>FLOPs of layer [19]: 1.175552e+06, 0.009327\n",
            "|===>FLOPs of layer [19]: 1.175552e+06, 0.009327\n",
            "|===>FLOPs of layer [19]: 1.175552e+06, 0.009327\n"
          ],
          "name": "stdout"
        },
        {
          "output_type": "stream",
          "text": [
            "I0523 08:56:59.393472 140589898045312 model_analyse.py:196] |===>FLOPs of layer [19]: 1.175552e+06, 0.009327\n"
          ],
          "name": "stderr"
        },
        {
          "output_type": "stream",
          "text": [
            "|===>FLOPs of layer [20]: 2.351104e+06, 0.018654\n",
            "|===>FLOPs of layer [20]: 2.351104e+06, 0.018654\n",
            "|===>FLOPs of layer [20]: 2.351104e+06, 0.018654\n",
            "|===>FLOPs of layer [20]: 2.351104e+06, 0.018654\n"
          ],
          "name": "stdout"
        },
        {
          "output_type": "stream",
          "text": [
            "I0523 08:56:59.406683 140589898045312 model_analyse.py:196] |===>FLOPs of layer [20]: 2.351104e+06, 0.018654\n"
          ],
          "name": "stderr"
        },
        {
          "output_type": "stream",
          "text": [
            "|===>FLOPs of layer [21]: 2.539520e+05, 0.002015\n",
            "|===>FLOPs of layer [21]: 2.539520e+05, 0.002015\n",
            "|===>FLOPs of layer [21]: 2.539520e+05, 0.002015\n",
            "|===>FLOPs of layer [21]: 2.539520e+05, 0.002015\n"
          ],
          "name": "stdout"
        },
        {
          "output_type": "stream",
          "text": [
            "I0523 08:56:59.416904 140589898045312 model_analyse.py:196] |===>FLOPs of layer [21]: 2.539520e+05, 0.002015\n"
          ],
          "name": "stderr"
        },
        {
          "output_type": "stream",
          "text": [
            "|===>FLOPs of layer [22]: 2.355200e+06, 0.018687\n",
            "|===>FLOPs of layer [22]: 2.355200e+06, 0.018687\n",
            "|===>FLOPs of layer [22]: 2.355200e+06, 0.018687\n",
            "|===>FLOPs of layer [22]: 2.355200e+06, 0.018687\n"
          ],
          "name": "stdout"
        },
        {
          "output_type": "stream",
          "text": [
            "I0523 08:56:59.427643 140589898045312 model_analyse.py:196] |===>FLOPs of layer [22]: 2.355200e+06, 0.018687\n"
          ],
          "name": "stderr"
        },
        {
          "output_type": "stream",
          "text": [
            "|===>FLOPs of layer [23]: 2.351104e+06, 0.018654\n",
            "|===>FLOPs of layer [23]: 2.351104e+06, 0.018654\n",
            "|===>FLOPs of layer [23]: 2.351104e+06, 0.018654\n",
            "|===>FLOPs of layer [23]: 2.351104e+06, 0.018654\n"
          ],
          "name": "stdout"
        },
        {
          "output_type": "stream",
          "text": [
            "I0523 08:56:59.434122 140589898045312 model_analyse.py:196] |===>FLOPs of layer [23]: 2.351104e+06, 0.018654\n"
          ],
          "name": "stderr"
        },
        {
          "output_type": "stream",
          "text": [
            "|===>FLOPs of layer [24]: 2.355200e+06, 0.018687\n",
            "|===>FLOPs of layer [24]: 2.355200e+06, 0.018687\n",
            "|===>FLOPs of layer [24]: 2.355200e+06, 0.018687\n",
            "|===>FLOPs of layer [24]: 2.355200e+06, 0.018687\n"
          ],
          "name": "stdout"
        },
        {
          "output_type": "stream",
          "text": [
            "I0523 08:56:59.444340 140589898045312 model_analyse.py:196] |===>FLOPs of layer [24]: 2.355200e+06, 0.018687\n"
          ],
          "name": "stderr"
        },
        {
          "output_type": "stream",
          "text": [
            "|===>FLOPs of layer [25]: 2.351104e+06, 0.018654\n",
            "|===>FLOPs of layer [25]: 2.351104e+06, 0.018654\n",
            "|===>FLOPs of layer [25]: 2.351104e+06, 0.018654\n",
            "|===>FLOPs of layer [25]: 2.351104e+06, 0.018654\n"
          ],
          "name": "stdout"
        },
        {
          "output_type": "stream",
          "text": [
            "I0523 08:56:59.456727 140589898045312 model_analyse.py:196] |===>FLOPs of layer [25]: 2.351104e+06, 0.018654\n"
          ],
          "name": "stderr"
        },
        {
          "output_type": "stream",
          "text": [
            "|===>FLOPs of layer [26]: 2.355200e+06, 0.018687\n",
            "|===>FLOPs of layer [26]: 2.355200e+06, 0.018687\n",
            "|===>FLOPs of layer [26]: 2.355200e+06, 0.018687\n",
            "|===>FLOPs of layer [26]: 2.355200e+06, 0.018687\n"
          ],
          "name": "stdout"
        },
        {
          "output_type": "stream",
          "text": [
            "I0523 08:56:59.468620 140589898045312 model_analyse.py:196] |===>FLOPs of layer [26]: 2.355200e+06, 0.018687\n"
          ],
          "name": "stderr"
        },
        {
          "output_type": "stream",
          "text": [
            "|===>FLOPs of layer [27]: 2.351104e+06, 0.018654\n",
            "|===>FLOPs of layer [27]: 2.351104e+06, 0.018654\n",
            "|===>FLOPs of layer [27]: 2.351104e+06, 0.018654\n",
            "|===>FLOPs of layer [27]: 2.351104e+06, 0.018654\n"
          ],
          "name": "stdout"
        },
        {
          "output_type": "stream",
          "text": [
            "I0523 08:56:59.478461 140589898045312 model_analyse.py:196] |===>FLOPs of layer [27]: 2.351104e+06, 0.018654\n"
          ],
          "name": "stderr"
        },
        {
          "output_type": "stream",
          "text": [
            "|===>FLOPs of layer [28]: 2.355200e+06, 0.018687\n",
            "|===>FLOPs of layer [28]: 2.355200e+06, 0.018687\n",
            "|===>FLOPs of layer [28]: 2.355200e+06, 0.018687\n",
            "|===>FLOPs of layer [28]: 2.355200e+06, 0.018687\n"
          ],
          "name": "stdout"
        },
        {
          "output_type": "stream",
          "text": [
            "I0523 08:56:59.488147 140589898045312 model_analyse.py:196] |===>FLOPs of layer [28]: 2.355200e+06, 0.018687\n"
          ],
          "name": "stderr"
        },
        {
          "output_type": "stream",
          "text": [
            "|===>FLOPs of layer [29]: 2.351104e+06, 0.018654\n",
            "|===>FLOPs of layer [29]: 2.351104e+06, 0.018654\n",
            "|===>FLOPs of layer [29]: 2.351104e+06, 0.018654\n",
            "|===>FLOPs of layer [29]: 2.351104e+06, 0.018654\n"
          ],
          "name": "stdout"
        },
        {
          "output_type": "stream",
          "text": [
            "I0523 08:56:59.495098 140589898045312 model_analyse.py:196] |===>FLOPs of layer [29]: 2.351104e+06, 0.018654\n"
          ],
          "name": "stderr"
        },
        {
          "output_type": "stream",
          "text": [
            "|===>FLOPs of layer [30]: 2.355200e+06, 0.018687\n",
            "|===>FLOPs of layer [30]: 2.355200e+06, 0.018687\n",
            "|===>FLOPs of layer [30]: 2.355200e+06, 0.018687\n",
            "|===>FLOPs of layer [30]: 2.355200e+06, 0.018687\n"
          ],
          "name": "stdout"
        },
        {
          "output_type": "stream",
          "text": [
            "I0523 08:56:59.511332 140589898045312 model_analyse.py:196] |===>FLOPs of layer [30]: 2.355200e+06, 0.018687\n"
          ],
          "name": "stderr"
        },
        {
          "output_type": "stream",
          "text": [
            "|===>FLOPs of layer [31]: 2.351104e+06, 0.018654\n",
            "|===>FLOPs of layer [31]: 2.351104e+06, 0.018654\n",
            "|===>FLOPs of layer [31]: 2.351104e+06, 0.018654\n",
            "|===>FLOPs of layer [31]: 2.351104e+06, 0.018654\n"
          ],
          "name": "stdout"
        },
        {
          "output_type": "stream",
          "text": [
            "I0523 08:56:59.519870 140589898045312 model_analyse.py:196] |===>FLOPs of layer [31]: 2.351104e+06, 0.018654\n"
          ],
          "name": "stderr"
        },
        {
          "output_type": "stream",
          "text": [
            "|===>FLOPs of layer [32]: 2.355200e+06, 0.018687\n",
            "|===>FLOPs of layer [32]: 2.355200e+06, 0.018687\n",
            "|===>FLOPs of layer [32]: 2.355200e+06, 0.018687\n",
            "|===>FLOPs of layer [32]: 2.355200e+06, 0.018687\n"
          ],
          "name": "stdout"
        },
        {
          "output_type": "stream",
          "text": [
            "I0523 08:56:59.527561 140589898045312 model_analyse.py:196] |===>FLOPs of layer [32]: 2.355200e+06, 0.018687\n"
          ],
          "name": "stderr"
        },
        {
          "output_type": "stream",
          "text": [
            "|===>FLOPs of layer [33]: 2.351104e+06, 0.018654\n",
            "|===>FLOPs of layer [33]: 2.351104e+06, 0.018654\n",
            "|===>FLOPs of layer [33]: 2.351104e+06, 0.018654\n",
            "|===>FLOPs of layer [33]: 2.351104e+06, 0.018654\n"
          ],
          "name": "stdout"
        },
        {
          "output_type": "stream",
          "text": [
            "I0523 08:56:59.534969 140589898045312 model_analyse.py:196] |===>FLOPs of layer [33]: 2.351104e+06, 0.018654\n"
          ],
          "name": "stderr"
        },
        {
          "output_type": "stream",
          "text": [
            "|===>FLOPs of layer [34]: 2.355200e+06, 0.018687\n",
            "|===>FLOPs of layer [34]: 2.355200e+06, 0.018687\n",
            "|===>FLOPs of layer [34]: 2.355200e+06, 0.018687\n",
            "|===>FLOPs of layer [34]: 2.355200e+06, 0.018687\n"
          ],
          "name": "stdout"
        },
        {
          "output_type": "stream",
          "text": [
            "I0523 08:56:59.542649 140589898045312 model_analyse.py:196] |===>FLOPs of layer [34]: 2.355200e+06, 0.018687\n"
          ],
          "name": "stderr"
        },
        {
          "output_type": "stream",
          "text": [
            "|===>FLOPs of layer [35]: 2.351104e+06, 0.018654\n",
            "|===>FLOPs of layer [35]: 2.351104e+06, 0.018654\n",
            "|===>FLOPs of layer [35]: 2.351104e+06, 0.018654\n",
            "|===>FLOPs of layer [35]: 2.351104e+06, 0.018654\n"
          ],
          "name": "stdout"
        },
        {
          "output_type": "stream",
          "text": [
            "I0523 08:56:59.549829 140589898045312 model_analyse.py:196] |===>FLOPs of layer [35]: 2.351104e+06, 0.018654\n"
          ],
          "name": "stderr"
        },
        {
          "output_type": "stream",
          "text": [
            "|===>FLOPs of layer [36]: 2.355200e+06, 0.018687\n",
            "|===>FLOPs of layer [36]: 2.355200e+06, 0.018687\n",
            "|===>FLOPs of layer [36]: 2.355200e+06, 0.018687\n",
            "|===>FLOPs of layer [36]: 2.355200e+06, 0.018687\n"
          ],
          "name": "stdout"
        },
        {
          "output_type": "stream",
          "text": [
            "I0523 08:56:59.556915 140589898045312 model_analyse.py:196] |===>FLOPs of layer [36]: 2.355200e+06, 0.018687\n"
          ],
          "name": "stderr"
        },
        {
          "output_type": "stream",
          "text": [
            "|===>FLOPs of layer [37]: 2.351104e+06, 0.018654\n",
            "|===>FLOPs of layer [37]: 2.351104e+06, 0.018654\n",
            "|===>FLOPs of layer [37]: 2.351104e+06, 0.018654\n",
            "|===>FLOPs of layer [37]: 2.351104e+06, 0.018654\n"
          ],
          "name": "stdout"
        },
        {
          "output_type": "stream",
          "text": [
            "I0523 08:56:59.568064 140589898045312 model_analyse.py:196] |===>FLOPs of layer [37]: 2.351104e+06, 0.018654\n"
          ],
          "name": "stderr"
        },
        {
          "output_type": "stream",
          "text": [
            "|===>FLOPs of layer [38]: 1.177600e+06, 0.009343\n",
            "|===>FLOPs of layer [38]: 1.177600e+06, 0.009343\n",
            "|===>FLOPs of layer [38]: 1.177600e+06, 0.009343\n",
            "|===>FLOPs of layer [38]: 1.177600e+06, 0.009343\n"
          ],
          "name": "stdout"
        },
        {
          "output_type": "stream",
          "text": [
            "I0523 08:56:59.577066 140589898045312 model_analyse.py:196] |===>FLOPs of layer [38]: 1.177600e+06, 0.009343\n"
          ],
          "name": "stderr"
        },
        {
          "output_type": "stream",
          "text": [
            "|===>FLOPs of layer [39]: 2.355200e+06, 0.018687\n",
            "|===>FLOPs of layer [39]: 2.355200e+06, 0.018687\n",
            "|===>FLOPs of layer [39]: 2.355200e+06, 0.018687\n",
            "|===>FLOPs of layer [39]: 2.355200e+06, 0.018687\n"
          ],
          "name": "stdout"
        },
        {
          "output_type": "stream",
          "text": [
            "I0523 08:56:59.585809 140589898045312 model_analyse.py:196] |===>FLOPs of layer [39]: 2.355200e+06, 0.018687\n"
          ],
          "name": "stderr"
        },
        {
          "output_type": "stream",
          "text": [
            "|===>FLOPs of layer [40]: 2.580480e+05, 0.002047\n",
            "|===>FLOPs of layer [40]: 2.580480e+05, 0.002047\n",
            "|===>FLOPs of layer [40]: 2.580480e+05, 0.002047\n",
            "|===>FLOPs of layer [40]: 2.580480e+05, 0.002047\n"
          ],
          "name": "stdout"
        },
        {
          "output_type": "stream",
          "text": [
            "I0523 08:56:59.606374 140589898045312 model_analyse.py:196] |===>FLOPs of layer [40]: 2.580480e+05, 0.002047\n"
          ],
          "name": "stderr"
        },
        {
          "output_type": "stream",
          "text": [
            "|===>FLOPs of layer [41]: 2.357248e+06, 0.018703\n",
            "|===>FLOPs of layer [41]: 2.357248e+06, 0.018703\n",
            "|===>FLOPs of layer [41]: 2.357248e+06, 0.018703\n",
            "|===>FLOPs of layer [41]: 2.357248e+06, 0.018703\n"
          ],
          "name": "stdout"
        },
        {
          "output_type": "stream",
          "text": [
            "I0523 08:56:59.615747 140589898045312 model_analyse.py:196] |===>FLOPs of layer [41]: 2.357248e+06, 0.018703\n"
          ],
          "name": "stderr"
        },
        {
          "output_type": "stream",
          "text": [
            "|===>FLOPs of layer [42]: 2.355200e+06, 0.018687\n",
            "|===>FLOPs of layer [42]: 2.355200e+06, 0.018687\n",
            "|===>FLOPs of layer [42]: 2.355200e+06, 0.018687\n",
            "|===>FLOPs of layer [42]: 2.355200e+06, 0.018687\n"
          ],
          "name": "stdout"
        },
        {
          "output_type": "stream",
          "text": [
            "I0523 08:56:59.622850 140589898045312 model_analyse.py:196] |===>FLOPs of layer [42]: 2.355200e+06, 0.018687\n"
          ],
          "name": "stderr"
        },
        {
          "output_type": "stream",
          "text": [
            "|===>FLOPs of layer [43]: 2.357248e+06, 0.018703\n",
            "|===>FLOPs of layer [43]: 2.357248e+06, 0.018703\n",
            "|===>FLOPs of layer [43]: 2.357248e+06, 0.018703\n",
            "|===>FLOPs of layer [43]: 2.357248e+06, 0.018703\n"
          ],
          "name": "stdout"
        },
        {
          "output_type": "stream",
          "text": [
            "I0523 08:56:59.633222 140589898045312 model_analyse.py:196] |===>FLOPs of layer [43]: 2.357248e+06, 0.018703\n"
          ],
          "name": "stderr"
        },
        {
          "output_type": "stream",
          "text": [
            "|===>FLOPs of layer [44]: 2.355200e+06, 0.018687\n",
            "|===>FLOPs of layer [44]: 2.355200e+06, 0.018687\n",
            "|===>FLOPs of layer [44]: 2.355200e+06, 0.018687\n",
            "|===>FLOPs of layer [44]: 2.355200e+06, 0.018687\n"
          ],
          "name": "stdout"
        },
        {
          "output_type": "stream",
          "text": [
            "I0523 08:56:59.640017 140589898045312 model_analyse.py:196] |===>FLOPs of layer [44]: 2.355200e+06, 0.018687\n"
          ],
          "name": "stderr"
        },
        {
          "output_type": "stream",
          "text": [
            "|===>FLOPs of layer [45]: 2.357248e+06, 0.018703\n",
            "|===>FLOPs of layer [45]: 2.357248e+06, 0.018703\n",
            "|===>FLOPs of layer [45]: 2.357248e+06, 0.018703\n",
            "|===>FLOPs of layer [45]: 2.357248e+06, 0.018703\n"
          ],
          "name": "stdout"
        },
        {
          "output_type": "stream",
          "text": [
            "I0523 08:56:59.652060 140589898045312 model_analyse.py:196] |===>FLOPs of layer [45]: 2.357248e+06, 0.018703\n"
          ],
          "name": "stderr"
        },
        {
          "output_type": "stream",
          "text": [
            "|===>FLOPs of layer [46]: 2.355200e+06, 0.018687\n",
            "|===>FLOPs of layer [46]: 2.355200e+06, 0.018687\n",
            "|===>FLOPs of layer [46]: 2.355200e+06, 0.018687\n",
            "|===>FLOPs of layer [46]: 2.355200e+06, 0.018687\n"
          ],
          "name": "stdout"
        },
        {
          "output_type": "stream",
          "text": [
            "I0523 08:56:59.665074 140589898045312 model_analyse.py:196] |===>FLOPs of layer [46]: 2.355200e+06, 0.018687\n"
          ],
          "name": "stderr"
        },
        {
          "output_type": "stream",
          "text": [
            "|===>FLOPs of layer [47]: 2.357248e+06, 0.018703\n",
            "|===>FLOPs of layer [47]: 2.357248e+06, 0.018703\n",
            "|===>FLOPs of layer [47]: 2.357248e+06, 0.018703\n",
            "|===>FLOPs of layer [47]: 2.357248e+06, 0.018703\n"
          ],
          "name": "stdout"
        },
        {
          "output_type": "stream",
          "text": [
            "I0523 08:56:59.677805 140589898045312 model_analyse.py:196] |===>FLOPs of layer [47]: 2.357248e+06, 0.018703\n"
          ],
          "name": "stderr"
        },
        {
          "output_type": "stream",
          "text": [
            "|===>FLOPs of layer [48]: 2.355200e+06, 0.018687\n",
            "|===>FLOPs of layer [48]: 2.355200e+06, 0.018687\n",
            "|===>FLOPs of layer [48]: 2.355200e+06, 0.018687\n",
            "|===>FLOPs of layer [48]: 2.355200e+06, 0.018687\n"
          ],
          "name": "stdout"
        },
        {
          "output_type": "stream",
          "text": [
            "I0523 08:56:59.690897 140589898045312 model_analyse.py:196] |===>FLOPs of layer [48]: 2.355200e+06, 0.018687\n"
          ],
          "name": "stderr"
        },
        {
          "output_type": "stream",
          "text": [
            "|===>FLOPs of layer [49]: 2.357248e+06, 0.018703\n",
            "|===>FLOPs of layer [49]: 2.357248e+06, 0.018703\n",
            "|===>FLOPs of layer [49]: 2.357248e+06, 0.018703\n",
            "|===>FLOPs of layer [49]: 2.357248e+06, 0.018703\n"
          ],
          "name": "stdout"
        },
        {
          "output_type": "stream",
          "text": [
            "I0523 08:56:59.710500 140589898045312 model_analyse.py:196] |===>FLOPs of layer [49]: 2.357248e+06, 0.018703\n"
          ],
          "name": "stderr"
        },
        {
          "output_type": "stream",
          "text": [
            "|===>FLOPs of layer [50]: 2.355200e+06, 0.018687\n",
            "|===>FLOPs of layer [50]: 2.355200e+06, 0.018687\n",
            "|===>FLOPs of layer [50]: 2.355200e+06, 0.018687\n",
            "|===>FLOPs of layer [50]: 2.355200e+06, 0.018687\n"
          ],
          "name": "stdout"
        },
        {
          "output_type": "stream",
          "text": [
            "I0523 08:56:59.720896 140589898045312 model_analyse.py:196] |===>FLOPs of layer [50]: 2.355200e+06, 0.018687\n"
          ],
          "name": "stderr"
        },
        {
          "output_type": "stream",
          "text": [
            "|===>FLOPs of layer [51]: 2.357248e+06, 0.018703\n",
            "|===>FLOPs of layer [51]: 2.357248e+06, 0.018703\n",
            "|===>FLOPs of layer [51]: 2.357248e+06, 0.018703\n",
            "|===>FLOPs of layer [51]: 2.357248e+06, 0.018703\n"
          ],
          "name": "stdout"
        },
        {
          "output_type": "stream",
          "text": [
            "I0523 08:56:59.727655 140589898045312 model_analyse.py:196] |===>FLOPs of layer [51]: 2.357248e+06, 0.018703\n"
          ],
          "name": "stderr"
        },
        {
          "output_type": "stream",
          "text": [
            "|===>FLOPs of layer [52]: 2.355200e+06, 0.018687\n",
            "|===>FLOPs of layer [52]: 2.355200e+06, 0.018687\n",
            "|===>FLOPs of layer [52]: 2.355200e+06, 0.018687\n",
            "|===>FLOPs of layer [52]: 2.355200e+06, 0.018687\n"
          ],
          "name": "stdout"
        },
        {
          "output_type": "stream",
          "text": [
            "I0523 08:56:59.734317 140589898045312 model_analyse.py:196] |===>FLOPs of layer [52]: 2.355200e+06, 0.018687\n"
          ],
          "name": "stderr"
        },
        {
          "output_type": "stream",
          "text": [
            "|===>FLOPs of layer [53]: 2.357248e+06, 0.018703\n",
            "|===>FLOPs of layer [53]: 2.357248e+06, 0.018703\n",
            "|===>FLOPs of layer [53]: 2.357248e+06, 0.018703\n",
            "|===>FLOPs of layer [53]: 2.357248e+06, 0.018703\n"
          ],
          "name": "stdout"
        },
        {
          "output_type": "stream",
          "text": [
            "I0523 08:56:59.740916 140589898045312 model_analyse.py:196] |===>FLOPs of layer [53]: 2.357248e+06, 0.018703\n"
          ],
          "name": "stderr"
        },
        {
          "output_type": "stream",
          "text": [
            "|===>FLOPs of layer [54]: 2.355200e+06, 0.018687\n",
            "|===>FLOPs of layer [54]: 2.355200e+06, 0.018687\n",
            "|===>FLOPs of layer [54]: 2.355200e+06, 0.018687\n",
            "|===>FLOPs of layer [54]: 2.355200e+06, 0.018687\n"
          ],
          "name": "stdout"
        },
        {
          "output_type": "stream",
          "text": [
            "I0523 08:56:59.747771 140589898045312 model_analyse.py:196] |===>FLOPs of layer [54]: 2.355200e+06, 0.018687\n"
          ],
          "name": "stderr"
        },
        {
          "output_type": "stream",
          "text": [
            "|===>FLOPs of layer [55]: 2.357248e+06, 0.018703\n",
            "|===>FLOPs of layer [55]: 2.357248e+06, 0.018703\n",
            "|===>FLOPs of layer [55]: 2.357248e+06, 0.018703\n",
            "|===>FLOPs of layer [55]: 2.357248e+06, 0.018703\n"
          ],
          "name": "stdout"
        },
        {
          "output_type": "stream",
          "text": [
            "I0523 08:56:59.754858 140589898045312 model_analyse.py:196] |===>FLOPs of layer [55]: 2.357248e+06, 0.018703\n"
          ],
          "name": "stderr"
        },
        {
          "output_type": "stream",
          "text": [
            "|===>FLOPs of layer [56]: 2.355200e+06, 0.018687\n",
            "|===>FLOPs of layer [56]: 2.355200e+06, 0.018687\n",
            "|===>FLOPs of layer [56]: 2.355200e+06, 0.018687\n",
            "|===>FLOPs of layer [56]: 2.355200e+06, 0.018687\n"
          ],
          "name": "stdout"
        },
        {
          "output_type": "stream",
          "text": [
            "I0523 08:56:59.761866 140589898045312 model_analyse.py:196] |===>FLOPs of layer [56]: 2.355200e+06, 0.018687\n"
          ],
          "name": "stderr"
        },
        {
          "output_type": "stream",
          "text": [
            "|===>FLOPs of layer [57]: 1.280000e+03, 0.000010\n",
            "|===>FLOPs of layer [57]: 1.280000e+03, 0.000010\n",
            "|===>FLOPs of layer [57]: 1.280000e+03, 0.000010\n",
            "|===>FLOPs of layer [57]: 1.280000e+03, 0.000010\n"
          ],
          "name": "stdout"
        },
        {
          "output_type": "stream",
          "text": [
            "I0523 08:56:59.768891 140589898045312 model_analyse.py:196] |===>FLOPs of layer [57]: 1.280000e+03, 0.000010\n"
          ],
          "name": "stderr"
        },
        {
          "output_type": "stream",
          "text": [
            "### Total FLOPs: 1.260372e+08\n",
            "### Total FLOPs: 1.260372e+08\n",
            "### Total FLOPs: 1.260372e+08\n",
            "### Total FLOPs: 1.260372e+08\n"
          ],
          "name": "stdout"
        },
        {
          "output_type": "stream",
          "text": [
            "I0523 08:56:59.775609 140589898045312 model_analyse.py:198] ### Total FLOPs: 1.260372e+08\n"
          ],
          "name": "stderr"
        }
      ]
    },
    {
      "cell_type": "markdown",
      "metadata": {
        "id": "liBT__37wZoN",
        "colab_type": "text"
      },
      "source": [
        "# 实验体会"
      ]
    },
    {
      "cell_type": "markdown",
      "metadata": {
        "id": "LtBk9JD3weBO",
        "colab_type": "text"
      },
      "source": [
        "1.Python2.7坑比较多，现在很多工具都不支持用了\n",
        "2. "
      ]
    }
  ]
}