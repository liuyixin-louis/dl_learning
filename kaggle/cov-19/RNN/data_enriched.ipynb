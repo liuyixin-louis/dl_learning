{
 "metadata": {
  "language_info": {
   "codemirror_mode": {
    "name": "ipython",
    "version": 3
   },
   "file_extension": ".py",
   "mimetype": "text/x-python",
   "name": "python",
   "nbconvert_exporter": "python",
   "pygments_lexer": "ipython3",
   "version": "3.7.3-final"
  },
  "orig_nbformat": 2,
  "kernelspec": {
   "name": "python_defaultSpec_1600872757196",
   "display_name": "Python 3.7.3 64-bit ('dl': conda)"
  }
 },
 "nbformat": 4,
 "nbformat_minor": 2,
 "cells": [
  {
   "source": [
    "# data enriched"
   ],
   "cell_type": "markdown",
   "metadata": {}
  },
  {
   "source": [
    "# This Python 3 environment comes with many helpful analytics libraries installed\n",
    "# It is defined by the kaggle/python docker image: https://github.com/kaggle/docker-python\n",
    "# For example, here's several helpful packages to load in \n",
    "\n",
    "import numpy as np # linear algebra\n",
    "import pandas as pd # data processing, CSV file I/O (e.g. pd.read_csv)\n",
    "\n",
    "# Input data files are available in the \"../input/\" directory.\n",
    "# For example, running this (by clicking run or pressing Shift+Enter) will list all files under the input directory\n",
    "\n",
    "import os\n",
    "for dirname, _, filenames in os.walk('../data'):\n",
    "    for filename in filenames:\n",
    "        print(os.path.join(dirname, filename))\n",
    "\n",
    "# Any results you write to the current directory are saved as output."
   ],
   "cell_type": "code",
   "metadata": {},
   "execution_count": 25,
   "outputs": []
  },
  {
   "cell_type": "code",
   "execution_count": 26,
   "metadata": {
    "tags": []
   },
   "outputs": [
    {
     "output_type": "stream",
     "name": "stdout",
     "text": "Dataset has training data untill : 2020-03-31T00:00:00.000000000\n"
    }
   ],
   "source": [
    "df = pd.read_csv('/home/young/liuyixin/dl_learning/material/dataset/covid19-global-forecasting-week-2/train.csv', sep=',')\n",
    "df['Date'] = pd.to_datetime(df['Date'])\n",
    "train_last_date = df.Date.unique()[-1]\n",
    "print(f\"Dataset has training data untill : {train_last_date}\")"
   ]
  },
  {
   "cell_type": "code",
   "execution_count": 27,
   "metadata": {},
   "outputs": [],
   "source": [
    "wpop = pd.read_csv('/home/young/liuyixin/dl_learning/material/dataset/worldpopulationbyage/WPP2019_PopulationByAgeSex_Medium.csv')"
   ]
  },
  {
   "cell_type": "code",
   "execution_count": 28,
   "metadata": {},
   "outputs": [],
   "source": [
    "country_mapper = {\n",
    "'Iran (Islamic Republic of)' : \"Iran\",\n",
    "'Bolivia (Plurinational State of)' : 'Bolivia',\n",
    "'Brunei Darussalam' : 'Brunei',\n",
    "'Congo' : 'Congo (Kinshasa)',\n",
    "'Democratic Republic of the Congo' : \"Congo (Brazzaville)\",\n",
    "\"Côte d'Ivoire\": \"Cote d'Ivoire\",\n",
    "\"Gambia\" : \"Gambia, The\",\n",
    "\"Republic of Korea\": \"Korea, South\",\n",
    "\"Republic of Moldova\": \"Moldova\",\n",
    "'Réunion' : \"Reunion\",\n",
    "'Russian Federation' : \"Russia\",\n",
    "'China, Taiwan Province of China' : \"Taiwan*\",\n",
    "\"United Republic of Tanzania\": \"Tanzania\",\n",
    "\"Bahamas\": \"The Bahamas\",\n",
    "\"Gambia\": \"The Gambia\",\n",
    "\"United States of America (and dependencies)\" : \"US\",\n",
    "\"Venezuela (Bolivarian Republic of)\" : \"Venezuela\",\n",
    "'Viet Nam' : \"Vietnam\"}"
   ]
  },
  {
   "cell_type": "code",
   "execution_count": 29,
   "metadata": {},
   "outputs": [],
   "source": [
    "def rename_countries(x, country_dict):\n",
    "    new_name = country_dict.get(x)\n",
    "    if new_name is not None:\n",
    "        #print(x, \"-->\", new_name)\n",
    "        return new_name\n",
    "    else:\n",
    "        return x"
   ]
  },
  {
   "cell_type": "code",
   "execution_count": 30,
   "metadata": {},
   "outputs": [
    {
     "output_type": "execute_result",
     "data": {
      "text/plain": "         LocID     Location  VarID Variant  Time  MidPeriod AgeGrp  \\\n0            4  Afghanistan      2  Medium  1950     1950.5    0-4   \n1            4  Afghanistan      2  Medium  1950     1950.5    5-9   \n2            4  Afghanistan      2  Medium  1950     1950.5  10-14   \n3            4  Afghanistan      2  Medium  1950     1950.5  15-19   \n4            4  Afghanistan      2  Medium  1950     1950.5  20-24   \n...        ...          ...    ...     ...   ...        ...    ...   \n1404748    716     Zimbabwe      2  Medium  2100     2100.5  80-84   \n1404749    716     Zimbabwe      2  Medium  2100     2100.5  85-89   \n1404750    716     Zimbabwe      2  Medium  2100     2100.5  90-94   \n1404751    716     Zimbabwe      2  Medium  2100     2100.5  95-99   \n1404752    716     Zimbabwe      2  Medium  2100     2100.5   100+   \n\n         AgeGrpStart  AgeGrpSpan  PopMale  PopFemale  PopTotal  \n0                  0           5  630.044    661.578  1291.622  \n1                  5           5  516.206    487.335  1003.541  \n2                 10           5  461.378    423.326   884.704  \n3                 15           5  414.369    369.363   783.732  \n4                 20           5  374.109    318.392   692.501  \n...              ...         ...      ...        ...       ...  \n1404748           80           5  265.750    419.683   685.433  \n1404749           85           5  127.913    248.914   376.827  \n1404750           90           5   30.277     78.801   109.078  \n1404751           95           5    3.581     13.659    17.240  \n1404752          100          -1    0.204      1.203     1.407  \n\n[1404753 rows x 12 columns]",
      "text/html": "<div>\n<style scoped>\n    .dataframe tbody tr th:only-of-type {\n        vertical-align: middle;\n    }\n\n    .dataframe tbody tr th {\n        vertical-align: top;\n    }\n\n    .dataframe thead th {\n        text-align: right;\n    }\n</style>\n<table border=\"1\" class=\"dataframe\">\n  <thead>\n    <tr style=\"text-align: right;\">\n      <th></th>\n      <th>LocID</th>\n      <th>Location</th>\n      <th>VarID</th>\n      <th>Variant</th>\n      <th>Time</th>\n      <th>MidPeriod</th>\n      <th>AgeGrp</th>\n      <th>AgeGrpStart</th>\n      <th>AgeGrpSpan</th>\n      <th>PopMale</th>\n      <th>PopFemale</th>\n      <th>PopTotal</th>\n    </tr>\n  </thead>\n  <tbody>\n    <tr>\n      <th>0</th>\n      <td>4</td>\n      <td>Afghanistan</td>\n      <td>2</td>\n      <td>Medium</td>\n      <td>1950</td>\n      <td>1950.5</td>\n      <td>0-4</td>\n      <td>0</td>\n      <td>5</td>\n      <td>630.044</td>\n      <td>661.578</td>\n      <td>1291.622</td>\n    </tr>\n    <tr>\n      <th>1</th>\n      <td>4</td>\n      <td>Afghanistan</td>\n      <td>2</td>\n      <td>Medium</td>\n      <td>1950</td>\n      <td>1950.5</td>\n      <td>5-9</td>\n      <td>5</td>\n      <td>5</td>\n      <td>516.206</td>\n      <td>487.335</td>\n      <td>1003.541</td>\n    </tr>\n    <tr>\n      <th>2</th>\n      <td>4</td>\n      <td>Afghanistan</td>\n      <td>2</td>\n      <td>Medium</td>\n      <td>1950</td>\n      <td>1950.5</td>\n      <td>10-14</td>\n      <td>10</td>\n      <td>5</td>\n      <td>461.378</td>\n      <td>423.326</td>\n      <td>884.704</td>\n    </tr>\n    <tr>\n      <th>3</th>\n      <td>4</td>\n      <td>Afghanistan</td>\n      <td>2</td>\n      <td>Medium</td>\n      <td>1950</td>\n      <td>1950.5</td>\n      <td>15-19</td>\n      <td>15</td>\n      <td>5</td>\n      <td>414.369</td>\n      <td>369.363</td>\n      <td>783.732</td>\n    </tr>\n    <tr>\n      <th>4</th>\n      <td>4</td>\n      <td>Afghanistan</td>\n      <td>2</td>\n      <td>Medium</td>\n      <td>1950</td>\n      <td>1950.5</td>\n      <td>20-24</td>\n      <td>20</td>\n      <td>5</td>\n      <td>374.109</td>\n      <td>318.392</td>\n      <td>692.501</td>\n    </tr>\n    <tr>\n      <th>...</th>\n      <td>...</td>\n      <td>...</td>\n      <td>...</td>\n      <td>...</td>\n      <td>...</td>\n      <td>...</td>\n      <td>...</td>\n      <td>...</td>\n      <td>...</td>\n      <td>...</td>\n      <td>...</td>\n      <td>...</td>\n    </tr>\n    <tr>\n      <th>1404748</th>\n      <td>716</td>\n      <td>Zimbabwe</td>\n      <td>2</td>\n      <td>Medium</td>\n      <td>2100</td>\n      <td>2100.5</td>\n      <td>80-84</td>\n      <td>80</td>\n      <td>5</td>\n      <td>265.750</td>\n      <td>419.683</td>\n      <td>685.433</td>\n    </tr>\n    <tr>\n      <th>1404749</th>\n      <td>716</td>\n      <td>Zimbabwe</td>\n      <td>2</td>\n      <td>Medium</td>\n      <td>2100</td>\n      <td>2100.5</td>\n      <td>85-89</td>\n      <td>85</td>\n      <td>5</td>\n      <td>127.913</td>\n      <td>248.914</td>\n      <td>376.827</td>\n    </tr>\n    <tr>\n      <th>1404750</th>\n      <td>716</td>\n      <td>Zimbabwe</td>\n      <td>2</td>\n      <td>Medium</td>\n      <td>2100</td>\n      <td>2100.5</td>\n      <td>90-94</td>\n      <td>90</td>\n      <td>5</td>\n      <td>30.277</td>\n      <td>78.801</td>\n      <td>109.078</td>\n    </tr>\n    <tr>\n      <th>1404751</th>\n      <td>716</td>\n      <td>Zimbabwe</td>\n      <td>2</td>\n      <td>Medium</td>\n      <td>2100</td>\n      <td>2100.5</td>\n      <td>95-99</td>\n      <td>95</td>\n      <td>5</td>\n      <td>3.581</td>\n      <td>13.659</td>\n      <td>17.240</td>\n    </tr>\n    <tr>\n      <th>1404752</th>\n      <td>716</td>\n      <td>Zimbabwe</td>\n      <td>2</td>\n      <td>Medium</td>\n      <td>2100</td>\n      <td>2100.5</td>\n      <td>100+</td>\n      <td>100</td>\n      <td>-1</td>\n      <td>0.204</td>\n      <td>1.203</td>\n      <td>1.407</td>\n    </tr>\n  </tbody>\n</table>\n<p>1404753 rows × 12 columns</p>\n</div>"
     },
     "metadata": {},
     "execution_count": 30
    }
   ],
   "source": [
    "wpop"
   ]
  },
  {
   "cell_type": "code",
   "execution_count": 31,
   "metadata": {},
   "outputs": [],
   "source": [
    "wpop = wpop[wpop['Time']==2020].reset_index(drop=True)"
   ]
  },
  {
   "cell_type": "code",
   "execution_count": 32,
   "metadata": {},
   "outputs": [
    {
     "output_type": "execute_result",
     "data": {
      "text/plain": "      LocID     Location  VarID Variant  Time  MidPeriod AgeGrp  AgeGrpStart  \\\n0         4  Afghanistan      2  Medium  2020     2020.5    0-4            0   \n1         4  Afghanistan      2  Medium  2020     2020.5    5-9            5   \n2         4  Afghanistan      2  Medium  2020     2020.5  10-14           10   \n3         4  Afghanistan      2  Medium  2020     2020.5  15-19           15   \n4         4  Afghanistan      2  Medium  2020     2020.5  20-24           20   \n...     ...          ...    ...     ...   ...        ...    ...          ...   \n9298    716     Zimbabwe      2  Medium  2020     2020.5  80-84           80   \n9299    716     Zimbabwe      2  Medium  2020     2020.5  85-89           85   \n9300    716     Zimbabwe      2  Medium  2020     2020.5  90-94           90   \n9301    716     Zimbabwe      2  Medium  2020     2020.5  95-99           95   \n9302    716     Zimbabwe      2  Medium  2020     2020.5   100+          100   \n\n      AgeGrpSpan   PopMale  PopFemale  PopTotal  \n0              5  2907.406   2765.103  5672.509  \n1              5  2774.630   2641.593  5416.223  \n2              5  2651.664   2540.450  5192.114  \n3              5  2377.941   2251.504  4629.445  \n4              5  2017.279   1909.206  3926.485  \n...          ...       ...        ...       ...  \n9298           5    13.034     30.854    43.888  \n9299           5     3.697     11.763    15.460  \n9300           5     0.540      2.487     3.027  \n9301           5     0.033      0.234     0.267  \n9302          -1     0.002      0.017     0.019  \n\n[9303 rows x 12 columns]",
      "text/html": "<div>\n<style scoped>\n    .dataframe tbody tr th:only-of-type {\n        vertical-align: middle;\n    }\n\n    .dataframe tbody tr th {\n        vertical-align: top;\n    }\n\n    .dataframe thead th {\n        text-align: right;\n    }\n</style>\n<table border=\"1\" class=\"dataframe\">\n  <thead>\n    <tr style=\"text-align: right;\">\n      <th></th>\n      <th>LocID</th>\n      <th>Location</th>\n      <th>VarID</th>\n      <th>Variant</th>\n      <th>Time</th>\n      <th>MidPeriod</th>\n      <th>AgeGrp</th>\n      <th>AgeGrpStart</th>\n      <th>AgeGrpSpan</th>\n      <th>PopMale</th>\n      <th>PopFemale</th>\n      <th>PopTotal</th>\n    </tr>\n  </thead>\n  <tbody>\n    <tr>\n      <th>0</th>\n      <td>4</td>\n      <td>Afghanistan</td>\n      <td>2</td>\n      <td>Medium</td>\n      <td>2020</td>\n      <td>2020.5</td>\n      <td>0-4</td>\n      <td>0</td>\n      <td>5</td>\n      <td>2907.406</td>\n      <td>2765.103</td>\n      <td>5672.509</td>\n    </tr>\n    <tr>\n      <th>1</th>\n      <td>4</td>\n      <td>Afghanistan</td>\n      <td>2</td>\n      <td>Medium</td>\n      <td>2020</td>\n      <td>2020.5</td>\n      <td>5-9</td>\n      <td>5</td>\n      <td>5</td>\n      <td>2774.630</td>\n      <td>2641.593</td>\n      <td>5416.223</td>\n    </tr>\n    <tr>\n      <th>2</th>\n      <td>4</td>\n      <td>Afghanistan</td>\n      <td>2</td>\n      <td>Medium</td>\n      <td>2020</td>\n      <td>2020.5</td>\n      <td>10-14</td>\n      <td>10</td>\n      <td>5</td>\n      <td>2651.664</td>\n      <td>2540.450</td>\n      <td>5192.114</td>\n    </tr>\n    <tr>\n      <th>3</th>\n      <td>4</td>\n      <td>Afghanistan</td>\n      <td>2</td>\n      <td>Medium</td>\n      <td>2020</td>\n      <td>2020.5</td>\n      <td>15-19</td>\n      <td>15</td>\n      <td>5</td>\n      <td>2377.941</td>\n      <td>2251.504</td>\n      <td>4629.445</td>\n    </tr>\n    <tr>\n      <th>4</th>\n      <td>4</td>\n      <td>Afghanistan</td>\n      <td>2</td>\n      <td>Medium</td>\n      <td>2020</td>\n      <td>2020.5</td>\n      <td>20-24</td>\n      <td>20</td>\n      <td>5</td>\n      <td>2017.279</td>\n      <td>1909.206</td>\n      <td>3926.485</td>\n    </tr>\n    <tr>\n      <th>...</th>\n      <td>...</td>\n      <td>...</td>\n      <td>...</td>\n      <td>...</td>\n      <td>...</td>\n      <td>...</td>\n      <td>...</td>\n      <td>...</td>\n      <td>...</td>\n      <td>...</td>\n      <td>...</td>\n      <td>...</td>\n    </tr>\n    <tr>\n      <th>9298</th>\n      <td>716</td>\n      <td>Zimbabwe</td>\n      <td>2</td>\n      <td>Medium</td>\n      <td>2020</td>\n      <td>2020.5</td>\n      <td>80-84</td>\n      <td>80</td>\n      <td>5</td>\n      <td>13.034</td>\n      <td>30.854</td>\n      <td>43.888</td>\n    </tr>\n    <tr>\n      <th>9299</th>\n      <td>716</td>\n      <td>Zimbabwe</td>\n      <td>2</td>\n      <td>Medium</td>\n      <td>2020</td>\n      <td>2020.5</td>\n      <td>85-89</td>\n      <td>85</td>\n      <td>5</td>\n      <td>3.697</td>\n      <td>11.763</td>\n      <td>15.460</td>\n    </tr>\n    <tr>\n      <th>9300</th>\n      <td>716</td>\n      <td>Zimbabwe</td>\n      <td>2</td>\n      <td>Medium</td>\n      <td>2020</td>\n      <td>2020.5</td>\n      <td>90-94</td>\n      <td>90</td>\n      <td>5</td>\n      <td>0.540</td>\n      <td>2.487</td>\n      <td>3.027</td>\n    </tr>\n    <tr>\n      <th>9301</th>\n      <td>716</td>\n      <td>Zimbabwe</td>\n      <td>2</td>\n      <td>Medium</td>\n      <td>2020</td>\n      <td>2020.5</td>\n      <td>95-99</td>\n      <td>95</td>\n      <td>5</td>\n      <td>0.033</td>\n      <td>0.234</td>\n      <td>0.267</td>\n    </tr>\n    <tr>\n      <th>9302</th>\n      <td>716</td>\n      <td>Zimbabwe</td>\n      <td>2</td>\n      <td>Medium</td>\n      <td>2020</td>\n      <td>2020.5</td>\n      <td>100+</td>\n      <td>100</td>\n      <td>-1</td>\n      <td>0.002</td>\n      <td>0.017</td>\n      <td>0.019</td>\n    </tr>\n  </tbody>\n</table>\n<p>9303 rows × 12 columns</p>\n</div>"
     },
     "metadata": {},
     "execution_count": 32
    }
   ],
   "source": [
    "wpop"
   ]
  },
  {
   "cell_type": "code",
   "execution_count": 33,
   "metadata": {},
   "outputs": [],
   "source": [
    "wpop['Location'] = wpop.Location.apply(lambda x : rename_countries(x, country_mapper))"
   ]
  },
  {
   "cell_type": "code",
   "execution_count": 34,
   "metadata": {},
   "outputs": [],
   "source": [
    "clean_wpop = wpop[wpop['Location'].isin(df['Country_Region'].unique())].reset_index()"
   ]
  },
  {
   "cell_type": "code",
   "execution_count": 35,
   "metadata": {},
   "outputs": [],
   "source": [
    "population_distribution = []\n",
    "for country, gpdf in clean_wpop.groupby(\"Location\"):\n",
    "    aux = {f\"age_{age_grp}\": tot for age_grp, tot in zip(gpdf.AgeGrp, gpdf.PopTotal)}\n",
    "    aux[\"Country_Region\"] = country\n",
    "    population_distribution.append(aux) "
   ]
  },
  {
   "cell_type": "code",
   "execution_count": null,
   "metadata": {},
   "outputs": [],
   "source": []
  },
  {
   "cell_type": "code",
   "execution_count": 36,
   "metadata": {},
   "outputs": [],
   "source": [
    "df_pop_distrib = pd.DataFrame(population_distribution)"
   ]
  },
  {
   "cell_type": "code",
   "execution_count": 37,
   "metadata": {},
   "outputs": [
    {
     "output_type": "execute_result",
     "data": {
      "text/plain": "      age_0-4   age_5-9  age_10-14  age_15-19  age_20-24  age_25-29  \\\n0    5672.509  5416.223   5192.114   4629.445   3926.485   3109.386   \n1     166.278   167.554    162.181    199.597    228.356    244.323   \n2    5041.518  4635.972   3821.402   2910.345   2999.837   3573.878   \n3    5795.004  5104.164   4349.261   3532.518   2882.566   2423.471   \n4       7.355     7.228      6.814      7.053      7.579      7.315   \n..        ...       ...        ...        ...        ...        ...   \n156  3431.637  3282.087   2925.422   2535.432   2782.336   3164.651   \n157  2363.409  2731.190   2657.796   2500.772   2101.628   2028.711   \n158  7892.471  7586.101   7098.174   6500.869   6820.203   8569.293   \n159  2946.454  2717.088   2428.598   2121.583   1746.939   1433.444   \n160  2097.448  2210.712   1921.060   1638.895   1377.829   1105.162   \n\n     age_30-34  age_35-39  age_40-44  age_45-49  ...  age_60-64  age_65-69  \\\n0     2478.259   2056.387   1658.723   1304.736  ...    612.638    444.858   \n1      223.924    166.849    152.510    170.509  ...    186.459    143.783   \n2     3727.719   3547.516   3014.029   2434.590  ...   1387.342   1143.200   \n3     2040.757   1658.972   1330.695   1082.040  ...    481.968    303.929   \n4        7.066      7.028      6.916      6.944  ...      4.658      3.385   \n..         ...        ...        ...        ...  ...        ...        ...   \n156   3030.397   2546.798   2105.400   1825.100  ...   1168.385    771.243   \n157   2064.324   1963.597   1867.720   1697.254  ...   1177.441    865.114   \n158   8437.027   7763.897   7033.826   6539.136  ...   4330.954   3011.733   \n159   1193.475    991.719    808.231    605.658  ...    237.554    166.281   \n160    994.874    872.602    737.527    520.295  ...    240.442    184.973   \n\n     age_70-74  age_75-79  age_80-84  age_85-89  age_90-94  age_95-99  \\\n0      312.451    168.004     75.605     24.460      5.192      0.629   \n1      108.132     86.536     53.876     23.388      6.627      0.776   \n2      723.938    513.896    343.627    171.049     51.370      8.796   \n3      212.513    119.216     59.937     19.878      4.259      0.480   \n4        2.501      1.600      0.923      0.510      0.182      0.035   \n..         ...        ...        ...        ...        ...        ...   \n156    343.946    228.204    163.802     67.757     23.650      3.712   \n157    603.581    386.279    226.565    118.750     49.076     14.875   \n158   1651.958   1126.514    860.586    609.173    274.625     98.225   \n159    112.763     67.202     32.916     10.863      1.803      0.121   \n160    114.658     85.700     43.888     15.460      3.027      0.267   \n\n     age_100+       Country_Region  \n0       0.039          Afghanistan  \n1       0.051              Albania  \n2       0.963              Algeria  \n3       0.038               Angola  \n4       0.004  Antigua and Barbuda  \n..        ...                  ...  \n156     0.479           Uzbekistan  \n157     2.878            Venezuela  \n158    23.850              Vietnam  \n159     0.005               Zambia  \n160     0.019             Zimbabwe  \n\n[161 rows x 22 columns]",
      "text/html": "<div>\n<style scoped>\n    .dataframe tbody tr th:only-of-type {\n        vertical-align: middle;\n    }\n\n    .dataframe tbody tr th {\n        vertical-align: top;\n    }\n\n    .dataframe thead th {\n        text-align: right;\n    }\n</style>\n<table border=\"1\" class=\"dataframe\">\n  <thead>\n    <tr style=\"text-align: right;\">\n      <th></th>\n      <th>age_0-4</th>\n      <th>age_5-9</th>\n      <th>age_10-14</th>\n      <th>age_15-19</th>\n      <th>age_20-24</th>\n      <th>age_25-29</th>\n      <th>age_30-34</th>\n      <th>age_35-39</th>\n      <th>age_40-44</th>\n      <th>age_45-49</th>\n      <th>...</th>\n      <th>age_60-64</th>\n      <th>age_65-69</th>\n      <th>age_70-74</th>\n      <th>age_75-79</th>\n      <th>age_80-84</th>\n      <th>age_85-89</th>\n      <th>age_90-94</th>\n      <th>age_95-99</th>\n      <th>age_100+</th>\n      <th>Country_Region</th>\n    </tr>\n  </thead>\n  <tbody>\n    <tr>\n      <th>0</th>\n      <td>5672.509</td>\n      <td>5416.223</td>\n      <td>5192.114</td>\n      <td>4629.445</td>\n      <td>3926.485</td>\n      <td>3109.386</td>\n      <td>2478.259</td>\n      <td>2056.387</td>\n      <td>1658.723</td>\n      <td>1304.736</td>\n      <td>...</td>\n      <td>612.638</td>\n      <td>444.858</td>\n      <td>312.451</td>\n      <td>168.004</td>\n      <td>75.605</td>\n      <td>24.460</td>\n      <td>5.192</td>\n      <td>0.629</td>\n      <td>0.039</td>\n      <td>Afghanistan</td>\n    </tr>\n    <tr>\n      <th>1</th>\n      <td>166.278</td>\n      <td>167.554</td>\n      <td>162.181</td>\n      <td>199.597</td>\n      <td>228.356</td>\n      <td>244.323</td>\n      <td>223.924</td>\n      <td>166.849</td>\n      <td>152.510</td>\n      <td>170.509</td>\n      <td>...</td>\n      <td>186.459</td>\n      <td>143.783</td>\n      <td>108.132</td>\n      <td>86.536</td>\n      <td>53.876</td>\n      <td>23.388</td>\n      <td>6.627</td>\n      <td>0.776</td>\n      <td>0.051</td>\n      <td>Albania</td>\n    </tr>\n    <tr>\n      <th>2</th>\n      <td>5041.518</td>\n      <td>4635.972</td>\n      <td>3821.402</td>\n      <td>2910.345</td>\n      <td>2999.837</td>\n      <td>3573.878</td>\n      <td>3727.719</td>\n      <td>3547.516</td>\n      <td>3014.029</td>\n      <td>2434.590</td>\n      <td>...</td>\n      <td>1387.342</td>\n      <td>1143.200</td>\n      <td>723.938</td>\n      <td>513.896</td>\n      <td>343.627</td>\n      <td>171.049</td>\n      <td>51.370</td>\n      <td>8.796</td>\n      <td>0.963</td>\n      <td>Algeria</td>\n    </tr>\n    <tr>\n      <th>3</th>\n      <td>5795.004</td>\n      <td>5104.164</td>\n      <td>4349.261</td>\n      <td>3532.518</td>\n      <td>2882.566</td>\n      <td>2423.471</td>\n      <td>2040.757</td>\n      <td>1658.972</td>\n      <td>1330.695</td>\n      <td>1082.040</td>\n      <td>...</td>\n      <td>481.968</td>\n      <td>303.929</td>\n      <td>212.513</td>\n      <td>119.216</td>\n      <td>59.937</td>\n      <td>19.878</td>\n      <td>4.259</td>\n      <td>0.480</td>\n      <td>0.038</td>\n      <td>Angola</td>\n    </tr>\n    <tr>\n      <th>4</th>\n      <td>7.355</td>\n      <td>7.228</td>\n      <td>6.814</td>\n      <td>7.053</td>\n      <td>7.579</td>\n      <td>7.315</td>\n      <td>7.066</td>\n      <td>7.028</td>\n      <td>6.916</td>\n      <td>6.944</td>\n      <td>...</td>\n      <td>4.658</td>\n      <td>3.385</td>\n      <td>2.501</td>\n      <td>1.600</td>\n      <td>0.923</td>\n      <td>0.510</td>\n      <td>0.182</td>\n      <td>0.035</td>\n      <td>0.004</td>\n      <td>Antigua and Barbuda</td>\n    </tr>\n    <tr>\n      <th>...</th>\n      <td>...</td>\n      <td>...</td>\n      <td>...</td>\n      <td>...</td>\n      <td>...</td>\n      <td>...</td>\n      <td>...</td>\n      <td>...</td>\n      <td>...</td>\n      <td>...</td>\n      <td>...</td>\n      <td>...</td>\n      <td>...</td>\n      <td>...</td>\n      <td>...</td>\n      <td>...</td>\n      <td>...</td>\n      <td>...</td>\n      <td>...</td>\n      <td>...</td>\n      <td>...</td>\n    </tr>\n    <tr>\n      <th>156</th>\n      <td>3431.637</td>\n      <td>3282.087</td>\n      <td>2925.422</td>\n      <td>2535.432</td>\n      <td>2782.336</td>\n      <td>3164.651</td>\n      <td>3030.397</td>\n      <td>2546.798</td>\n      <td>2105.400</td>\n      <td>1825.100</td>\n      <td>...</td>\n      <td>1168.385</td>\n      <td>771.243</td>\n      <td>343.946</td>\n      <td>228.204</td>\n      <td>163.802</td>\n      <td>67.757</td>\n      <td>23.650</td>\n      <td>3.712</td>\n      <td>0.479</td>\n      <td>Uzbekistan</td>\n    </tr>\n    <tr>\n      <th>157</th>\n      <td>2363.409</td>\n      <td>2731.190</td>\n      <td>2657.796</td>\n      <td>2500.772</td>\n      <td>2101.628</td>\n      <td>2028.711</td>\n      <td>2064.324</td>\n      <td>1963.597</td>\n      <td>1867.720</td>\n      <td>1697.254</td>\n      <td>...</td>\n      <td>1177.441</td>\n      <td>865.114</td>\n      <td>603.581</td>\n      <td>386.279</td>\n      <td>226.565</td>\n      <td>118.750</td>\n      <td>49.076</td>\n      <td>14.875</td>\n      <td>2.878</td>\n      <td>Venezuela</td>\n    </tr>\n    <tr>\n      <th>158</th>\n      <td>7892.471</td>\n      <td>7586.101</td>\n      <td>7098.174</td>\n      <td>6500.869</td>\n      <td>6820.203</td>\n      <td>8569.293</td>\n      <td>8437.027</td>\n      <td>7763.897</td>\n      <td>7033.826</td>\n      <td>6539.136</td>\n      <td>...</td>\n      <td>4330.954</td>\n      <td>3011.733</td>\n      <td>1651.958</td>\n      <td>1126.514</td>\n      <td>860.586</td>\n      <td>609.173</td>\n      <td>274.625</td>\n      <td>98.225</td>\n      <td>23.850</td>\n      <td>Vietnam</td>\n    </tr>\n    <tr>\n      <th>159</th>\n      <td>2946.454</td>\n      <td>2717.088</td>\n      <td>2428.598</td>\n      <td>2121.583</td>\n      <td>1746.939</td>\n      <td>1433.444</td>\n      <td>1193.475</td>\n      <td>991.719</td>\n      <td>808.231</td>\n      <td>605.658</td>\n      <td>...</td>\n      <td>237.554</td>\n      <td>166.281</td>\n      <td>112.763</td>\n      <td>67.202</td>\n      <td>32.916</td>\n      <td>10.863</td>\n      <td>1.803</td>\n      <td>0.121</td>\n      <td>0.005</td>\n      <td>Zambia</td>\n    </tr>\n    <tr>\n      <th>160</th>\n      <td>2097.448</td>\n      <td>2210.712</td>\n      <td>1921.060</td>\n      <td>1638.895</td>\n      <td>1377.829</td>\n      <td>1105.162</td>\n      <td>994.874</td>\n      <td>872.602</td>\n      <td>737.527</td>\n      <td>520.295</td>\n      <td>...</td>\n      <td>240.442</td>\n      <td>184.973</td>\n      <td>114.658</td>\n      <td>85.700</td>\n      <td>43.888</td>\n      <td>15.460</td>\n      <td>3.027</td>\n      <td>0.267</td>\n      <td>0.019</td>\n      <td>Zimbabwe</td>\n    </tr>\n  </tbody>\n</table>\n<p>161 rows × 22 columns</p>\n</div>"
     },
     "metadata": {},
     "execution_count": 37
    }
   ],
   "source": [
    "df_pop_distrib"
   ]
  },
  {
   "cell_type": "code",
   "execution_count": 38,
   "metadata": {},
   "outputs": [],
   "source": [
    "# add missing countries with median values\n",
    "no_data = []\n",
    "for country in df['Country_Region'].unique():\n",
    "    if country not in df_pop_distrib['Country_Region'].unique():\n",
    "        aux = df_pop_distrib.drop('Country_Region', axis=1).median(axis=0).to_dict()\n",
    "        aux[\"Country_Region\"] = country\n",
    "        no_data.append(aux)\n",
    "df_no_data = pd.DataFrame(no_data)\n",
    "\n",
    "df_pop_distrib = pd.concat([df_pop_distrib, df_no_data], axis=0)\n"
   ]
  },
  {
   "cell_type": "code",
   "execution_count": 39,
   "metadata": {},
   "outputs": [
    {
     "output_type": "execute_result",
     "data": {
      "text/plain": "     age_0-4   age_5-9  age_10-14  age_15-19  age_20-24  age_25-29  age_30-34  \\\n0   5672.509  5416.223   5192.114   4629.445   3926.485   3109.386   2478.259   \n1    166.278   167.554    162.181    199.597    228.356    244.323    223.924   \n2   5041.518  4635.972   3821.402   2910.345   2999.837   3573.878   3727.719   \n3   5795.004  5104.164   4349.261   3532.518   2882.566   2423.471   2040.757   \n4      7.355     7.228      6.814      7.053      7.579      7.315      7.066   \n..       ...       ...        ...        ...        ...        ...        ...   \n7    847.828   860.640    737.609    667.454    719.127    756.486    785.320   \n8    847.828   860.640    737.609    667.454    719.127    756.486    785.320   \n9    847.828   860.640    737.609    667.454    719.127    756.486    785.320   \n10   847.828   860.640    737.609    667.454    719.127    756.486    785.320   \n11   847.828   860.640    737.609    667.454    719.127    756.486    785.320   \n\n    age_35-39  age_40-44  age_45-49  ...  age_60-64  age_65-69  age_70-74  \\\n0    2056.387   1658.723   1304.736  ...    612.638    444.858    312.451   \n1     166.849    152.510    170.509  ...    186.459    143.783    108.132   \n2    3547.516   3014.029   2434.590  ...   1387.342   1143.200    723.938   \n3    1658.972   1330.695   1082.040  ...    481.968    303.929    212.513   \n4       7.028      6.916      6.944  ...      4.658      3.385      2.501   \n..        ...        ...        ...  ...        ...        ...        ...   \n7     691.992    617.644    589.862  ...    349.957    293.575    209.912   \n8     691.992    617.644    589.862  ...    349.957    293.575    209.912   \n9     691.992    617.644    589.862  ...    349.957    293.575    209.912   \n10    691.992    617.644    589.862  ...    349.957    293.575    209.912   \n11    691.992    617.644    589.862  ...    349.957    293.575    209.912   \n\n    age_75-79  age_80-84  age_85-89  age_90-94  age_95-99  age_100+  \\\n0     168.004     75.605     24.460      5.192      0.629     0.039   \n1      86.536     53.876     23.388      6.627      0.776     0.051   \n2     513.896    343.627    171.049     51.370      8.796     0.963   \n3     119.216     59.937     19.878      4.259      0.480     0.038   \n4       1.600      0.923      0.510      0.182      0.035     0.004   \n..        ...        ...        ...        ...        ...       ...   \n7     131.207     75.605     36.082     12.339      1.964     0.179   \n8     131.207     75.605     36.082     12.339      1.964     0.179   \n9     131.207     75.605     36.082     12.339      1.964     0.179   \n10    131.207     75.605     36.082     12.339      1.964     0.179   \n11    131.207     75.605     36.082     12.339      1.964     0.179   \n\n           Country_Region  \n0             Afghanistan  \n1                 Albania  \n2                 Algeria  \n3                  Angola  \n4     Antigua and Barbuda  \n..                    ...  \n7           Liechtenstein  \n8                  Monaco  \n9   Saint Kitts and Nevis  \n10             San Marino  \n11                  Syria  \n\n[173 rows x 22 columns]",
      "text/html": "<div>\n<style scoped>\n    .dataframe tbody tr th:only-of-type {\n        vertical-align: middle;\n    }\n\n    .dataframe tbody tr th {\n        vertical-align: top;\n    }\n\n    .dataframe thead th {\n        text-align: right;\n    }\n</style>\n<table border=\"1\" class=\"dataframe\">\n  <thead>\n    <tr style=\"text-align: right;\">\n      <th></th>\n      <th>age_0-4</th>\n      <th>age_5-9</th>\n      <th>age_10-14</th>\n      <th>age_15-19</th>\n      <th>age_20-24</th>\n      <th>age_25-29</th>\n      <th>age_30-34</th>\n      <th>age_35-39</th>\n      <th>age_40-44</th>\n      <th>age_45-49</th>\n      <th>...</th>\n      <th>age_60-64</th>\n      <th>age_65-69</th>\n      <th>age_70-74</th>\n      <th>age_75-79</th>\n      <th>age_80-84</th>\n      <th>age_85-89</th>\n      <th>age_90-94</th>\n      <th>age_95-99</th>\n      <th>age_100+</th>\n      <th>Country_Region</th>\n    </tr>\n  </thead>\n  <tbody>\n    <tr>\n      <th>0</th>\n      <td>5672.509</td>\n      <td>5416.223</td>\n      <td>5192.114</td>\n      <td>4629.445</td>\n      <td>3926.485</td>\n      <td>3109.386</td>\n      <td>2478.259</td>\n      <td>2056.387</td>\n      <td>1658.723</td>\n      <td>1304.736</td>\n      <td>...</td>\n      <td>612.638</td>\n      <td>444.858</td>\n      <td>312.451</td>\n      <td>168.004</td>\n      <td>75.605</td>\n      <td>24.460</td>\n      <td>5.192</td>\n      <td>0.629</td>\n      <td>0.039</td>\n      <td>Afghanistan</td>\n    </tr>\n    <tr>\n      <th>1</th>\n      <td>166.278</td>\n      <td>167.554</td>\n      <td>162.181</td>\n      <td>199.597</td>\n      <td>228.356</td>\n      <td>244.323</td>\n      <td>223.924</td>\n      <td>166.849</td>\n      <td>152.510</td>\n      <td>170.509</td>\n      <td>...</td>\n      <td>186.459</td>\n      <td>143.783</td>\n      <td>108.132</td>\n      <td>86.536</td>\n      <td>53.876</td>\n      <td>23.388</td>\n      <td>6.627</td>\n      <td>0.776</td>\n      <td>0.051</td>\n      <td>Albania</td>\n    </tr>\n    <tr>\n      <th>2</th>\n      <td>5041.518</td>\n      <td>4635.972</td>\n      <td>3821.402</td>\n      <td>2910.345</td>\n      <td>2999.837</td>\n      <td>3573.878</td>\n      <td>3727.719</td>\n      <td>3547.516</td>\n      <td>3014.029</td>\n      <td>2434.590</td>\n      <td>...</td>\n      <td>1387.342</td>\n      <td>1143.200</td>\n      <td>723.938</td>\n      <td>513.896</td>\n      <td>343.627</td>\n      <td>171.049</td>\n      <td>51.370</td>\n      <td>8.796</td>\n      <td>0.963</td>\n      <td>Algeria</td>\n    </tr>\n    <tr>\n      <th>3</th>\n      <td>5795.004</td>\n      <td>5104.164</td>\n      <td>4349.261</td>\n      <td>3532.518</td>\n      <td>2882.566</td>\n      <td>2423.471</td>\n      <td>2040.757</td>\n      <td>1658.972</td>\n      <td>1330.695</td>\n      <td>1082.040</td>\n      <td>...</td>\n      <td>481.968</td>\n      <td>303.929</td>\n      <td>212.513</td>\n      <td>119.216</td>\n      <td>59.937</td>\n      <td>19.878</td>\n      <td>4.259</td>\n      <td>0.480</td>\n      <td>0.038</td>\n      <td>Angola</td>\n    </tr>\n    <tr>\n      <th>4</th>\n      <td>7.355</td>\n      <td>7.228</td>\n      <td>6.814</td>\n      <td>7.053</td>\n      <td>7.579</td>\n      <td>7.315</td>\n      <td>7.066</td>\n      <td>7.028</td>\n      <td>6.916</td>\n      <td>6.944</td>\n      <td>...</td>\n      <td>4.658</td>\n      <td>3.385</td>\n      <td>2.501</td>\n      <td>1.600</td>\n      <td>0.923</td>\n      <td>0.510</td>\n      <td>0.182</td>\n      <td>0.035</td>\n      <td>0.004</td>\n      <td>Antigua and Barbuda</td>\n    </tr>\n    <tr>\n      <th>...</th>\n      <td>...</td>\n      <td>...</td>\n      <td>...</td>\n      <td>...</td>\n      <td>...</td>\n      <td>...</td>\n      <td>...</td>\n      <td>...</td>\n      <td>...</td>\n      <td>...</td>\n      <td>...</td>\n      <td>...</td>\n      <td>...</td>\n      <td>...</td>\n      <td>...</td>\n      <td>...</td>\n      <td>...</td>\n      <td>...</td>\n      <td>...</td>\n      <td>...</td>\n      <td>...</td>\n    </tr>\n    <tr>\n      <th>7</th>\n      <td>847.828</td>\n      <td>860.640</td>\n      <td>737.609</td>\n      <td>667.454</td>\n      <td>719.127</td>\n      <td>756.486</td>\n      <td>785.320</td>\n      <td>691.992</td>\n      <td>617.644</td>\n      <td>589.862</td>\n      <td>...</td>\n      <td>349.957</td>\n      <td>293.575</td>\n      <td>209.912</td>\n      <td>131.207</td>\n      <td>75.605</td>\n      <td>36.082</td>\n      <td>12.339</td>\n      <td>1.964</td>\n      <td>0.179</td>\n      <td>Liechtenstein</td>\n    </tr>\n    <tr>\n      <th>8</th>\n      <td>847.828</td>\n      <td>860.640</td>\n      <td>737.609</td>\n      <td>667.454</td>\n      <td>719.127</td>\n      <td>756.486</td>\n      <td>785.320</td>\n      <td>691.992</td>\n      <td>617.644</td>\n      <td>589.862</td>\n      <td>...</td>\n      <td>349.957</td>\n      <td>293.575</td>\n      <td>209.912</td>\n      <td>131.207</td>\n      <td>75.605</td>\n      <td>36.082</td>\n      <td>12.339</td>\n      <td>1.964</td>\n      <td>0.179</td>\n      <td>Monaco</td>\n    </tr>\n    <tr>\n      <th>9</th>\n      <td>847.828</td>\n      <td>860.640</td>\n      <td>737.609</td>\n      <td>667.454</td>\n      <td>719.127</td>\n      <td>756.486</td>\n      <td>785.320</td>\n      <td>691.992</td>\n      <td>617.644</td>\n      <td>589.862</td>\n      <td>...</td>\n      <td>349.957</td>\n      <td>293.575</td>\n      <td>209.912</td>\n      <td>131.207</td>\n      <td>75.605</td>\n      <td>36.082</td>\n      <td>12.339</td>\n      <td>1.964</td>\n      <td>0.179</td>\n      <td>Saint Kitts and Nevis</td>\n    </tr>\n    <tr>\n      <th>10</th>\n      <td>847.828</td>\n      <td>860.640</td>\n      <td>737.609</td>\n      <td>667.454</td>\n      <td>719.127</td>\n      <td>756.486</td>\n      <td>785.320</td>\n      <td>691.992</td>\n      <td>617.644</td>\n      <td>589.862</td>\n      <td>...</td>\n      <td>349.957</td>\n      <td>293.575</td>\n      <td>209.912</td>\n      <td>131.207</td>\n      <td>75.605</td>\n      <td>36.082</td>\n      <td>12.339</td>\n      <td>1.964</td>\n      <td>0.179</td>\n      <td>San Marino</td>\n    </tr>\n    <tr>\n      <th>11</th>\n      <td>847.828</td>\n      <td>860.640</td>\n      <td>737.609</td>\n      <td>667.454</td>\n      <td>719.127</td>\n      <td>756.486</td>\n      <td>785.320</td>\n      <td>691.992</td>\n      <td>617.644</td>\n      <td>589.862</td>\n      <td>...</td>\n      <td>349.957</td>\n      <td>293.575</td>\n      <td>209.912</td>\n      <td>131.207</td>\n      <td>75.605</td>\n      <td>36.082</td>\n      <td>12.339</td>\n      <td>1.964</td>\n      <td>0.179</td>\n      <td>Syria</td>\n    </tr>\n  </tbody>\n</table>\n<p>173 rows × 22 columns</p>\n</div>"
     },
     "metadata": {},
     "execution_count": 39
    }
   ],
   "source": [
    "df_pop_distrib"
   ]
  },
  {
   "cell_type": "code",
   "execution_count": 40,
   "metadata": {},
   "outputs": [],
   "source": [
    "# normalize features\n",
    "norm_pop_distrib = df_pop_distrib.drop(\"Country_Region\", axis=1).div(df_pop_distrib.drop(\"Country_Region\", axis=1).sum(axis=1), axis=0)"
   ]
  },
  {
   "cell_type": "code",
   "execution_count": 41,
   "metadata": {},
   "outputs": [
    {
     "output_type": "execute_result",
     "data": {
      "text/plain": "     age_0-4   age_5-9  age_10-14  age_15-19  age_20-24  age_25-29  age_30-34  \\\n0   0.145717  0.139133   0.133376   0.118922   0.100864   0.079875   0.063662   \n1   0.057780  0.058223   0.056356   0.069357   0.079351   0.084899   0.077811   \n2   0.114969  0.105721   0.087145   0.066369   0.068410   0.081500   0.085009   \n3   0.176321  0.155301   0.132332   0.107482   0.087706   0.073737   0.062093   \n4   0.075106  0.073809   0.069582   0.072022   0.077394   0.074698   0.072155   \n..       ...       ...        ...        ...        ...        ...        ...   \n7   0.091752  0.093138   0.079824   0.072232   0.077824   0.081867   0.084987   \n8   0.091752  0.093138   0.079824   0.072232   0.077824   0.081867   0.084987   \n9   0.091752  0.093138   0.079824   0.072232   0.077824   0.081867   0.084987   \n10  0.091752  0.093138   0.079824   0.072232   0.077824   0.081867   0.084987   \n11  0.091752  0.093138   0.079824   0.072232   0.077824   0.081867   0.084987   \n\n    age_35-39  age_40-44  age_45-49  ...  age_55-59  age_60-64  age_65-69  \\\n0    0.052825   0.042610   0.033516  ...   0.020752   0.015738   0.011428   \n1    0.057978   0.052995   0.059250  ...   0.070160   0.064792   0.049963   \n2    0.080899   0.068733   0.055520  ...   0.039638   0.031638   0.026070   \n3    0.050476   0.040488   0.032923  ...   0.020610   0.014665   0.009247   \n4    0.071767   0.070623   0.070909  ...   0.061606   0.047566   0.034566   \n..        ...        ...        ...  ...        ...        ...        ...   \n7    0.074887   0.066841   0.063835  ...   0.042032   0.037872   0.031771   \n8    0.074887   0.066841   0.063835  ...   0.042032   0.037872   0.031771   \n9    0.074887   0.066841   0.063835  ...   0.042032   0.037872   0.031771   \n10   0.074887   0.066841   0.063835  ...   0.042032   0.037872   0.031771   \n11   0.074887   0.066841   0.063835  ...   0.042032   0.037872   0.031771   \n\n    age_70-74  age_75-79  age_80-84  age_85-89  age_90-94  age_95-99  age_100+  \n0    0.008026   0.004316   0.001942   0.000628   0.000133   0.000016  0.000001  \n1    0.037575   0.030070   0.018721   0.008127   0.002303   0.000270  0.000018  \n2    0.016509   0.011719   0.007836   0.003901   0.001171   0.000201  0.000022  \n3    0.006466   0.003627   0.001824   0.000605   0.000130   0.000015  0.000001  \n4    0.025539   0.016339   0.009425   0.005208   0.001859   0.000357  0.000041  \n..        ...        ...        ...        ...        ...        ...       ...  \n7    0.022717   0.014199   0.008182   0.003905   0.001335   0.000213  0.000019  \n8    0.022717   0.014199   0.008182   0.003905   0.001335   0.000213  0.000019  \n9    0.022717   0.014199   0.008182   0.003905   0.001335   0.000213  0.000019  \n10   0.022717   0.014199   0.008182   0.003905   0.001335   0.000213  0.000019  \n11   0.022717   0.014199   0.008182   0.003905   0.001335   0.000213  0.000019  \n\n[173 rows x 21 columns]",
      "text/html": "<div>\n<style scoped>\n    .dataframe tbody tr th:only-of-type {\n        vertical-align: middle;\n    }\n\n    .dataframe tbody tr th {\n        vertical-align: top;\n    }\n\n    .dataframe thead th {\n        text-align: right;\n    }\n</style>\n<table border=\"1\" class=\"dataframe\">\n  <thead>\n    <tr style=\"text-align: right;\">\n      <th></th>\n      <th>age_0-4</th>\n      <th>age_5-9</th>\n      <th>age_10-14</th>\n      <th>age_15-19</th>\n      <th>age_20-24</th>\n      <th>age_25-29</th>\n      <th>age_30-34</th>\n      <th>age_35-39</th>\n      <th>age_40-44</th>\n      <th>age_45-49</th>\n      <th>...</th>\n      <th>age_55-59</th>\n      <th>age_60-64</th>\n      <th>age_65-69</th>\n      <th>age_70-74</th>\n      <th>age_75-79</th>\n      <th>age_80-84</th>\n      <th>age_85-89</th>\n      <th>age_90-94</th>\n      <th>age_95-99</th>\n      <th>age_100+</th>\n    </tr>\n  </thead>\n  <tbody>\n    <tr>\n      <th>0</th>\n      <td>0.145717</td>\n      <td>0.139133</td>\n      <td>0.133376</td>\n      <td>0.118922</td>\n      <td>0.100864</td>\n      <td>0.079875</td>\n      <td>0.063662</td>\n      <td>0.052825</td>\n      <td>0.042610</td>\n      <td>0.033516</td>\n      <td>...</td>\n      <td>0.020752</td>\n      <td>0.015738</td>\n      <td>0.011428</td>\n      <td>0.008026</td>\n      <td>0.004316</td>\n      <td>0.001942</td>\n      <td>0.000628</td>\n      <td>0.000133</td>\n      <td>0.000016</td>\n      <td>0.000001</td>\n    </tr>\n    <tr>\n      <th>1</th>\n      <td>0.057780</td>\n      <td>0.058223</td>\n      <td>0.056356</td>\n      <td>0.069357</td>\n      <td>0.079351</td>\n      <td>0.084899</td>\n      <td>0.077811</td>\n      <td>0.057978</td>\n      <td>0.052995</td>\n      <td>0.059250</td>\n      <td>...</td>\n      <td>0.070160</td>\n      <td>0.064792</td>\n      <td>0.049963</td>\n      <td>0.037575</td>\n      <td>0.030070</td>\n      <td>0.018721</td>\n      <td>0.008127</td>\n      <td>0.002303</td>\n      <td>0.000270</td>\n      <td>0.000018</td>\n    </tr>\n    <tr>\n      <th>2</th>\n      <td>0.114969</td>\n      <td>0.105721</td>\n      <td>0.087145</td>\n      <td>0.066369</td>\n      <td>0.068410</td>\n      <td>0.081500</td>\n      <td>0.085009</td>\n      <td>0.080899</td>\n      <td>0.068733</td>\n      <td>0.055520</td>\n      <td>...</td>\n      <td>0.039638</td>\n      <td>0.031638</td>\n      <td>0.026070</td>\n      <td>0.016509</td>\n      <td>0.011719</td>\n      <td>0.007836</td>\n      <td>0.003901</td>\n      <td>0.001171</td>\n      <td>0.000201</td>\n      <td>0.000022</td>\n    </tr>\n    <tr>\n      <th>3</th>\n      <td>0.176321</td>\n      <td>0.155301</td>\n      <td>0.132332</td>\n      <td>0.107482</td>\n      <td>0.087706</td>\n      <td>0.073737</td>\n      <td>0.062093</td>\n      <td>0.050476</td>\n      <td>0.040488</td>\n      <td>0.032923</td>\n      <td>...</td>\n      <td>0.020610</td>\n      <td>0.014665</td>\n      <td>0.009247</td>\n      <td>0.006466</td>\n      <td>0.003627</td>\n      <td>0.001824</td>\n      <td>0.000605</td>\n      <td>0.000130</td>\n      <td>0.000015</td>\n      <td>0.000001</td>\n    </tr>\n    <tr>\n      <th>4</th>\n      <td>0.075106</td>\n      <td>0.073809</td>\n      <td>0.069582</td>\n      <td>0.072022</td>\n      <td>0.077394</td>\n      <td>0.074698</td>\n      <td>0.072155</td>\n      <td>0.071767</td>\n      <td>0.070623</td>\n      <td>0.070909</td>\n      <td>...</td>\n      <td>0.061606</td>\n      <td>0.047566</td>\n      <td>0.034566</td>\n      <td>0.025539</td>\n      <td>0.016339</td>\n      <td>0.009425</td>\n      <td>0.005208</td>\n      <td>0.001859</td>\n      <td>0.000357</td>\n      <td>0.000041</td>\n    </tr>\n    <tr>\n      <th>...</th>\n      <td>...</td>\n      <td>...</td>\n      <td>...</td>\n      <td>...</td>\n      <td>...</td>\n      <td>...</td>\n      <td>...</td>\n      <td>...</td>\n      <td>...</td>\n      <td>...</td>\n      <td>...</td>\n      <td>...</td>\n      <td>...</td>\n      <td>...</td>\n      <td>...</td>\n      <td>...</td>\n      <td>...</td>\n      <td>...</td>\n      <td>...</td>\n      <td>...</td>\n      <td>...</td>\n    </tr>\n    <tr>\n      <th>7</th>\n      <td>0.091752</td>\n      <td>0.093138</td>\n      <td>0.079824</td>\n      <td>0.072232</td>\n      <td>0.077824</td>\n      <td>0.081867</td>\n      <td>0.084987</td>\n      <td>0.074887</td>\n      <td>0.066841</td>\n      <td>0.063835</td>\n      <td>...</td>\n      <td>0.042032</td>\n      <td>0.037872</td>\n      <td>0.031771</td>\n      <td>0.022717</td>\n      <td>0.014199</td>\n      <td>0.008182</td>\n      <td>0.003905</td>\n      <td>0.001335</td>\n      <td>0.000213</td>\n      <td>0.000019</td>\n    </tr>\n    <tr>\n      <th>8</th>\n      <td>0.091752</td>\n      <td>0.093138</td>\n      <td>0.079824</td>\n      <td>0.072232</td>\n      <td>0.077824</td>\n      <td>0.081867</td>\n      <td>0.084987</td>\n      <td>0.074887</td>\n      <td>0.066841</td>\n      <td>0.063835</td>\n      <td>...</td>\n      <td>0.042032</td>\n      <td>0.037872</td>\n      <td>0.031771</td>\n      <td>0.022717</td>\n      <td>0.014199</td>\n      <td>0.008182</td>\n      <td>0.003905</td>\n      <td>0.001335</td>\n      <td>0.000213</td>\n      <td>0.000019</td>\n    </tr>\n    <tr>\n      <th>9</th>\n      <td>0.091752</td>\n      <td>0.093138</td>\n      <td>0.079824</td>\n      <td>0.072232</td>\n      <td>0.077824</td>\n      <td>0.081867</td>\n      <td>0.084987</td>\n      <td>0.074887</td>\n      <td>0.066841</td>\n      <td>0.063835</td>\n      <td>...</td>\n      <td>0.042032</td>\n      <td>0.037872</td>\n      <td>0.031771</td>\n      <td>0.022717</td>\n      <td>0.014199</td>\n      <td>0.008182</td>\n      <td>0.003905</td>\n      <td>0.001335</td>\n      <td>0.000213</td>\n      <td>0.000019</td>\n    </tr>\n    <tr>\n      <th>10</th>\n      <td>0.091752</td>\n      <td>0.093138</td>\n      <td>0.079824</td>\n      <td>0.072232</td>\n      <td>0.077824</td>\n      <td>0.081867</td>\n      <td>0.084987</td>\n      <td>0.074887</td>\n      <td>0.066841</td>\n      <td>0.063835</td>\n      <td>...</td>\n      <td>0.042032</td>\n      <td>0.037872</td>\n      <td>0.031771</td>\n      <td>0.022717</td>\n      <td>0.014199</td>\n      <td>0.008182</td>\n      <td>0.003905</td>\n      <td>0.001335</td>\n      <td>0.000213</td>\n      <td>0.000019</td>\n    </tr>\n    <tr>\n      <th>11</th>\n      <td>0.091752</td>\n      <td>0.093138</td>\n      <td>0.079824</td>\n      <td>0.072232</td>\n      <td>0.077824</td>\n      <td>0.081867</td>\n      <td>0.084987</td>\n      <td>0.074887</td>\n      <td>0.066841</td>\n      <td>0.063835</td>\n      <td>...</td>\n      <td>0.042032</td>\n      <td>0.037872</td>\n      <td>0.031771</td>\n      <td>0.022717</td>\n      <td>0.014199</td>\n      <td>0.008182</td>\n      <td>0.003905</td>\n      <td>0.001335</td>\n      <td>0.000213</td>\n      <td>0.000019</td>\n    </tr>\n  </tbody>\n</table>\n<p>173 rows × 21 columns</p>\n</div>"
     },
     "metadata": {},
     "execution_count": 41
    }
   ],
   "source": [
    "norm_pop_distrib "
   ]
  },
  {
   "source": [
    "norm_pop_distrib['total_pop'] = df_pop_distrib.drop(\"Country_Region\", axis=1).sum(axis=1)"
   ],
   "cell_type": "code",
   "metadata": {},
   "execution_count": 42,
   "outputs": []
  },
  {
   "cell_type": "code",
   "execution_count": 43,
   "metadata": {},
   "outputs": [
    {
     "output_type": "execute_result",
     "data": {
      "text/plain": "     age_0-4   age_5-9  age_10-14  age_15-19  age_20-24  age_25-29  age_30-34  \\\n0   0.145717  0.139133   0.133376   0.118922   0.100864   0.079875   0.063662   \n1   0.057780  0.058223   0.056356   0.069357   0.079351   0.084899   0.077811   \n2   0.114969  0.105721   0.087145   0.066369   0.068410   0.081500   0.085009   \n3   0.176321  0.155301   0.132332   0.107482   0.087706   0.073737   0.062093   \n4   0.075106  0.073809   0.069582   0.072022   0.077394   0.074698   0.072155   \n..       ...       ...        ...        ...        ...        ...        ...   \n7   0.091752  0.093138   0.079824   0.072232   0.077824   0.081867   0.084987   \n8   0.091752  0.093138   0.079824   0.072232   0.077824   0.081867   0.084987   \n9   0.091752  0.093138   0.079824   0.072232   0.077824   0.081867   0.084987   \n10  0.091752  0.093138   0.079824   0.072232   0.077824   0.081867   0.084987   \n11  0.091752  0.093138   0.079824   0.072232   0.077824   0.081867   0.084987   \n\n    age_35-39  age_40-44  age_45-49  ...  age_60-64  age_65-69  age_70-74  \\\n0    0.052825   0.042610   0.033516  ...   0.015738   0.011428   0.008026   \n1    0.057978   0.052995   0.059250  ...   0.064792   0.049963   0.037575   \n2    0.080899   0.068733   0.055520  ...   0.031638   0.026070   0.016509   \n3    0.050476   0.040488   0.032923  ...   0.014665   0.009247   0.006466   \n4    0.071767   0.070623   0.070909  ...   0.047566   0.034566   0.025539   \n..        ...        ...        ...  ...        ...        ...        ...   \n7    0.074887   0.066841   0.063835  ...   0.037872   0.031771   0.022717   \n8    0.074887   0.066841   0.063835  ...   0.037872   0.031771   0.022717   \n9    0.074887   0.066841   0.063835  ...   0.037872   0.031771   0.022717   \n10   0.074887   0.066841   0.063835  ...   0.037872   0.031771   0.022717   \n11   0.074887   0.066841   0.063835  ...   0.037872   0.031771   0.022717   \n\n    age_75-79  age_80-84  age_85-89  age_90-94  age_95-99  age_100+  total_pop  \n0    0.004316   0.001942   0.000628   0.000133   0.000016  0.000001  38928.341  \n1    0.030070   0.018721   0.008127   0.002303   0.000270  0.000018   2877.800  \n2    0.011719   0.007836   0.003901   0.001171   0.000201  0.000022  43851.043  \n3    0.003627   0.001824   0.000605   0.000130   0.000015  0.000001  32866.268  \n4    0.016339   0.009425   0.005208   0.001859   0.000357  0.000041     97.928  \n..        ...        ...        ...        ...        ...       ...        ...  \n7    0.014199   0.008182   0.003905   0.001335   0.000213  0.000019   9240.438  \n8    0.014199   0.008182   0.003905   0.001335   0.000213  0.000019   9240.438  \n9    0.014199   0.008182   0.003905   0.001335   0.000213  0.000019   9240.438  \n10   0.014199   0.008182   0.003905   0.001335   0.000213  0.000019   9240.438  \n11   0.014199   0.008182   0.003905   0.001335   0.000213  0.000019   9240.438  \n\n[173 rows x 22 columns]",
      "text/html": "<div>\n<style scoped>\n    .dataframe tbody tr th:only-of-type {\n        vertical-align: middle;\n    }\n\n    .dataframe tbody tr th {\n        vertical-align: top;\n    }\n\n    .dataframe thead th {\n        text-align: right;\n    }\n</style>\n<table border=\"1\" class=\"dataframe\">\n  <thead>\n    <tr style=\"text-align: right;\">\n      <th></th>\n      <th>age_0-4</th>\n      <th>age_5-9</th>\n      <th>age_10-14</th>\n      <th>age_15-19</th>\n      <th>age_20-24</th>\n      <th>age_25-29</th>\n      <th>age_30-34</th>\n      <th>age_35-39</th>\n      <th>age_40-44</th>\n      <th>age_45-49</th>\n      <th>...</th>\n      <th>age_60-64</th>\n      <th>age_65-69</th>\n      <th>age_70-74</th>\n      <th>age_75-79</th>\n      <th>age_80-84</th>\n      <th>age_85-89</th>\n      <th>age_90-94</th>\n      <th>age_95-99</th>\n      <th>age_100+</th>\n      <th>total_pop</th>\n    </tr>\n  </thead>\n  <tbody>\n    <tr>\n      <th>0</th>\n      <td>0.145717</td>\n      <td>0.139133</td>\n      <td>0.133376</td>\n      <td>0.118922</td>\n      <td>0.100864</td>\n      <td>0.079875</td>\n      <td>0.063662</td>\n      <td>0.052825</td>\n      <td>0.042610</td>\n      <td>0.033516</td>\n      <td>...</td>\n      <td>0.015738</td>\n      <td>0.011428</td>\n      <td>0.008026</td>\n      <td>0.004316</td>\n      <td>0.001942</td>\n      <td>0.000628</td>\n      <td>0.000133</td>\n      <td>0.000016</td>\n      <td>0.000001</td>\n      <td>38928.341</td>\n    </tr>\n    <tr>\n      <th>1</th>\n      <td>0.057780</td>\n      <td>0.058223</td>\n      <td>0.056356</td>\n      <td>0.069357</td>\n      <td>0.079351</td>\n      <td>0.084899</td>\n      <td>0.077811</td>\n      <td>0.057978</td>\n      <td>0.052995</td>\n      <td>0.059250</td>\n      <td>...</td>\n      <td>0.064792</td>\n      <td>0.049963</td>\n      <td>0.037575</td>\n      <td>0.030070</td>\n      <td>0.018721</td>\n      <td>0.008127</td>\n      <td>0.002303</td>\n      <td>0.000270</td>\n      <td>0.000018</td>\n      <td>2877.800</td>\n    </tr>\n    <tr>\n      <th>2</th>\n      <td>0.114969</td>\n      <td>0.105721</td>\n      <td>0.087145</td>\n      <td>0.066369</td>\n      <td>0.068410</td>\n      <td>0.081500</td>\n      <td>0.085009</td>\n      <td>0.080899</td>\n      <td>0.068733</td>\n      <td>0.055520</td>\n      <td>...</td>\n      <td>0.031638</td>\n      <td>0.026070</td>\n      <td>0.016509</td>\n      <td>0.011719</td>\n      <td>0.007836</td>\n      <td>0.003901</td>\n      <td>0.001171</td>\n      <td>0.000201</td>\n      <td>0.000022</td>\n      <td>43851.043</td>\n    </tr>\n    <tr>\n      <th>3</th>\n      <td>0.176321</td>\n      <td>0.155301</td>\n      <td>0.132332</td>\n      <td>0.107482</td>\n      <td>0.087706</td>\n      <td>0.073737</td>\n      <td>0.062093</td>\n      <td>0.050476</td>\n      <td>0.040488</td>\n      <td>0.032923</td>\n      <td>...</td>\n      <td>0.014665</td>\n      <td>0.009247</td>\n      <td>0.006466</td>\n      <td>0.003627</td>\n      <td>0.001824</td>\n      <td>0.000605</td>\n      <td>0.000130</td>\n      <td>0.000015</td>\n      <td>0.000001</td>\n      <td>32866.268</td>\n    </tr>\n    <tr>\n      <th>4</th>\n      <td>0.075106</td>\n      <td>0.073809</td>\n      <td>0.069582</td>\n      <td>0.072022</td>\n      <td>0.077394</td>\n      <td>0.074698</td>\n      <td>0.072155</td>\n      <td>0.071767</td>\n      <td>0.070623</td>\n      <td>0.070909</td>\n      <td>...</td>\n      <td>0.047566</td>\n      <td>0.034566</td>\n      <td>0.025539</td>\n      <td>0.016339</td>\n      <td>0.009425</td>\n      <td>0.005208</td>\n      <td>0.001859</td>\n      <td>0.000357</td>\n      <td>0.000041</td>\n      <td>97.928</td>\n    </tr>\n    <tr>\n      <th>...</th>\n      <td>...</td>\n      <td>...</td>\n      <td>...</td>\n      <td>...</td>\n      <td>...</td>\n      <td>...</td>\n      <td>...</td>\n      <td>...</td>\n      <td>...</td>\n      <td>...</td>\n      <td>...</td>\n      <td>...</td>\n      <td>...</td>\n      <td>...</td>\n      <td>...</td>\n      <td>...</td>\n      <td>...</td>\n      <td>...</td>\n      <td>...</td>\n      <td>...</td>\n      <td>...</td>\n    </tr>\n    <tr>\n      <th>7</th>\n      <td>0.091752</td>\n      <td>0.093138</td>\n      <td>0.079824</td>\n      <td>0.072232</td>\n      <td>0.077824</td>\n      <td>0.081867</td>\n      <td>0.084987</td>\n      <td>0.074887</td>\n      <td>0.066841</td>\n      <td>0.063835</td>\n      <td>...</td>\n      <td>0.037872</td>\n      <td>0.031771</td>\n      <td>0.022717</td>\n      <td>0.014199</td>\n      <td>0.008182</td>\n      <td>0.003905</td>\n      <td>0.001335</td>\n      <td>0.000213</td>\n      <td>0.000019</td>\n      <td>9240.438</td>\n    </tr>\n    <tr>\n      <th>8</th>\n      <td>0.091752</td>\n      <td>0.093138</td>\n      <td>0.079824</td>\n      <td>0.072232</td>\n      <td>0.077824</td>\n      <td>0.081867</td>\n      <td>0.084987</td>\n      <td>0.074887</td>\n      <td>0.066841</td>\n      <td>0.063835</td>\n      <td>...</td>\n      <td>0.037872</td>\n      <td>0.031771</td>\n      <td>0.022717</td>\n      <td>0.014199</td>\n      <td>0.008182</td>\n      <td>0.003905</td>\n      <td>0.001335</td>\n      <td>0.000213</td>\n      <td>0.000019</td>\n      <td>9240.438</td>\n    </tr>\n    <tr>\n      <th>9</th>\n      <td>0.091752</td>\n      <td>0.093138</td>\n      <td>0.079824</td>\n      <td>0.072232</td>\n      <td>0.077824</td>\n      <td>0.081867</td>\n      <td>0.084987</td>\n      <td>0.074887</td>\n      <td>0.066841</td>\n      <td>0.063835</td>\n      <td>...</td>\n      <td>0.037872</td>\n      <td>0.031771</td>\n      <td>0.022717</td>\n      <td>0.014199</td>\n      <td>0.008182</td>\n      <td>0.003905</td>\n      <td>0.001335</td>\n      <td>0.000213</td>\n      <td>0.000019</td>\n      <td>9240.438</td>\n    </tr>\n    <tr>\n      <th>10</th>\n      <td>0.091752</td>\n      <td>0.093138</td>\n      <td>0.079824</td>\n      <td>0.072232</td>\n      <td>0.077824</td>\n      <td>0.081867</td>\n      <td>0.084987</td>\n      <td>0.074887</td>\n      <td>0.066841</td>\n      <td>0.063835</td>\n      <td>...</td>\n      <td>0.037872</td>\n      <td>0.031771</td>\n      <td>0.022717</td>\n      <td>0.014199</td>\n      <td>0.008182</td>\n      <td>0.003905</td>\n      <td>0.001335</td>\n      <td>0.000213</td>\n      <td>0.000019</td>\n      <td>9240.438</td>\n    </tr>\n    <tr>\n      <th>11</th>\n      <td>0.091752</td>\n      <td>0.093138</td>\n      <td>0.079824</td>\n      <td>0.072232</td>\n      <td>0.077824</td>\n      <td>0.081867</td>\n      <td>0.084987</td>\n      <td>0.074887</td>\n      <td>0.066841</td>\n      <td>0.063835</td>\n      <td>...</td>\n      <td>0.037872</td>\n      <td>0.031771</td>\n      <td>0.022717</td>\n      <td>0.014199</td>\n      <td>0.008182</td>\n      <td>0.003905</td>\n      <td>0.001335</td>\n      <td>0.000213</td>\n      <td>0.000019</td>\n      <td>9240.438</td>\n    </tr>\n  </tbody>\n</table>\n<p>173 rows × 22 columns</p>\n</div>"
     },
     "metadata": {},
     "execution_count": 43
    }
   ],
   "source": [
    "norm_pop_distrib"
   ]
  },
  {
   "cell_type": "code",
   "execution_count": 44,
   "metadata": {},
   "outputs": [],
   "source": [
    "norm_pop_distrib[\"Country_Region\"] = df_pop_distrib[\"Country_Region\"]"
   ]
  },
  {
   "cell_type": "code",
   "execution_count": 45,
   "metadata": {},
   "outputs": [],
   "source": [
    "\n",
    "del df_pop_distrib\n",
    "del df_no_data\n",
    "del clean_wpop\n",
    "del wpop\n",
    "\n",
    "df = df.merge(norm_pop_distrib, on=\"Country_Region\", how='left')"
   ]
  },
  {
   "cell_type": "code",
   "execution_count": 46,
   "metadata": {},
   "outputs": [
    {
     "output_type": "execute_result",
     "data": {
      "text/plain": "          Id Province_State Country_Region       Date  ConfirmedCases  \\\n0          1            NaN    Afghanistan 2020-01-22             0.0   \n1          2            NaN    Afghanistan 2020-01-23             0.0   \n2          3            NaN    Afghanistan 2020-01-24             0.0   \n3          4            NaN    Afghanistan 2020-01-25             0.0   \n4          5            NaN    Afghanistan 2020-01-26             0.0   \n...      ...            ...            ...        ...             ...   \n20575  29366            NaN       Zimbabwe 2020-03-27             5.0   \n20576  29367            NaN       Zimbabwe 2020-03-28             7.0   \n20577  29368            NaN       Zimbabwe 2020-03-29             7.0   \n20578  29369            NaN       Zimbabwe 2020-03-30             7.0   \n20579  29370            NaN       Zimbabwe 2020-03-31             8.0   \n\n       Fatalities   age_0-4   age_5-9  age_10-14  age_15-19  ...  age_60-64  \\\n0             0.0  0.145717  0.139133   0.133376   0.118922  ...   0.015738   \n1             0.0  0.145717  0.139133   0.133376   0.118922  ...   0.015738   \n2             0.0  0.145717  0.139133   0.133376   0.118922  ...   0.015738   \n3             0.0  0.145717  0.139133   0.133376   0.118922  ...   0.015738   \n4             0.0  0.145717  0.139133   0.133376   0.118922  ...   0.015738   \n...           ...       ...       ...        ...        ...  ...        ...   \n20575         1.0  0.141119  0.148740   0.129252   0.110267  ...   0.016177   \n20576         1.0  0.141119  0.148740   0.129252   0.110267  ...   0.016177   \n20577         1.0  0.141119  0.148740   0.129252   0.110267  ...   0.016177   \n20578         1.0  0.141119  0.148740   0.129252   0.110267  ...   0.016177   \n20579         1.0  0.141119  0.148740   0.129252   0.110267  ...   0.016177   \n\n       age_65-69  age_70-74  age_75-79  age_80-84  age_85-89  age_90-94  \\\n0       0.011428   0.008026   0.004316   0.001942   0.000628   0.000133   \n1       0.011428   0.008026   0.004316   0.001942   0.000628   0.000133   \n2       0.011428   0.008026   0.004316   0.001942   0.000628   0.000133   \n3       0.011428   0.008026   0.004316   0.001942   0.000628   0.000133   \n4       0.011428   0.008026   0.004316   0.001942   0.000628   0.000133   \n...          ...        ...        ...        ...        ...        ...   \n20575   0.012445   0.007714   0.005766   0.002953   0.001040   0.000204   \n20576   0.012445   0.007714   0.005766   0.002953   0.001040   0.000204   \n20577   0.012445   0.007714   0.005766   0.002953   0.001040   0.000204   \n20578   0.012445   0.007714   0.005766   0.002953   0.001040   0.000204   \n20579   0.012445   0.007714   0.005766   0.002953   0.001040   0.000204   \n\n       age_95-99  age_100+  total_pop  \n0       0.000016  0.000001  38928.341  \n1       0.000016  0.000001  38928.341  \n2       0.000016  0.000001  38928.341  \n3       0.000016  0.000001  38928.341  \n4       0.000016  0.000001  38928.341  \n...          ...       ...        ...  \n20575   0.000018  0.000001  14862.927  \n20576   0.000018  0.000001  14862.927  \n20577   0.000018  0.000001  14862.927  \n20578   0.000018  0.000001  14862.927  \n20579   0.000018  0.000001  14862.927  \n\n[20580 rows x 28 columns]",
      "text/html": "<div>\n<style scoped>\n    .dataframe tbody tr th:only-of-type {\n        vertical-align: middle;\n    }\n\n    .dataframe tbody tr th {\n        vertical-align: top;\n    }\n\n    .dataframe thead th {\n        text-align: right;\n    }\n</style>\n<table border=\"1\" class=\"dataframe\">\n  <thead>\n    <tr style=\"text-align: right;\">\n      <th></th>\n      <th>Id</th>\n      <th>Province_State</th>\n      <th>Country_Region</th>\n      <th>Date</th>\n      <th>ConfirmedCases</th>\n      <th>Fatalities</th>\n      <th>age_0-4</th>\n      <th>age_5-9</th>\n      <th>age_10-14</th>\n      <th>age_15-19</th>\n      <th>...</th>\n      <th>age_60-64</th>\n      <th>age_65-69</th>\n      <th>age_70-74</th>\n      <th>age_75-79</th>\n      <th>age_80-84</th>\n      <th>age_85-89</th>\n      <th>age_90-94</th>\n      <th>age_95-99</th>\n      <th>age_100+</th>\n      <th>total_pop</th>\n    </tr>\n  </thead>\n  <tbody>\n    <tr>\n      <th>0</th>\n      <td>1</td>\n      <td>NaN</td>\n      <td>Afghanistan</td>\n      <td>2020-01-22</td>\n      <td>0.0</td>\n      <td>0.0</td>\n      <td>0.145717</td>\n      <td>0.139133</td>\n      <td>0.133376</td>\n      <td>0.118922</td>\n      <td>...</td>\n      <td>0.015738</td>\n      <td>0.011428</td>\n      <td>0.008026</td>\n      <td>0.004316</td>\n      <td>0.001942</td>\n      <td>0.000628</td>\n      <td>0.000133</td>\n      <td>0.000016</td>\n      <td>0.000001</td>\n      <td>38928.341</td>\n    </tr>\n    <tr>\n      <th>1</th>\n      <td>2</td>\n      <td>NaN</td>\n      <td>Afghanistan</td>\n      <td>2020-01-23</td>\n      <td>0.0</td>\n      <td>0.0</td>\n      <td>0.145717</td>\n      <td>0.139133</td>\n      <td>0.133376</td>\n      <td>0.118922</td>\n      <td>...</td>\n      <td>0.015738</td>\n      <td>0.011428</td>\n      <td>0.008026</td>\n      <td>0.004316</td>\n      <td>0.001942</td>\n      <td>0.000628</td>\n      <td>0.000133</td>\n      <td>0.000016</td>\n      <td>0.000001</td>\n      <td>38928.341</td>\n    </tr>\n    <tr>\n      <th>2</th>\n      <td>3</td>\n      <td>NaN</td>\n      <td>Afghanistan</td>\n      <td>2020-01-24</td>\n      <td>0.0</td>\n      <td>0.0</td>\n      <td>0.145717</td>\n      <td>0.139133</td>\n      <td>0.133376</td>\n      <td>0.118922</td>\n      <td>...</td>\n      <td>0.015738</td>\n      <td>0.011428</td>\n      <td>0.008026</td>\n      <td>0.004316</td>\n      <td>0.001942</td>\n      <td>0.000628</td>\n      <td>0.000133</td>\n      <td>0.000016</td>\n      <td>0.000001</td>\n      <td>38928.341</td>\n    </tr>\n    <tr>\n      <th>3</th>\n      <td>4</td>\n      <td>NaN</td>\n      <td>Afghanistan</td>\n      <td>2020-01-25</td>\n      <td>0.0</td>\n      <td>0.0</td>\n      <td>0.145717</td>\n      <td>0.139133</td>\n      <td>0.133376</td>\n      <td>0.118922</td>\n      <td>...</td>\n      <td>0.015738</td>\n      <td>0.011428</td>\n      <td>0.008026</td>\n      <td>0.004316</td>\n      <td>0.001942</td>\n      <td>0.000628</td>\n      <td>0.000133</td>\n      <td>0.000016</td>\n      <td>0.000001</td>\n      <td>38928.341</td>\n    </tr>\n    <tr>\n      <th>4</th>\n      <td>5</td>\n      <td>NaN</td>\n      <td>Afghanistan</td>\n      <td>2020-01-26</td>\n      <td>0.0</td>\n      <td>0.0</td>\n      <td>0.145717</td>\n      <td>0.139133</td>\n      <td>0.133376</td>\n      <td>0.118922</td>\n      <td>...</td>\n      <td>0.015738</td>\n      <td>0.011428</td>\n      <td>0.008026</td>\n      <td>0.004316</td>\n      <td>0.001942</td>\n      <td>0.000628</td>\n      <td>0.000133</td>\n      <td>0.000016</td>\n      <td>0.000001</td>\n      <td>38928.341</td>\n    </tr>\n    <tr>\n      <th>...</th>\n      <td>...</td>\n      <td>...</td>\n      <td>...</td>\n      <td>...</td>\n      <td>...</td>\n      <td>...</td>\n      <td>...</td>\n      <td>...</td>\n      <td>...</td>\n      <td>...</td>\n      <td>...</td>\n      <td>...</td>\n      <td>...</td>\n      <td>...</td>\n      <td>...</td>\n      <td>...</td>\n      <td>...</td>\n      <td>...</td>\n      <td>...</td>\n      <td>...</td>\n      <td>...</td>\n    </tr>\n    <tr>\n      <th>20575</th>\n      <td>29366</td>\n      <td>NaN</td>\n      <td>Zimbabwe</td>\n      <td>2020-03-27</td>\n      <td>5.0</td>\n      <td>1.0</td>\n      <td>0.141119</td>\n      <td>0.148740</td>\n      <td>0.129252</td>\n      <td>0.110267</td>\n      <td>...</td>\n      <td>0.016177</td>\n      <td>0.012445</td>\n      <td>0.007714</td>\n      <td>0.005766</td>\n      <td>0.002953</td>\n      <td>0.001040</td>\n      <td>0.000204</td>\n      <td>0.000018</td>\n      <td>0.000001</td>\n      <td>14862.927</td>\n    </tr>\n    <tr>\n      <th>20576</th>\n      <td>29367</td>\n      <td>NaN</td>\n      <td>Zimbabwe</td>\n      <td>2020-03-28</td>\n      <td>7.0</td>\n      <td>1.0</td>\n      <td>0.141119</td>\n      <td>0.148740</td>\n      <td>0.129252</td>\n      <td>0.110267</td>\n      <td>...</td>\n      <td>0.016177</td>\n      <td>0.012445</td>\n      <td>0.007714</td>\n      <td>0.005766</td>\n      <td>0.002953</td>\n      <td>0.001040</td>\n      <td>0.000204</td>\n      <td>0.000018</td>\n      <td>0.000001</td>\n      <td>14862.927</td>\n    </tr>\n    <tr>\n      <th>20577</th>\n      <td>29368</td>\n      <td>NaN</td>\n      <td>Zimbabwe</td>\n      <td>2020-03-29</td>\n      <td>7.0</td>\n      <td>1.0</td>\n      <td>0.141119</td>\n      <td>0.148740</td>\n      <td>0.129252</td>\n      <td>0.110267</td>\n      <td>...</td>\n      <td>0.016177</td>\n      <td>0.012445</td>\n      <td>0.007714</td>\n      <td>0.005766</td>\n      <td>0.002953</td>\n      <td>0.001040</td>\n      <td>0.000204</td>\n      <td>0.000018</td>\n      <td>0.000001</td>\n      <td>14862.927</td>\n    </tr>\n    <tr>\n      <th>20578</th>\n      <td>29369</td>\n      <td>NaN</td>\n      <td>Zimbabwe</td>\n      <td>2020-03-30</td>\n      <td>7.0</td>\n      <td>1.0</td>\n      <td>0.141119</td>\n      <td>0.148740</td>\n      <td>0.129252</td>\n      <td>0.110267</td>\n      <td>...</td>\n      <td>0.016177</td>\n      <td>0.012445</td>\n      <td>0.007714</td>\n      <td>0.005766</td>\n      <td>0.002953</td>\n      <td>0.001040</td>\n      <td>0.000204</td>\n      <td>0.000018</td>\n      <td>0.000001</td>\n      <td>14862.927</td>\n    </tr>\n    <tr>\n      <th>20579</th>\n      <td>29370</td>\n      <td>NaN</td>\n      <td>Zimbabwe</td>\n      <td>2020-03-31</td>\n      <td>8.0</td>\n      <td>1.0</td>\n      <td>0.141119</td>\n      <td>0.148740</td>\n      <td>0.129252</td>\n      <td>0.110267</td>\n      <td>...</td>\n      <td>0.016177</td>\n      <td>0.012445</td>\n      <td>0.007714</td>\n      <td>0.005766</td>\n      <td>0.002953</td>\n      <td>0.001040</td>\n      <td>0.000204</td>\n      <td>0.000018</td>\n      <td>0.000001</td>\n      <td>14862.927</td>\n    </tr>\n  </tbody>\n</table>\n<p>20580 rows × 28 columns</p>\n</div>"
     },
     "metadata": {},
     "execution_count": 46
    }
   ],
   "source": [
    "df"
   ]
  },
  {
   "source": [
    "# somoker"
   ],
   "cell_type": "markdown",
   "metadata": {}
  },
  {
   "cell_type": "code",
   "execution_count": 48,
   "metadata": {},
   "outputs": [],
   "source": [
    "# https://ourworldindata.org/smoking#prevalence-of-smoking-across-the-world\n",
    "smokers = pd.read_csv('/home/young/liuyixin/dl_learning/material/dataset/smokingstats/share-of-adults-who-smoke.csv')"
   ]
  },
  {
   "cell_type": "code",
   "execution_count": 50,
   "metadata": {},
   "outputs": [],
   "source": [
    "\n",
    "smokers = smokers[smokers.Year == 2016].reset_index(drop=True)"
   ]
  },
  {
   "cell_type": "code",
   "execution_count": 51,
   "metadata": {},
   "outputs": [],
   "source": [
    "smokers_country_dict = {'North America' : \"US\",\n",
    " 'Gambia' : \"The Gambia\",\n",
    " 'Bahamas': \"The Bahamas\",\n",
    " \"'South Korea'\" : \"Korea, South\",\n",
    "'Papua New Guinea' : \"Guinea\",\n",
    " \"'Czech Republic'\" : \"Czechia\",\n",
    " 'Congo' : \"Congo (Brazzaville)\"}"
   ]
  },
  {
   "cell_type": "code",
   "execution_count": 52,
   "metadata": {},
   "outputs": [],
   "source": [
    "smokers['Entity'] = smokers.Entity.apply(lambda x : rename_countries(x, smokers_country_dict))"
   ]
  },
  {
   "cell_type": "code",
   "execution_count": 53,
   "metadata": {},
   "outputs": [
    {
     "output_type": "execute_result",
     "data": {
      "text/plain": "         Entity      Code  Year  \\\n0       Albania       ALB  2016   \n1       Algeria       DZA  2016   \n2       Andorra       AND  2016   \n3    Arab World       NaN  2016   \n4     Argentina       ARG  2016   \n..          ...       ...   ...   \n181     Vietnam       VNM  2016   \n182       World  OWID_WRL  2016   \n183       Yemen       YEM  2016   \n184      Zambia       ZMB  2016   \n185    Zimbabwe       ZWE  2016   \n\n     Smoking prevalence, total (ages 15+) (% of adults)  \n0                                            28.700000   \n1                                            15.600000   \n2                                            33.500000   \n3                                            21.954592   \n4                                            21.800000   \n..                                                 ...   \n181                                          22.800000   \n182                                          20.475517   \n183                                          18.400000   \n184                                          13.800000   \n185                                          15.800000   \n\n[186 rows x 4 columns]",
      "text/html": "<div>\n<style scoped>\n    .dataframe tbody tr th:only-of-type {\n        vertical-align: middle;\n    }\n\n    .dataframe tbody tr th {\n        vertical-align: top;\n    }\n\n    .dataframe thead th {\n        text-align: right;\n    }\n</style>\n<table border=\"1\" class=\"dataframe\">\n  <thead>\n    <tr style=\"text-align: right;\">\n      <th></th>\n      <th>Entity</th>\n      <th>Code</th>\n      <th>Year</th>\n      <th>Smoking prevalence, total (ages 15+) (% of adults)</th>\n    </tr>\n  </thead>\n  <tbody>\n    <tr>\n      <th>0</th>\n      <td>Albania</td>\n      <td>ALB</td>\n      <td>2016</td>\n      <td>28.700000</td>\n    </tr>\n    <tr>\n      <th>1</th>\n      <td>Algeria</td>\n      <td>DZA</td>\n      <td>2016</td>\n      <td>15.600000</td>\n    </tr>\n    <tr>\n      <th>2</th>\n      <td>Andorra</td>\n      <td>AND</td>\n      <td>2016</td>\n      <td>33.500000</td>\n    </tr>\n    <tr>\n      <th>3</th>\n      <td>Arab World</td>\n      <td>NaN</td>\n      <td>2016</td>\n      <td>21.954592</td>\n    </tr>\n    <tr>\n      <th>4</th>\n      <td>Argentina</td>\n      <td>ARG</td>\n      <td>2016</td>\n      <td>21.800000</td>\n    </tr>\n    <tr>\n      <th>...</th>\n      <td>...</td>\n      <td>...</td>\n      <td>...</td>\n      <td>...</td>\n    </tr>\n    <tr>\n      <th>181</th>\n      <td>Vietnam</td>\n      <td>VNM</td>\n      <td>2016</td>\n      <td>22.800000</td>\n    </tr>\n    <tr>\n      <th>182</th>\n      <td>World</td>\n      <td>OWID_WRL</td>\n      <td>2016</td>\n      <td>20.475517</td>\n    </tr>\n    <tr>\n      <th>183</th>\n      <td>Yemen</td>\n      <td>YEM</td>\n      <td>2016</td>\n      <td>18.400000</td>\n    </tr>\n    <tr>\n      <th>184</th>\n      <td>Zambia</td>\n      <td>ZMB</td>\n      <td>2016</td>\n      <td>13.800000</td>\n    </tr>\n    <tr>\n      <th>185</th>\n      <td>Zimbabwe</td>\n      <td>ZWE</td>\n      <td>2016</td>\n      <td>15.800000</td>\n    </tr>\n  </tbody>\n</table>\n<p>186 rows × 4 columns</p>\n</div>"
     },
     "metadata": {},
     "execution_count": 53
    }
   ],
   "source": [
    "smokers"
   ]
  },
  {
   "cell_type": "code",
   "execution_count": 55,
   "metadata": {},
   "outputs": [],
   "source": [
    "no_datas_smoker = []\n",
    "for country in df['Country_Region'].unique():\n",
    "    if country not in smokers.Entity.unique():\n",
    "        mean_score = smokers[['Smoking prevalence, total (ages 15+) (% of adults)']].mean().to_dict()\n",
    "        mean_score['Entity'] = country\n",
    "        no_datas_smoker.append(mean_score)"
   ]
  },
  {
   "cell_type": "code",
   "execution_count": 59,
   "metadata": {},
   "outputs": [],
   "source": [
    "no_data_smoker_df = pd.DataFrame(no_datas_smoker)   "
   ]
  },
  {
   "cell_type": "code",
   "execution_count": 63,
   "metadata": {},
   "outputs": [
    {
     "output_type": "execute_result",
     "data": {
      "text/plain": "         Entity      Code  Year  \\\n0       Albania       ALB  2016   \n1       Algeria       DZA  2016   \n2       Andorra       AND  2016   \n3    Arab World       NaN  2016   \n4     Argentina       ARG  2016   \n..          ...       ...   ...   \n181     Vietnam       VNM  2016   \n182       World  OWID_WRL  2016   \n183       Yemen       YEM  2016   \n184      Zambia       ZMB  2016   \n185    Zimbabwe       ZWE  2016   \n\n     Smoking prevalence, total (ages 15+) (% of adults)  \n0                                            28.700000   \n1                                            15.600000   \n2                                            33.500000   \n3                                            21.954592   \n4                                            21.800000   \n..                                                 ...   \n181                                          22.800000   \n182                                          20.475517   \n183                                          18.400000   \n184                                          13.800000   \n185                                          15.800000   \n\n[186 rows x 4 columns]",
      "text/html": "<div>\n<style scoped>\n    .dataframe tbody tr th:only-of-type {\n        vertical-align: middle;\n    }\n\n    .dataframe tbody tr th {\n        vertical-align: top;\n    }\n\n    .dataframe thead th {\n        text-align: right;\n    }\n</style>\n<table border=\"1\" class=\"dataframe\">\n  <thead>\n    <tr style=\"text-align: right;\">\n      <th></th>\n      <th>Entity</th>\n      <th>Code</th>\n      <th>Year</th>\n      <th>Smoking prevalence, total (ages 15+) (% of adults)</th>\n    </tr>\n  </thead>\n  <tbody>\n    <tr>\n      <th>0</th>\n      <td>Albania</td>\n      <td>ALB</td>\n      <td>2016</td>\n      <td>28.700000</td>\n    </tr>\n    <tr>\n      <th>1</th>\n      <td>Algeria</td>\n      <td>DZA</td>\n      <td>2016</td>\n      <td>15.600000</td>\n    </tr>\n    <tr>\n      <th>2</th>\n      <td>Andorra</td>\n      <td>AND</td>\n      <td>2016</td>\n      <td>33.500000</td>\n    </tr>\n    <tr>\n      <th>3</th>\n      <td>Arab World</td>\n      <td>NaN</td>\n      <td>2016</td>\n      <td>21.954592</td>\n    </tr>\n    <tr>\n      <th>4</th>\n      <td>Argentina</td>\n      <td>ARG</td>\n      <td>2016</td>\n      <td>21.800000</td>\n    </tr>\n    <tr>\n      <th>...</th>\n      <td>...</td>\n      <td>...</td>\n      <td>...</td>\n      <td>...</td>\n    </tr>\n    <tr>\n      <th>181</th>\n      <td>Vietnam</td>\n      <td>VNM</td>\n      <td>2016</td>\n      <td>22.800000</td>\n    </tr>\n    <tr>\n      <th>182</th>\n      <td>World</td>\n      <td>OWID_WRL</td>\n      <td>2016</td>\n      <td>20.475517</td>\n    </tr>\n    <tr>\n      <th>183</th>\n      <td>Yemen</td>\n      <td>YEM</td>\n      <td>2016</td>\n      <td>18.400000</td>\n    </tr>\n    <tr>\n      <th>184</th>\n      <td>Zambia</td>\n      <td>ZMB</td>\n      <td>2016</td>\n      <td>13.800000</td>\n    </tr>\n    <tr>\n      <th>185</th>\n      <td>Zimbabwe</td>\n      <td>ZWE</td>\n      <td>2016</td>\n      <td>15.800000</td>\n    </tr>\n  </tbody>\n</table>\n<p>186 rows × 4 columns</p>\n</div>"
     },
     "metadata": {},
     "execution_count": 63
    }
   ],
   "source": [
    "smokers"
   ]
  },
  {
   "cell_type": "code",
   "execution_count": 64,
   "metadata": {},
   "outputs": [
    {
     "output_type": "execute_result",
     "data": {
      "text/plain": "    Smoking prevalence, total (ages 15+) (% of adults)  \\\n0                                           21.389448    \n1                                           21.389448    \n2                                           21.389448    \n3                                           21.389448    \n4                                           21.389448    \n5                                           21.389448    \n6                                           21.389448    \n7                                           21.389448    \n8                                           21.389448    \n9                                           21.389448    \n10                                          21.389448    \n11                                          21.389448    \n12                                          21.389448    \n13                                          21.389448    \n14                                          21.389448    \n15                                          21.389448    \n16                                          21.389448    \n17                                          21.389448    \n18                                          21.389448    \n19                                          21.389448    \n20                                          21.389448    \n21                                          21.389448    \n22                                          21.389448    \n23                                          21.389448    \n24                                          21.389448    \n25                                          21.389448    \n26                                          21.389448    \n27                                          21.389448    \n28                                          21.389448    \n29                                          21.389448    \n30                                          21.389448    \n31                                          21.389448    \n32                                          21.389448    \n33                                          21.389448    \n34                                          21.389448    \n35                                          21.389448    \n36                                          21.389448    \n37                                          21.389448    \n38                                          21.389448    \n39                                          21.389448    \n40                                          21.389448    \n41                                          21.389448    \n42                                          21.389448    \n43                                          21.389448    \n44                                          21.389448    \n45                                          21.389448    \n46                                          21.389448    \n\n                              Entity  \n0                        Afghanistan  \n1                             Angola  \n2                Antigua and Barbuda  \n3                            Bahamas  \n4                             Belize  \n5                             Bhutan  \n6                            Bolivia  \n7                         Cabo Verde  \n8                           Cameroon  \n9           Central African Republic  \n10                              Chad  \n11                  Congo (Kinshasa)  \n12                     Cote d'Ivoire  \n13                           Czechia  \n14                  Diamond Princess  \n15                          Dominica  \n16                 Equatorial Guinea  \n17                          Eswatini  \n18                             Gabon  \n19                            Gambia  \n20                           Grenada  \n21                         Guatemala  \n22                     Guinea-Bissau  \n23                            Guyana  \n24                          Holy See  \n25                              Iraq  \n26                            Jordan  \n27                      Korea, South  \n28                             Libya  \n29                     Liechtenstein  \n30                        Madagascar  \n31                        Mauritania  \n32                            Monaco  \n33                         Nicaragua  \n34                   North Macedonia  \n35                  Papua New Guinea  \n36             Saint Kitts and Nevis  \n37                       Saint Lucia  \n38  Saint Vincent and the Grenadines  \n39                        San Marino  \n40                           Somalia  \n41                             Sudan  \n42                             Syria  \n43                           Taiwan*  \n44                       Timor-Leste  \n45               Trinidad and Tobago  \n46                         Venezuela  ",
      "text/html": "<div>\n<style scoped>\n    .dataframe tbody tr th:only-of-type {\n        vertical-align: middle;\n    }\n\n    .dataframe tbody tr th {\n        vertical-align: top;\n    }\n\n    .dataframe thead th {\n        text-align: right;\n    }\n</style>\n<table border=\"1\" class=\"dataframe\">\n  <thead>\n    <tr style=\"text-align: right;\">\n      <th></th>\n      <th>Smoking prevalence, total (ages 15+) (% of adults)</th>\n      <th>Entity</th>\n    </tr>\n  </thead>\n  <tbody>\n    <tr>\n      <th>0</th>\n      <td>21.389448</td>\n      <td>Afghanistan</td>\n    </tr>\n    <tr>\n      <th>1</th>\n      <td>21.389448</td>\n      <td>Angola</td>\n    </tr>\n    <tr>\n      <th>2</th>\n      <td>21.389448</td>\n      <td>Antigua and Barbuda</td>\n    </tr>\n    <tr>\n      <th>3</th>\n      <td>21.389448</td>\n      <td>Bahamas</td>\n    </tr>\n    <tr>\n      <th>4</th>\n      <td>21.389448</td>\n      <td>Belize</td>\n    </tr>\n    <tr>\n      <th>5</th>\n      <td>21.389448</td>\n      <td>Bhutan</td>\n    </tr>\n    <tr>\n      <th>6</th>\n      <td>21.389448</td>\n      <td>Bolivia</td>\n    </tr>\n    <tr>\n      <th>7</th>\n      <td>21.389448</td>\n      <td>Cabo Verde</td>\n    </tr>\n    <tr>\n      <th>8</th>\n      <td>21.389448</td>\n      <td>Cameroon</td>\n    </tr>\n    <tr>\n      <th>9</th>\n      <td>21.389448</td>\n      <td>Central African Republic</td>\n    </tr>\n    <tr>\n      <th>10</th>\n      <td>21.389448</td>\n      <td>Chad</td>\n    </tr>\n    <tr>\n      <th>11</th>\n      <td>21.389448</td>\n      <td>Congo (Kinshasa)</td>\n    </tr>\n    <tr>\n      <th>12</th>\n      <td>21.389448</td>\n      <td>Cote d'Ivoire</td>\n    </tr>\n    <tr>\n      <th>13</th>\n      <td>21.389448</td>\n      <td>Czechia</td>\n    </tr>\n    <tr>\n      <th>14</th>\n      <td>21.389448</td>\n      <td>Diamond Princess</td>\n    </tr>\n    <tr>\n      <th>15</th>\n      <td>21.389448</td>\n      <td>Dominica</td>\n    </tr>\n    <tr>\n      <th>16</th>\n      <td>21.389448</td>\n      <td>Equatorial Guinea</td>\n    </tr>\n    <tr>\n      <th>17</th>\n      <td>21.389448</td>\n      <td>Eswatini</td>\n    </tr>\n    <tr>\n      <th>18</th>\n      <td>21.389448</td>\n      <td>Gabon</td>\n    </tr>\n    <tr>\n      <th>19</th>\n      <td>21.389448</td>\n      <td>Gambia</td>\n    </tr>\n    <tr>\n      <th>20</th>\n      <td>21.389448</td>\n      <td>Grenada</td>\n    </tr>\n    <tr>\n      <th>21</th>\n      <td>21.389448</td>\n      <td>Guatemala</td>\n    </tr>\n    <tr>\n      <th>22</th>\n      <td>21.389448</td>\n      <td>Guinea-Bissau</td>\n    </tr>\n    <tr>\n      <th>23</th>\n      <td>21.389448</td>\n      <td>Guyana</td>\n    </tr>\n    <tr>\n      <th>24</th>\n      <td>21.389448</td>\n      <td>Holy See</td>\n    </tr>\n    <tr>\n      <th>25</th>\n      <td>21.389448</td>\n      <td>Iraq</td>\n    </tr>\n    <tr>\n      <th>26</th>\n      <td>21.389448</td>\n      <td>Jordan</td>\n    </tr>\n    <tr>\n      <th>27</th>\n      <td>21.389448</td>\n      <td>Korea, South</td>\n    </tr>\n    <tr>\n      <th>28</th>\n      <td>21.389448</td>\n      <td>Libya</td>\n    </tr>\n    <tr>\n      <th>29</th>\n      <td>21.389448</td>\n      <td>Liechtenstein</td>\n    </tr>\n    <tr>\n      <th>30</th>\n      <td>21.389448</td>\n      <td>Madagascar</td>\n    </tr>\n    <tr>\n      <th>31</th>\n      <td>21.389448</td>\n      <td>Mauritania</td>\n    </tr>\n    <tr>\n      <th>32</th>\n      <td>21.389448</td>\n      <td>Monaco</td>\n    </tr>\n    <tr>\n      <th>33</th>\n      <td>21.389448</td>\n      <td>Nicaragua</td>\n    </tr>\n    <tr>\n      <th>34</th>\n      <td>21.389448</td>\n      <td>North Macedonia</td>\n    </tr>\n    <tr>\n      <th>35</th>\n      <td>21.389448</td>\n      <td>Papua New Guinea</td>\n    </tr>\n    <tr>\n      <th>36</th>\n      <td>21.389448</td>\n      <td>Saint Kitts and Nevis</td>\n    </tr>\n    <tr>\n      <th>37</th>\n      <td>21.389448</td>\n      <td>Saint Lucia</td>\n    </tr>\n    <tr>\n      <th>38</th>\n      <td>21.389448</td>\n      <td>Saint Vincent and the Grenadines</td>\n    </tr>\n    <tr>\n      <th>39</th>\n      <td>21.389448</td>\n      <td>San Marino</td>\n    </tr>\n    <tr>\n      <th>40</th>\n      <td>21.389448</td>\n      <td>Somalia</td>\n    </tr>\n    <tr>\n      <th>41</th>\n      <td>21.389448</td>\n      <td>Sudan</td>\n    </tr>\n    <tr>\n      <th>42</th>\n      <td>21.389448</td>\n      <td>Syria</td>\n    </tr>\n    <tr>\n      <th>43</th>\n      <td>21.389448</td>\n      <td>Taiwan*</td>\n    </tr>\n    <tr>\n      <th>44</th>\n      <td>21.389448</td>\n      <td>Timor-Leste</td>\n    </tr>\n    <tr>\n      <th>45</th>\n      <td>21.389448</td>\n      <td>Trinidad and Tobago</td>\n    </tr>\n    <tr>\n      <th>46</th>\n      <td>21.389448</td>\n      <td>Venezuela</td>\n    </tr>\n  </tbody>\n</table>\n</div>"
     },
     "metadata": {},
     "execution_count": 64
    }
   ],
   "source": [
    "no_data_smoker_df"
   ]
  },
  {
   "cell_type": "code",
   "execution_count": 61,
   "metadata": {},
   "outputs": [],
   "source": [
    "clean_smoke_data = pd.concat([smokers, no_data_smoker_df], axis=0)[['Entity','Smoking prevalence, total (ages 15+) (% of adults)']]"
   ]
  },
  {
   "cell_type": "code",
   "execution_count": 65,
   "metadata": {},
   "outputs": [
    {
     "output_type": "execute_result",
     "data": {
      "text/plain": "                 Entity  Smoking prevalence, total (ages 15+) (% of adults)\n0               Albania                                          28.700000 \n1               Algeria                                          15.600000 \n2               Andorra                                          33.500000 \n3            Arab World                                          21.954592 \n4             Argentina                                          21.800000 \n..                  ...                                                ... \n42                Syria                                          21.389448 \n43              Taiwan*                                          21.389448 \n44          Timor-Leste                                          21.389448 \n45  Trinidad and Tobago                                          21.389448 \n46            Venezuela                                          21.389448 \n\n[233 rows x 2 columns]",
      "text/html": "<div>\n<style scoped>\n    .dataframe tbody tr th:only-of-type {\n        vertical-align: middle;\n    }\n\n    .dataframe tbody tr th {\n        vertical-align: top;\n    }\n\n    .dataframe thead th {\n        text-align: right;\n    }\n</style>\n<table border=\"1\" class=\"dataframe\">\n  <thead>\n    <tr style=\"text-align: right;\">\n      <th></th>\n      <th>Entity</th>\n      <th>Smoking prevalence, total (ages 15+) (% of adults)</th>\n    </tr>\n  </thead>\n  <tbody>\n    <tr>\n      <th>0</th>\n      <td>Albania</td>\n      <td>28.700000</td>\n    </tr>\n    <tr>\n      <th>1</th>\n      <td>Algeria</td>\n      <td>15.600000</td>\n    </tr>\n    <tr>\n      <th>2</th>\n      <td>Andorra</td>\n      <td>33.500000</td>\n    </tr>\n    <tr>\n      <th>3</th>\n      <td>Arab World</td>\n      <td>21.954592</td>\n    </tr>\n    <tr>\n      <th>4</th>\n      <td>Argentina</td>\n      <td>21.800000</td>\n    </tr>\n    <tr>\n      <th>...</th>\n      <td>...</td>\n      <td>...</td>\n    </tr>\n    <tr>\n      <th>42</th>\n      <td>Syria</td>\n      <td>21.389448</td>\n    </tr>\n    <tr>\n      <th>43</th>\n      <td>Taiwan*</td>\n      <td>21.389448</td>\n    </tr>\n    <tr>\n      <th>44</th>\n      <td>Timor-Leste</td>\n      <td>21.389448</td>\n    </tr>\n    <tr>\n      <th>45</th>\n      <td>Trinidad and Tobago</td>\n      <td>21.389448</td>\n    </tr>\n    <tr>\n      <th>46</th>\n      <td>Venezuela</td>\n      <td>21.389448</td>\n    </tr>\n  </tbody>\n</table>\n<p>233 rows × 2 columns</p>\n</div>"
     },
     "metadata": {},
     "execution_count": 65
    }
   ],
   "source": [
    "clean_smoke_data"
   ]
  },
  {
   "cell_type": "code",
   "execution_count": 66,
   "metadata": {},
   "outputs": [],
   "source": [
    "clean_smoke_data.rename(columns={\"Entity\": \"Country_Region\",\n",
    "                                  \"Smoking prevalence, total (ages 15+) (% of adults)\" : \"smokers_perc\"}, inplace=True)"
   ]
  },
  {
   "cell_type": "code",
   "execution_count": 68,
   "metadata": {},
   "outputs": [
    {
     "output_type": "execute_result",
     "data": {
      "text/plain": "         Country_Region  smokers_perc\n0               Albania     28.700000\n1               Algeria     15.600000\n2               Andorra     33.500000\n3            Arab World     21.954592\n4             Argentina     21.800000\n..                  ...           ...\n42                Syria     21.389448\n43              Taiwan*     21.389448\n44          Timor-Leste     21.389448\n45  Trinidad and Tobago     21.389448\n46            Venezuela     21.389448\n\n[233 rows x 2 columns]",
      "text/html": "<div>\n<style scoped>\n    .dataframe tbody tr th:only-of-type {\n        vertical-align: middle;\n    }\n\n    .dataframe tbody tr th {\n        vertical-align: top;\n    }\n\n    .dataframe thead th {\n        text-align: right;\n    }\n</style>\n<table border=\"1\" class=\"dataframe\">\n  <thead>\n    <tr style=\"text-align: right;\">\n      <th></th>\n      <th>Country_Region</th>\n      <th>smokers_perc</th>\n    </tr>\n  </thead>\n  <tbody>\n    <tr>\n      <th>0</th>\n      <td>Albania</td>\n      <td>28.700000</td>\n    </tr>\n    <tr>\n      <th>1</th>\n      <td>Algeria</td>\n      <td>15.600000</td>\n    </tr>\n    <tr>\n      <th>2</th>\n      <td>Andorra</td>\n      <td>33.500000</td>\n    </tr>\n    <tr>\n      <th>3</th>\n      <td>Arab World</td>\n      <td>21.954592</td>\n    </tr>\n    <tr>\n      <th>4</th>\n      <td>Argentina</td>\n      <td>21.800000</td>\n    </tr>\n    <tr>\n      <th>...</th>\n      <td>...</td>\n      <td>...</td>\n    </tr>\n    <tr>\n      <th>42</th>\n      <td>Syria</td>\n      <td>21.389448</td>\n    </tr>\n    <tr>\n      <th>43</th>\n      <td>Taiwan*</td>\n      <td>21.389448</td>\n    </tr>\n    <tr>\n      <th>44</th>\n      <td>Timor-Leste</td>\n      <td>21.389448</td>\n    </tr>\n    <tr>\n      <th>45</th>\n      <td>Trinidad and Tobago</td>\n      <td>21.389448</td>\n    </tr>\n    <tr>\n      <th>46</th>\n      <td>Venezuela</td>\n      <td>21.389448</td>\n    </tr>\n  </tbody>\n</table>\n<p>233 rows × 2 columns</p>\n</div>"
     },
     "metadata": {},
     "execution_count": 68
    }
   ],
   "source": [
    "clean_smoke_data"
   ]
  },
  {
   "cell_type": "code",
   "execution_count": 70,
   "metadata": {},
   "outputs": [],
   "source": [
    "df = df.merge(clean_smoke_data, on=\"Country_Region\", how='left')"
   ]
  },
  {
   "cell_type": "code",
   "execution_count": 71,
   "metadata": {},
   "outputs": [
    {
     "output_type": "execute_result",
     "data": {
      "text/plain": "          Id Province_State Country_Region       Date  ConfirmedCases  \\\n0          1            NaN    Afghanistan 2020-01-22             0.0   \n1          2            NaN    Afghanistan 2020-01-23             0.0   \n2          3            NaN    Afghanistan 2020-01-24             0.0   \n3          4            NaN    Afghanistan 2020-01-25             0.0   \n4          5            NaN    Afghanistan 2020-01-26             0.0   \n...      ...            ...            ...        ...             ...   \n20575  29366            NaN       Zimbabwe 2020-03-27             5.0   \n20576  29367            NaN       Zimbabwe 2020-03-28             7.0   \n20577  29368            NaN       Zimbabwe 2020-03-29             7.0   \n20578  29369            NaN       Zimbabwe 2020-03-30             7.0   \n20579  29370            NaN       Zimbabwe 2020-03-31             8.0   \n\n       Fatalities   age_0-4   age_5-9  age_10-14  age_15-19  ...  age_65-69  \\\n0             0.0  0.145717  0.139133   0.133376   0.118922  ...   0.011428   \n1             0.0  0.145717  0.139133   0.133376   0.118922  ...   0.011428   \n2             0.0  0.145717  0.139133   0.133376   0.118922  ...   0.011428   \n3             0.0  0.145717  0.139133   0.133376   0.118922  ...   0.011428   \n4             0.0  0.145717  0.139133   0.133376   0.118922  ...   0.011428   \n...           ...       ...       ...        ...        ...  ...        ...   \n20575         1.0  0.141119  0.148740   0.129252   0.110267  ...   0.012445   \n20576         1.0  0.141119  0.148740   0.129252   0.110267  ...   0.012445   \n20577         1.0  0.141119  0.148740   0.129252   0.110267  ...   0.012445   \n20578         1.0  0.141119  0.148740   0.129252   0.110267  ...   0.012445   \n20579         1.0  0.141119  0.148740   0.129252   0.110267  ...   0.012445   \n\n       age_70-74  age_75-79  age_80-84  age_85-89  age_90-94  age_95-99  \\\n0       0.008026   0.004316   0.001942   0.000628   0.000133   0.000016   \n1       0.008026   0.004316   0.001942   0.000628   0.000133   0.000016   \n2       0.008026   0.004316   0.001942   0.000628   0.000133   0.000016   \n3       0.008026   0.004316   0.001942   0.000628   0.000133   0.000016   \n4       0.008026   0.004316   0.001942   0.000628   0.000133   0.000016   \n...          ...        ...        ...        ...        ...        ...   \n20575   0.007714   0.005766   0.002953   0.001040   0.000204   0.000018   \n20576   0.007714   0.005766   0.002953   0.001040   0.000204   0.000018   \n20577   0.007714   0.005766   0.002953   0.001040   0.000204   0.000018   \n20578   0.007714   0.005766   0.002953   0.001040   0.000204   0.000018   \n20579   0.007714   0.005766   0.002953   0.001040   0.000204   0.000018   \n\n       age_100+  total_pop  smokers_perc  \n0      0.000001  38928.341     21.389448  \n1      0.000001  38928.341     21.389448  \n2      0.000001  38928.341     21.389448  \n3      0.000001  38928.341     21.389448  \n4      0.000001  38928.341     21.389448  \n...         ...        ...           ...  \n20575  0.000001  14862.927     15.800000  \n20576  0.000001  14862.927     15.800000  \n20577  0.000001  14862.927     15.800000  \n20578  0.000001  14862.927     15.800000  \n20579  0.000001  14862.927     15.800000  \n\n[20580 rows x 29 columns]",
      "text/html": "<div>\n<style scoped>\n    .dataframe tbody tr th:only-of-type {\n        vertical-align: middle;\n    }\n\n    .dataframe tbody tr th {\n        vertical-align: top;\n    }\n\n    .dataframe thead th {\n        text-align: right;\n    }\n</style>\n<table border=\"1\" class=\"dataframe\">\n  <thead>\n    <tr style=\"text-align: right;\">\n      <th></th>\n      <th>Id</th>\n      <th>Province_State</th>\n      <th>Country_Region</th>\n      <th>Date</th>\n      <th>ConfirmedCases</th>\n      <th>Fatalities</th>\n      <th>age_0-4</th>\n      <th>age_5-9</th>\n      <th>age_10-14</th>\n      <th>age_15-19</th>\n      <th>...</th>\n      <th>age_65-69</th>\n      <th>age_70-74</th>\n      <th>age_75-79</th>\n      <th>age_80-84</th>\n      <th>age_85-89</th>\n      <th>age_90-94</th>\n      <th>age_95-99</th>\n      <th>age_100+</th>\n      <th>total_pop</th>\n      <th>smokers_perc</th>\n    </tr>\n  </thead>\n  <tbody>\n    <tr>\n      <th>0</th>\n      <td>1</td>\n      <td>NaN</td>\n      <td>Afghanistan</td>\n      <td>2020-01-22</td>\n      <td>0.0</td>\n      <td>0.0</td>\n      <td>0.145717</td>\n      <td>0.139133</td>\n      <td>0.133376</td>\n      <td>0.118922</td>\n      <td>...</td>\n      <td>0.011428</td>\n      <td>0.008026</td>\n      <td>0.004316</td>\n      <td>0.001942</td>\n      <td>0.000628</td>\n      <td>0.000133</td>\n      <td>0.000016</td>\n      <td>0.000001</td>\n      <td>38928.341</td>\n      <td>21.389448</td>\n    </tr>\n    <tr>\n      <th>1</th>\n      <td>2</td>\n      <td>NaN</td>\n      <td>Afghanistan</td>\n      <td>2020-01-23</td>\n      <td>0.0</td>\n      <td>0.0</td>\n      <td>0.145717</td>\n      <td>0.139133</td>\n      <td>0.133376</td>\n      <td>0.118922</td>\n      <td>...</td>\n      <td>0.011428</td>\n      <td>0.008026</td>\n      <td>0.004316</td>\n      <td>0.001942</td>\n      <td>0.000628</td>\n      <td>0.000133</td>\n      <td>0.000016</td>\n      <td>0.000001</td>\n      <td>38928.341</td>\n      <td>21.389448</td>\n    </tr>\n    <tr>\n      <th>2</th>\n      <td>3</td>\n      <td>NaN</td>\n      <td>Afghanistan</td>\n      <td>2020-01-24</td>\n      <td>0.0</td>\n      <td>0.0</td>\n      <td>0.145717</td>\n      <td>0.139133</td>\n      <td>0.133376</td>\n      <td>0.118922</td>\n      <td>...</td>\n      <td>0.011428</td>\n      <td>0.008026</td>\n      <td>0.004316</td>\n      <td>0.001942</td>\n      <td>0.000628</td>\n      <td>0.000133</td>\n      <td>0.000016</td>\n      <td>0.000001</td>\n      <td>38928.341</td>\n      <td>21.389448</td>\n    </tr>\n    <tr>\n      <th>3</th>\n      <td>4</td>\n      <td>NaN</td>\n      <td>Afghanistan</td>\n      <td>2020-01-25</td>\n      <td>0.0</td>\n      <td>0.0</td>\n      <td>0.145717</td>\n      <td>0.139133</td>\n      <td>0.133376</td>\n      <td>0.118922</td>\n      <td>...</td>\n      <td>0.011428</td>\n      <td>0.008026</td>\n      <td>0.004316</td>\n      <td>0.001942</td>\n      <td>0.000628</td>\n      <td>0.000133</td>\n      <td>0.000016</td>\n      <td>0.000001</td>\n      <td>38928.341</td>\n      <td>21.389448</td>\n    </tr>\n    <tr>\n      <th>4</th>\n      <td>5</td>\n      <td>NaN</td>\n      <td>Afghanistan</td>\n      <td>2020-01-26</td>\n      <td>0.0</td>\n      <td>0.0</td>\n      <td>0.145717</td>\n      <td>0.139133</td>\n      <td>0.133376</td>\n      <td>0.118922</td>\n      <td>...</td>\n      <td>0.011428</td>\n      <td>0.008026</td>\n      <td>0.004316</td>\n      <td>0.001942</td>\n      <td>0.000628</td>\n      <td>0.000133</td>\n      <td>0.000016</td>\n      <td>0.000001</td>\n      <td>38928.341</td>\n      <td>21.389448</td>\n    </tr>\n    <tr>\n      <th>...</th>\n      <td>...</td>\n      <td>...</td>\n      <td>...</td>\n      <td>...</td>\n      <td>...</td>\n      <td>...</td>\n      <td>...</td>\n      <td>...</td>\n      <td>...</td>\n      <td>...</td>\n      <td>...</td>\n      <td>...</td>\n      <td>...</td>\n      <td>...</td>\n      <td>...</td>\n      <td>...</td>\n      <td>...</td>\n      <td>...</td>\n      <td>...</td>\n      <td>...</td>\n      <td>...</td>\n    </tr>\n    <tr>\n      <th>20575</th>\n      <td>29366</td>\n      <td>NaN</td>\n      <td>Zimbabwe</td>\n      <td>2020-03-27</td>\n      <td>5.0</td>\n      <td>1.0</td>\n      <td>0.141119</td>\n      <td>0.148740</td>\n      <td>0.129252</td>\n      <td>0.110267</td>\n      <td>...</td>\n      <td>0.012445</td>\n      <td>0.007714</td>\n      <td>0.005766</td>\n      <td>0.002953</td>\n      <td>0.001040</td>\n      <td>0.000204</td>\n      <td>0.000018</td>\n      <td>0.000001</td>\n      <td>14862.927</td>\n      <td>15.800000</td>\n    </tr>\n    <tr>\n      <th>20576</th>\n      <td>29367</td>\n      <td>NaN</td>\n      <td>Zimbabwe</td>\n      <td>2020-03-28</td>\n      <td>7.0</td>\n      <td>1.0</td>\n      <td>0.141119</td>\n      <td>0.148740</td>\n      <td>0.129252</td>\n      <td>0.110267</td>\n      <td>...</td>\n      <td>0.012445</td>\n      <td>0.007714</td>\n      <td>0.005766</td>\n      <td>0.002953</td>\n      <td>0.001040</td>\n      <td>0.000204</td>\n      <td>0.000018</td>\n      <td>0.000001</td>\n      <td>14862.927</td>\n      <td>15.800000</td>\n    </tr>\n    <tr>\n      <th>20577</th>\n      <td>29368</td>\n      <td>NaN</td>\n      <td>Zimbabwe</td>\n      <td>2020-03-29</td>\n      <td>7.0</td>\n      <td>1.0</td>\n      <td>0.141119</td>\n      <td>0.148740</td>\n      <td>0.129252</td>\n      <td>0.110267</td>\n      <td>...</td>\n      <td>0.012445</td>\n      <td>0.007714</td>\n      <td>0.005766</td>\n      <td>0.002953</td>\n      <td>0.001040</td>\n      <td>0.000204</td>\n      <td>0.000018</td>\n      <td>0.000001</td>\n      <td>14862.927</td>\n      <td>15.800000</td>\n    </tr>\n    <tr>\n      <th>20578</th>\n      <td>29369</td>\n      <td>NaN</td>\n      <td>Zimbabwe</td>\n      <td>2020-03-30</td>\n      <td>7.0</td>\n      <td>1.0</td>\n      <td>0.141119</td>\n      <td>0.148740</td>\n      <td>0.129252</td>\n      <td>0.110267</td>\n      <td>...</td>\n      <td>0.012445</td>\n      <td>0.007714</td>\n      <td>0.005766</td>\n      <td>0.002953</td>\n      <td>0.001040</td>\n      <td>0.000204</td>\n      <td>0.000018</td>\n      <td>0.000001</td>\n      <td>14862.927</td>\n      <td>15.800000</td>\n    </tr>\n    <tr>\n      <th>20579</th>\n      <td>29370</td>\n      <td>NaN</td>\n      <td>Zimbabwe</td>\n      <td>2020-03-31</td>\n      <td>8.0</td>\n      <td>1.0</td>\n      <td>0.141119</td>\n      <td>0.148740</td>\n      <td>0.129252</td>\n      <td>0.110267</td>\n      <td>...</td>\n      <td>0.012445</td>\n      <td>0.007714</td>\n      <td>0.005766</td>\n      <td>0.002953</td>\n      <td>0.001040</td>\n      <td>0.000204</td>\n      <td>0.000018</td>\n      <td>0.000001</td>\n      <td>14862.927</td>\n      <td>15.800000</td>\n    </tr>\n  </tbody>\n</table>\n<p>20580 rows × 29 columns</p>\n</div>"
     },
     "metadata": {},
     "execution_count": 71
    }
   ],
   "source": [
    "df"
   ]
  },
  {
   "cell_type": "code",
   "execution_count": 72,
   "metadata": {},
   "outputs": [],
   "source": [
    "def concat_country_province(country, province):\n",
    "    if not isinstance(province, str):\n",
    "        return country\n",
    "    else:\n",
    "        return country+\"_\"+province\n",
    "\n",
    "# Concatenate region and province for training\n",
    "df[\"Country_Region\"] = df[[\"Country_Region\", \"Province_State\"]].apply(lambda x : concat_country_province(x[0], x[1]), axis=1)"
   ]
  },
  {
   "source": [
    "# Add Time Data information from Quarantine, Restrictions and Schools"
   ],
   "cell_type": "markdown",
   "metadata": {}
  },
  {
   "cell_type": "code",
   "execution_count": 86,
   "metadata": {},
   "outputs": [],
   "source": [
    "# https://www.kaggle.com/koryto/countryinfo\n",
    "\n",
    "country_info = pd.read_csv('/home/young/liuyixin/dl_learning/material/dataset/countryinfo/covid19countryinfo.csv')\n",
    "country_info = country_info[~country_info.country.isnull()].reset_index(drop=True)"
   ]
  },
  {
   "cell_type": "code",
   "execution_count": 87,
   "metadata": {},
   "outputs": [],
   "source": [
    "country_info.drop([ c for c in country_info.columns if c.startswith(\"Unnamed\")], axis=1, inplace=True)"
   ]
  },
  {
   "cell_type": "code",
   "execution_count": 88,
   "metadata": {},
   "outputs": [],
   "source": [
    "country_info.drop(columns=['pop', 'sex0', 'sex14', 'sex25', 'sex54', 'sex64', 'sex65plus', 'medianage', \"smokers\", \"sexratio\"],\n",
    "                  axis=1,\n",
    "                  inplace=True)"
   ]
  },
  {
   "cell_type": "code",
   "execution_count": 90,
   "metadata": {},
   "outputs": [],
   "source": [
    "# Columns with dates\n",
    "country_info[\"quarantine\"] = pd.to_datetime(country_info[\"quarantine\"])\n",
    "country_info[\"restrictions\"] = pd.to_datetime(country_info[\"publicplace\"])\n",
    "country_info[\"schools\"] = pd.to_datetime(country_info[\"schools\"])"
   ]
  },
  {
   "cell_type": "code",
   "execution_count": 91,
   "metadata": {},
   "outputs": [],
   "source": [
    "same_state = []\n",
    "for country in df[\"Province_State\"].unique():\n",
    "    if country in country_info.country.unique():\n",
    "        same_state.append(country)"
   ]
  },
  {
   "cell_type": "code",
   "execution_count": 93,
   "metadata": {},
   "outputs": [],
   "source": [
    "country_to_state_country = {}\n",
    "for state in same_state:\n",
    "    #print(state)\n",
    "    #print(df[df[\"Province/State\"]==state][\"Country/Region\"].unique())\n",
    "    #print(\"----\")\n",
    "    country_to_state_country[state] = df[df[\"Province_State\"]==state][\"Country_Region\"].unique()[0]+\"_\"+state\n",
    "\n",
    "country_info['country'] = country_info.country.apply(lambda x : rename_countries(x, country_to_state_country))\n",
    "\n",
    "coutry_merge_info = country_info[[\"country\", \"density\", \"urbanpop\", \"hospibed\", \"lung\", \"femalelung\", \"malelung\"]]\n",
    "\n",
    "cols_median = [\"density\", \"urbanpop\", \"hospibed\", \"lung\", \"femalelung\", \"malelung\"]\n",
    "coutry_merge_info.loc[:, cols_median] = coutry_merge_info.loc[:, cols_median].apply(lambda x: x.fillna(x.median()),axis=0)"
   ]
  },
  {
   "cell_type": "code",
   "execution_count": 99,
   "metadata": {},
   "outputs": [],
   "source": [
    "merged = df.merge(coutry_merge_info, left_on=\"Country_Region\", right_on=\"country\", how=\"left\")\n",
    "merged.loc[:, cols_median] = merged.loc[:, cols_median].apply(lambda x: x.fillna(x.median()),axis=0)\n",
    "\n",
    "country_dates_info = country_info[[\"country\", \"restrictions\", \"quarantine\", \"schools\"]]"
   ]
  },
  {
   "cell_type": "code",
   "execution_count": 100,
   "metadata": {},
   "outputs": [
    {
     "output_type": "execute_result",
     "data": {
      "text/plain": "                 country restrictions quarantine    schools\n0            Afghanistan          NaT        NaT        NaT\n1                Albania          NaT        NaT        NaT\n2                Algeria          NaT        NaT        NaT\n3                Andorra          NaT        NaT        NaT\n4    Antigua and Barbuda          NaT        NaT        NaT\n..                   ...          ...        ...        ...\n244                   US   2020-03-15 2020-03-23 2020-03-15\n245                   US   2020-03-15        NaT 2020-03-16\n246                   US   2020-03-17 2020-03-24 2020-03-17\n247                   US   2020-03-17 2020-03-25 2020-03-18\n248                   US   2020-03-19        NaT 2020-03-15\n\n[249 rows x 4 columns]",
      "text/html": "<div>\n<style scoped>\n    .dataframe tbody tr th:only-of-type {\n        vertical-align: middle;\n    }\n\n    .dataframe tbody tr th {\n        vertical-align: top;\n    }\n\n    .dataframe thead th {\n        text-align: right;\n    }\n</style>\n<table border=\"1\" class=\"dataframe\">\n  <thead>\n    <tr style=\"text-align: right;\">\n      <th></th>\n      <th>country</th>\n      <th>restrictions</th>\n      <th>quarantine</th>\n      <th>schools</th>\n    </tr>\n  </thead>\n  <tbody>\n    <tr>\n      <th>0</th>\n      <td>Afghanistan</td>\n      <td>NaT</td>\n      <td>NaT</td>\n      <td>NaT</td>\n    </tr>\n    <tr>\n      <th>1</th>\n      <td>Albania</td>\n      <td>NaT</td>\n      <td>NaT</td>\n      <td>NaT</td>\n    </tr>\n    <tr>\n      <th>2</th>\n      <td>Algeria</td>\n      <td>NaT</td>\n      <td>NaT</td>\n      <td>NaT</td>\n    </tr>\n    <tr>\n      <th>3</th>\n      <td>Andorra</td>\n      <td>NaT</td>\n      <td>NaT</td>\n      <td>NaT</td>\n    </tr>\n    <tr>\n      <th>4</th>\n      <td>Antigua and Barbuda</td>\n      <td>NaT</td>\n      <td>NaT</td>\n      <td>NaT</td>\n    </tr>\n    <tr>\n      <th>...</th>\n      <td>...</td>\n      <td>...</td>\n      <td>...</td>\n      <td>...</td>\n    </tr>\n    <tr>\n      <th>244</th>\n      <td>US</td>\n      <td>2020-03-15</td>\n      <td>2020-03-23</td>\n      <td>2020-03-15</td>\n    </tr>\n    <tr>\n      <th>245</th>\n      <td>US</td>\n      <td>2020-03-15</td>\n      <td>NaT</td>\n      <td>2020-03-16</td>\n    </tr>\n    <tr>\n      <th>246</th>\n      <td>US</td>\n      <td>2020-03-17</td>\n      <td>2020-03-24</td>\n      <td>2020-03-17</td>\n    </tr>\n    <tr>\n      <th>247</th>\n      <td>US</td>\n      <td>2020-03-17</td>\n      <td>2020-03-25</td>\n      <td>2020-03-18</td>\n    </tr>\n    <tr>\n      <th>248</th>\n      <td>US</td>\n      <td>2020-03-19</td>\n      <td>NaT</td>\n      <td>2020-03-15</td>\n    </tr>\n  </tbody>\n</table>\n<p>249 rows × 4 columns</p>\n</div>"
     },
     "metadata": {},
     "execution_count": 100
    }
   ],
   "source": [
    "country_dates_info"
   ]
  },
  {
   "cell_type": "code",
   "execution_count": 101,
   "metadata": {},
   "outputs": [],
   "source": [
    "def update_dates(a_df, col_update):\n",
    "    \"\"\"\n",
    "    This creates a boolean time series with one after the start of confinements (different types : schools, restrictions or quarantine)\n",
    "    \"\"\"\n",
    "    gpdf = a_df.groupby(\"Country_Region\")\n",
    "    new_col = gpdf.apply(lambda df : df[col_update].notnull().cumsum()).reset_index(drop=True)\n",
    "    a_df[col_update] = new_col"
   ]
  },
  {
   "cell_type": "code",
   "execution_count": 103,
   "metadata": {
    "tags": []
   },
   "outputs": [
    {
     "output_type": "stream",
     "name": "stdout",
     "text": "(21560, 36)\n(21560, 38)\n(21560, 40)\n"
    }
   ],
   "source": [
    "for col in [\"restrictions\", \"quarantine\", \"schools\"]:\n",
    "    print(merged.shape)\n",
    "    merged = merged.merge(country_dates_info[[\"country\", col]],\n",
    "                          left_on=[\"Country_Region\", \"Date\"],\n",
    "                          right_on=[\"country\", col],\n",
    "                          how=\"left\",\n",
    "                          )\n",
    "    update_dates(merged, col)"
   ]
  },
  {
   "cell_type": "code",
   "execution_count": 105,
   "metadata": {},
   "outputs": [
    {
     "output_type": "execute_result",
     "data": {
      "text/plain": "          Id Province_State Country_Region       Date  ConfirmedCases  \\\n0          1            NaN    Afghanistan 2020-01-22             0.0   \n1          2            NaN    Afghanistan 2020-01-23             0.0   \n2          3            NaN    Afghanistan 2020-01-24             0.0   \n3          4            NaN    Afghanistan 2020-01-25             0.0   \n4          5            NaN    Afghanistan 2020-01-26             0.0   \n...      ...            ...            ...        ...             ...   \n21555  29366            NaN       Zimbabwe 2020-03-27             5.0   \n21556  29367            NaN       Zimbabwe 2020-03-28             7.0   \n21557  29368            NaN       Zimbabwe 2020-03-29             7.0   \n21558  29369            NaN       Zimbabwe 2020-03-30             7.0   \n21559  29370            NaN       Zimbabwe 2020-03-31             8.0   \n\n       Fatalities   age_0-4   age_5-9  age_10-14  age_15-19  ...  hospibed  \\\n0             0.0  0.145717  0.139133   0.133376   0.118922  ...       0.5   \n1             0.0  0.145717  0.139133   0.133376   0.118922  ...       0.5   \n2             0.0  0.145717  0.139133   0.133376   0.118922  ...       0.5   \n3             0.0  0.145717  0.139133   0.133376   0.118922  ...       0.5   \n4             0.0  0.145717  0.139133   0.133376   0.118922  ...       0.5   \n...           ...       ...       ...        ...        ...  ...       ...   \n21555         1.0  0.141119  0.148740   0.129252   0.110267  ...       1.7   \n21556         1.0  0.141119  0.148740   0.129252   0.110267  ...       1.7   \n21557         1.0  0.141119  0.148740   0.129252   0.110267  ...       1.7   \n21558         1.0  0.141119  0.148740   0.129252   0.110267  ...       1.7   \n21559         1.0  0.141119  0.148740   0.129252   0.110267  ...       1.7   \n\n        lung  femalelung  malelung  country_y  restrictions  country_x  \\\n0      37.62       36.31     39.33        NaN             0        NaN   \n1      37.62       36.31     39.33        NaN             0        NaN   \n2      37.62       36.31     39.33        NaN             0        NaN   \n3      37.62       36.31     39.33        NaN             0        NaN   \n4      37.62       36.31     39.33        NaN             0        NaN   \n...      ...         ...       ...        ...           ...        ...   \n21555  22.53       19.31     26.47        NaN             0        NaN   \n21556  22.53       19.31     26.47        NaN             0        NaN   \n21557  22.53       19.31     26.47        NaN             0        NaN   \n21558  22.53       19.31     26.47        NaN             0        NaN   \n21559  22.53       19.31     26.47        NaN             0        NaN   \n\n       quarantine  country_y  schools  \n0               0        NaN        0  \n1               0        NaN        0  \n2               0        NaN        0  \n3               0        NaN        0  \n4               0        NaN        0  \n...           ...        ...      ...  \n21555           0        NaN        0  \n21556           0        NaN        0  \n21557           0        NaN        0  \n21558           0        NaN        0  \n21559           0        NaN        0  \n\n[21560 rows x 42 columns]",
      "text/html": "<div>\n<style scoped>\n    .dataframe tbody tr th:only-of-type {\n        vertical-align: middle;\n    }\n\n    .dataframe tbody tr th {\n        vertical-align: top;\n    }\n\n    .dataframe thead th {\n        text-align: right;\n    }\n</style>\n<table border=\"1\" class=\"dataframe\">\n  <thead>\n    <tr style=\"text-align: right;\">\n      <th></th>\n      <th>Id</th>\n      <th>Province_State</th>\n      <th>Country_Region</th>\n      <th>Date</th>\n      <th>ConfirmedCases</th>\n      <th>Fatalities</th>\n      <th>age_0-4</th>\n      <th>age_5-9</th>\n      <th>age_10-14</th>\n      <th>age_15-19</th>\n      <th>...</th>\n      <th>hospibed</th>\n      <th>lung</th>\n      <th>femalelung</th>\n      <th>malelung</th>\n      <th>country_y</th>\n      <th>restrictions</th>\n      <th>country_x</th>\n      <th>quarantine</th>\n      <th>country_y</th>\n      <th>schools</th>\n    </tr>\n  </thead>\n  <tbody>\n    <tr>\n      <th>0</th>\n      <td>1</td>\n      <td>NaN</td>\n      <td>Afghanistan</td>\n      <td>2020-01-22</td>\n      <td>0.0</td>\n      <td>0.0</td>\n      <td>0.145717</td>\n      <td>0.139133</td>\n      <td>0.133376</td>\n      <td>0.118922</td>\n      <td>...</td>\n      <td>0.5</td>\n      <td>37.62</td>\n      <td>36.31</td>\n      <td>39.33</td>\n      <td>NaN</td>\n      <td>0</td>\n      <td>NaN</td>\n      <td>0</td>\n      <td>NaN</td>\n      <td>0</td>\n    </tr>\n    <tr>\n      <th>1</th>\n      <td>2</td>\n      <td>NaN</td>\n      <td>Afghanistan</td>\n      <td>2020-01-23</td>\n      <td>0.0</td>\n      <td>0.0</td>\n      <td>0.145717</td>\n      <td>0.139133</td>\n      <td>0.133376</td>\n      <td>0.118922</td>\n      <td>...</td>\n      <td>0.5</td>\n      <td>37.62</td>\n      <td>36.31</td>\n      <td>39.33</td>\n      <td>NaN</td>\n      <td>0</td>\n      <td>NaN</td>\n      <td>0</td>\n      <td>NaN</td>\n      <td>0</td>\n    </tr>\n    <tr>\n      <th>2</th>\n      <td>3</td>\n      <td>NaN</td>\n      <td>Afghanistan</td>\n      <td>2020-01-24</td>\n      <td>0.0</td>\n      <td>0.0</td>\n      <td>0.145717</td>\n      <td>0.139133</td>\n      <td>0.133376</td>\n      <td>0.118922</td>\n      <td>...</td>\n      <td>0.5</td>\n      <td>37.62</td>\n      <td>36.31</td>\n      <td>39.33</td>\n      <td>NaN</td>\n      <td>0</td>\n      <td>NaN</td>\n      <td>0</td>\n      <td>NaN</td>\n      <td>0</td>\n    </tr>\n    <tr>\n      <th>3</th>\n      <td>4</td>\n      <td>NaN</td>\n      <td>Afghanistan</td>\n      <td>2020-01-25</td>\n      <td>0.0</td>\n      <td>0.0</td>\n      <td>0.145717</td>\n      <td>0.139133</td>\n      <td>0.133376</td>\n      <td>0.118922</td>\n      <td>...</td>\n      <td>0.5</td>\n      <td>37.62</td>\n      <td>36.31</td>\n      <td>39.33</td>\n      <td>NaN</td>\n      <td>0</td>\n      <td>NaN</td>\n      <td>0</td>\n      <td>NaN</td>\n      <td>0</td>\n    </tr>\n    <tr>\n      <th>4</th>\n      <td>5</td>\n      <td>NaN</td>\n      <td>Afghanistan</td>\n      <td>2020-01-26</td>\n      <td>0.0</td>\n      <td>0.0</td>\n      <td>0.145717</td>\n      <td>0.139133</td>\n      <td>0.133376</td>\n      <td>0.118922</td>\n      <td>...</td>\n      <td>0.5</td>\n      <td>37.62</td>\n      <td>36.31</td>\n      <td>39.33</td>\n      <td>NaN</td>\n      <td>0</td>\n      <td>NaN</td>\n      <td>0</td>\n      <td>NaN</td>\n      <td>0</td>\n    </tr>\n    <tr>\n      <th>...</th>\n      <td>...</td>\n      <td>...</td>\n      <td>...</td>\n      <td>...</td>\n      <td>...</td>\n      <td>...</td>\n      <td>...</td>\n      <td>...</td>\n      <td>...</td>\n      <td>...</td>\n      <td>...</td>\n      <td>...</td>\n      <td>...</td>\n      <td>...</td>\n      <td>...</td>\n      <td>...</td>\n      <td>...</td>\n      <td>...</td>\n      <td>...</td>\n      <td>...</td>\n      <td>...</td>\n    </tr>\n    <tr>\n      <th>21555</th>\n      <td>29366</td>\n      <td>NaN</td>\n      <td>Zimbabwe</td>\n      <td>2020-03-27</td>\n      <td>5.0</td>\n      <td>1.0</td>\n      <td>0.141119</td>\n      <td>0.148740</td>\n      <td>0.129252</td>\n      <td>0.110267</td>\n      <td>...</td>\n      <td>1.7</td>\n      <td>22.53</td>\n      <td>19.31</td>\n      <td>26.47</td>\n      <td>NaN</td>\n      <td>0</td>\n      <td>NaN</td>\n      <td>0</td>\n      <td>NaN</td>\n      <td>0</td>\n    </tr>\n    <tr>\n      <th>21556</th>\n      <td>29367</td>\n      <td>NaN</td>\n      <td>Zimbabwe</td>\n      <td>2020-03-28</td>\n      <td>7.0</td>\n      <td>1.0</td>\n      <td>0.141119</td>\n      <td>0.148740</td>\n      <td>0.129252</td>\n      <td>0.110267</td>\n      <td>...</td>\n      <td>1.7</td>\n      <td>22.53</td>\n      <td>19.31</td>\n      <td>26.47</td>\n      <td>NaN</td>\n      <td>0</td>\n      <td>NaN</td>\n      <td>0</td>\n      <td>NaN</td>\n      <td>0</td>\n    </tr>\n    <tr>\n      <th>21557</th>\n      <td>29368</td>\n      <td>NaN</td>\n      <td>Zimbabwe</td>\n      <td>2020-03-29</td>\n      <td>7.0</td>\n      <td>1.0</td>\n      <td>0.141119</td>\n      <td>0.148740</td>\n      <td>0.129252</td>\n      <td>0.110267</td>\n      <td>...</td>\n      <td>1.7</td>\n      <td>22.53</td>\n      <td>19.31</td>\n      <td>26.47</td>\n      <td>NaN</td>\n      <td>0</td>\n      <td>NaN</td>\n      <td>0</td>\n      <td>NaN</td>\n      <td>0</td>\n    </tr>\n    <tr>\n      <th>21558</th>\n      <td>29369</td>\n      <td>NaN</td>\n      <td>Zimbabwe</td>\n      <td>2020-03-30</td>\n      <td>7.0</td>\n      <td>1.0</td>\n      <td>0.141119</td>\n      <td>0.148740</td>\n      <td>0.129252</td>\n      <td>0.110267</td>\n      <td>...</td>\n      <td>1.7</td>\n      <td>22.53</td>\n      <td>19.31</td>\n      <td>26.47</td>\n      <td>NaN</td>\n      <td>0</td>\n      <td>NaN</td>\n      <td>0</td>\n      <td>NaN</td>\n      <td>0</td>\n    </tr>\n    <tr>\n      <th>21559</th>\n      <td>29370</td>\n      <td>NaN</td>\n      <td>Zimbabwe</td>\n      <td>2020-03-31</td>\n      <td>8.0</td>\n      <td>1.0</td>\n      <td>0.141119</td>\n      <td>0.148740</td>\n      <td>0.129252</td>\n      <td>0.110267</td>\n      <td>...</td>\n      <td>1.7</td>\n      <td>22.53</td>\n      <td>19.31</td>\n      <td>26.47</td>\n      <td>NaN</td>\n      <td>0</td>\n      <td>NaN</td>\n      <td>0</td>\n      <td>NaN</td>\n      <td>0</td>\n    </tr>\n  </tbody>\n</table>\n<p>21560 rows × 42 columns</p>\n</div>"
     },
     "metadata": {},
     "execution_count": 105
    }
   ],
   "source": [
    "merged"
   ]
  },
  {
   "cell_type": "code",
   "execution_count": 106,
   "metadata": {},
   "outputs": [],
   "source": [
    "drop_country_cols = [x for x in merged.columns if x.startswith(\"country_\")]\n",
    "merged.drop(columns=drop_country_cols, axis=1, inplace=True)"
   ]
  },
  {
   "cell_type": "code",
   "execution_count": 108,
   "metadata": {},
   "outputs": [],
   "source": [
    "merged.to_csv('enriched_covid_19.csv', index=None)"
   ]
  }
 ]
}